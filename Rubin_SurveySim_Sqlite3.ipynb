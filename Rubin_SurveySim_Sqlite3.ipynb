{
 "cells": [
  {
   "cell_type": "code",
   "execution_count": 138,
   "id": "invisible-baghdad",
   "metadata": {},
   "outputs": [],
   "source": [
    "import sqlite3\n",
    "import pandas as pd\n",
    "import numpy as np\n",
    "import skycoverage\n",
    "import matplotlib.pyplot as plt\n",
    "import json"
   ]
  },
  {
   "cell_type": "code",
   "execution_count": 45,
   "id": "3197e66f-c099-4028-92ba-0bd9408db64e",
   "metadata": {},
   "outputs": [],
   "source": [
    "from matplotlib.patches import Rectangle\n",
    "\n",
    "def plot_layers(X,Y,image,minra,mindec,ra_width,filter_name,limits=None,plot_base_name='Rubin_targets_'):\n",
    "    figure_path=\"./figures/\"\n",
    "    \n",
    "    filename = \"%s%s%s.png\" % (figure_path,plot_base_name,filter_name)\n",
    "    \n",
    "    result = np.where(image==np.max(image))\n",
    "\n",
    "    plt.close('all')\n",
    "    plt.figure()\n",
    "    if X.all()<0:\n",
    "        X=X+360\n",
    "    Z=np.ma.masked_equal(image,0)\n",
    "    cmp = plt.pcolormesh(X,Y,Z)\n",
    "    plt.grid()\n",
    "    \n",
    "    # Create a Rectangle patch   \n",
    "    print(minra, mindec, ra_width)\n",
    "    plt.gca().add_patch(Rectangle((ra-0.75/2.,dec-0.75/2.),0.75,0.75,\n",
    "                    angle=0,\n",
    "                    edgecolor='red',\n",
    "                    facecolor='none',\n",
    "                    lw=2))\n",
    "    \n",
    "    plt.xlim(max(X), min(X))\n",
    "    plt.ylim(min(Y), max(Y))\n",
    "    plt.title(f'Rubin {filter_name}')\n",
    "    #plt.axis('equal')\n",
    "    plt.xlabel('RA')\n",
    "    plt.ylabel('DEC')\n",
    "  #  plt.rcParams['axes.grid'] = False\n",
    "    plt.colorbar(label='# of Layers')\n",
    "   # plt.show()\n",
    "    plt.savefig(filename,dpi=200,facecolor=\"w\")"
   ]
  },
  {
   "cell_type": "code",
   "execution_count": 61,
   "id": "roman-holly",
   "metadata": {},
   "outputs": [],
   "source": [
    "# Set filepath \n",
    "baseline_filepath = './datasets/baseline_v2.0_10yrs.db'\n",
    "#baseline_filepath = './datasets/rubin_v2.0_cycle_14.db'\n",
    "# Create a SQL connection to our SQLite database\n",
    "con = sqlite3.connect(baseline_filepath)"
   ]
  },
  {
   "cell_type": "code",
   "execution_count": 62,
   "id": "personalized-phrase",
   "metadata": {},
   "outputs": [],
   "source": [
    "cursor = con.cursor()"
   ]
  },
  {
   "cell_type": "code",
   "execution_count": 63,
   "id": "wound-commitment",
   "metadata": {},
   "outputs": [],
   "source": [
    "# Using SELECT * Returns all results query\n",
    "sql='''SELECT * FROM OBSERVATIONS'''"
   ]
  },
  {
   "cell_type": "code",
   "execution_count": 80,
   "id": "931d9cae-a92f-4eed-8533-173a0f065fb8",
   "metadata": {},
   "outputs": [],
   "source": [
    "# Using SELECT * Returns all results query\n",
    "sql='''SELECT observationId, fieldRA, fieldDec, \n",
    "observationStartMJD, visitExposureTime, filter, rotSkyPos, seeingFwhmEff, skyBrightness FROM OBSERVATIONS '''"
   ]
  },
  {
   "cell_type": "code",
   "execution_count": 81,
   "id": "9e1f0bb8-f259-4c4d-80c7-cad8b1cb737d",
   "metadata": {},
   "outputs": [
    {
     "name": "stdout",
     "output_type": "stream",
     "text": [
      "[('observations',), ('info',), ('Proposal',)]\n"
     ]
    }
   ],
   "source": [
    "cursor.execute(\"SELECT name FROM sqlite_master WHERE type='table';\")\n",
    "print(cursor.fetchall())"
   ]
  },
  {
   "cell_type": "code",
   "execution_count": 82,
   "id": "97ec6bfd-5014-4281-bc8d-39bb69e97c31",
   "metadata": {},
   "outputs": [],
   "source": [
    "data = pd.read_sql(sql, con)"
   ]
  },
  {
   "cell_type": "code",
   "execution_count": 104,
   "id": "53a466cf-6a12-40dc-a092-b0db8c630682",
   "metadata": {},
   "outputs": [],
   "source": [
    "# Delete all rows where filter = 'y'\n",
    "\n",
    "data = data[data['filter'] != 'y']"
   ]
  },
  {
   "cell_type": "code",
   "execution_count": 85,
   "id": "98a5efcd-8da3-405b-ad73-e64b678f2adf",
   "metadata": {},
   "outputs": [
    {
     "data": {
      "text/html": [
       "<div>\n",
       "<style scoped>\n",
       "    .dataframe tbody tr th:only-of-type {\n",
       "        vertical-align: middle;\n",
       "    }\n",
       "\n",
       "    .dataframe tbody tr th {\n",
       "        vertical-align: top;\n",
       "    }\n",
       "\n",
       "    .dataframe thead th {\n",
       "        text-align: right;\n",
       "    }\n",
       "</style>\n",
       "<table border=\"1\" class=\"dataframe\">\n",
       "  <thead>\n",
       "    <tr style=\"text-align: right;\">\n",
       "      <th></th>\n",
       "      <th>observationId</th>\n",
       "      <th>fieldRA</th>\n",
       "      <th>fieldDec</th>\n",
       "      <th>observationStartMJD</th>\n",
       "      <th>visitExposureTime</th>\n",
       "      <th>filter</th>\n",
       "      <th>rotSkyPos</th>\n",
       "      <th>seeingFwhmEff</th>\n",
       "      <th>skyBrightness</th>\n",
       "    </tr>\n",
       "  </thead>\n",
       "  <tbody>\n",
       "    <tr>\n",
       "      <th>770</th>\n",
       "      <td>770</td>\n",
       "      <td>355.783117</td>\n",
       "      <td>-79.644018</td>\n",
       "      <td>60218.356921</td>\n",
       "      <td>30.0</td>\n",
       "      <td>r</td>\n",
       "      <td>326.536276</td>\n",
       "      <td>2.035976</td>\n",
       "      <td>18.542962</td>\n",
       "    </tr>\n",
       "    <tr>\n",
       "      <th>771</th>\n",
       "      <td>771</td>\n",
       "      <td>338.205026</td>\n",
       "      <td>-80.387745</td>\n",
       "      <td>60218.357414</td>\n",
       "      <td>30.0</td>\n",
       "      <td>r</td>\n",
       "      <td>308.756911</td>\n",
       "      <td>1.920335</td>\n",
       "      <td>18.486173</td>\n",
       "    </tr>\n",
       "    <tr>\n",
       "      <th>772</th>\n",
       "      <td>772</td>\n",
       "      <td>349.857034</td>\n",
       "      <td>-82.633511</td>\n",
       "      <td>60218.357890</td>\n",
       "      <td>30.0</td>\n",
       "      <td>r</td>\n",
       "      <td>321.456299</td>\n",
       "      <td>1.865481</td>\n",
       "      <td>18.523799</td>\n",
       "    </tr>\n",
       "    <tr>\n",
       "      <th>773</th>\n",
       "      <td>773</td>\n",
       "      <td>336.319706</td>\n",
       "      <td>-85.448079</td>\n",
       "      <td>60218.358364</td>\n",
       "      <td>30.0</td>\n",
       "      <td>r</td>\n",
       "      <td>309.454935</td>\n",
       "      <td>1.986832</td>\n",
       "      <td>18.502535</td>\n",
       "    </tr>\n",
       "    <tr>\n",
       "      <th>774</th>\n",
       "      <td>774</td>\n",
       "      <td>9.600147</td>\n",
       "      <td>-87.474001</td>\n",
       "      <td>60218.358911</td>\n",
       "      <td>30.0</td>\n",
       "      <td>r</td>\n",
       "      <td>343.903980</td>\n",
       "      <td>2.046160</td>\n",
       "      <td>18.539997</td>\n",
       "    </tr>\n",
       "    <tr>\n",
       "      <th>...</th>\n",
       "      <td>...</td>\n",
       "      <td>...</td>\n",
       "      <td>...</td>\n",
       "      <td>...</td>\n",
       "      <td>...</td>\n",
       "      <td>...</td>\n",
       "      <td>...</td>\n",
       "      <td>...</td>\n",
       "      <td>...</td>\n",
       "    </tr>\n",
       "    <tr>\n",
       "      <th>2086947</th>\n",
       "      <td>2086947</td>\n",
       "      <td>317.190740</td>\n",
       "      <td>0.447954</td>\n",
       "      <td>63870.089896</td>\n",
       "      <td>30.0</td>\n",
       "      <td>i</td>\n",
       "      <td>171.115865</td>\n",
       "      <td>1.268934</td>\n",
       "      <td>20.119955</td>\n",
       "    </tr>\n",
       "    <tr>\n",
       "      <th>2086948</th>\n",
       "      <td>2086948</td>\n",
       "      <td>319.498704</td>\n",
       "      <td>-1.062584</td>\n",
       "      <td>63870.090343</td>\n",
       "      <td>30.0</td>\n",
       "      <td>i</td>\n",
       "      <td>168.772497</td>\n",
       "      <td>1.250927</td>\n",
       "      <td>20.143930</td>\n",
       "    </tr>\n",
       "    <tr>\n",
       "      <th>2086949</th>\n",
       "      <td>2086949</td>\n",
       "      <td>324.149588</td>\n",
       "      <td>-4.092218</td>\n",
       "      <td>63870.090797</td>\n",
       "      <td>30.0</td>\n",
       "      <td>i</td>\n",
       "      <td>162.740451</td>\n",
       "      <td>1.273916</td>\n",
       "      <td>20.160632</td>\n",
       "    </tr>\n",
       "    <tr>\n",
       "      <th>2086950</th>\n",
       "      <td>2086950</td>\n",
       "      <td>326.501441</td>\n",
       "      <td>-5.607661</td>\n",
       "      <td>63870.091243</td>\n",
       "      <td>30.0</td>\n",
       "      <td>i</td>\n",
       "      <td>159.160192</td>\n",
       "      <td>1.261488</td>\n",
       "      <td>20.177347</td>\n",
       "    </tr>\n",
       "    <tr>\n",
       "      <th>2086951</th>\n",
       "      <td>2086951</td>\n",
       "      <td>329.194503</td>\n",
       "      <td>-4.004388</td>\n",
       "      <td>63870.091694</td>\n",
       "      <td>30.0</td>\n",
       "      <td>i</td>\n",
       "      <td>153.755379</td>\n",
       "      <td>1.269685</td>\n",
       "      <td>20.169323</td>\n",
       "    </tr>\n",
       "  </tbody>\n",
       "</table>\n",
       "<p>1695348 rows × 9 columns</p>\n",
       "</div>"
      ],
      "text/plain": [
       "         observationId     fieldRA   fieldDec  observationStartMJD  \\\n",
       "770                770  355.783117 -79.644018         60218.356921   \n",
       "771                771  338.205026 -80.387745         60218.357414   \n",
       "772                772  349.857034 -82.633511         60218.357890   \n",
       "773                773  336.319706 -85.448079         60218.358364   \n",
       "774                774    9.600147 -87.474001         60218.358911   \n",
       "...                ...         ...        ...                  ...   \n",
       "2086947        2086947  317.190740   0.447954         63870.089896   \n",
       "2086948        2086948  319.498704  -1.062584         63870.090343   \n",
       "2086949        2086949  324.149588  -4.092218         63870.090797   \n",
       "2086950        2086950  326.501441  -5.607661         63870.091243   \n",
       "2086951        2086951  329.194503  -4.004388         63870.091694   \n",
       "\n",
       "         visitExposureTime filter   rotSkyPos  seeingFwhmEff  skyBrightness  \n",
       "770                   30.0      r  326.536276       2.035976      18.542962  \n",
       "771                   30.0      r  308.756911       1.920335      18.486173  \n",
       "772                   30.0      r  321.456299       1.865481      18.523799  \n",
       "773                   30.0      r  309.454935       1.986832      18.502535  \n",
       "774                   30.0      r  343.903980       2.046160      18.539997  \n",
       "...                    ...    ...         ...            ...            ...  \n",
       "2086947               30.0      i  171.115865       1.268934      20.119955  \n",
       "2086948               30.0      i  168.772497       1.250927      20.143930  \n",
       "2086949               30.0      i  162.740451       1.273916      20.160632  \n",
       "2086950               30.0      i  159.160192       1.261488      20.177347  \n",
       "2086951               30.0      i  153.755379       1.269685      20.169323  \n",
       "\n",
       "[1695348 rows x 9 columns]"
      ]
     },
     "execution_count": 85,
     "metadata": {},
     "output_type": "execute_result"
    }
   ],
   "source": [
    "data"
   ]
  },
  {
   "cell_type": "code",
   "execution_count": 26,
   "id": "adapted-selection",
   "metadata": {},
   "outputs": [],
   "source": [
    "sc8_targetfile ='./datasets/targets_rubin_all_sc8_official.json'"
   ]
  },
  {
   "cell_type": "code",
   "execution_count": 28,
   "id": "friendly-original",
   "metadata": {},
   "outputs": [],
   "source": [
    "rubin_targets_sc8 = json.load(open(sc8_targetfile))"
   ]
  },
  {
   "cell_type": "code",
   "execution_count": 29,
   "id": "cardiovascular-principal",
   "metadata": {},
   "outputs": [],
   "source": [
    "for target in rubin_targets_sc8:\n",
    "    for k, v in target.items():\n",
    "        if target[k] is float:\n",
    "            target[k] = round(float(v),6)"
   ]
  },
  {
   "cell_type": "code",
   "execution_count": 30,
   "id": "final-oracle",
   "metadata": {},
   "outputs": [
    {
     "data": {
      "text/plain": [
       "dict_keys(['Survey', 'FilterName', 'Id', 'RA', 'Dec', 'ExpTime', 'SeeingFWHM', 'PSFFile', 'MJD-OBS', 'DATE', 'Zeropoints', 'BackgroundMags', 'PA'])"
      ]
     },
     "execution_count": 30,
     "metadata": {},
     "output_type": "execute_result"
    }
   ],
   "source": [
    "target.keys()"
   ]
  },
  {
   "cell_type": "raw",
   "id": "a043e909-86f4-409a-a244-ca0d37eecd2e",
   "metadata": {},
   "source": []
  },
  {
   "cell_type": "code",
   "execution_count": 155,
   "id": "b3f5ae67-911c-4d63-9dcd-282370cca227",
   "metadata": {},
   "outputs": [
    {
     "data": {
      "text/plain": [
       "'LSST'"
      ]
     },
     "execution_count": 155,
     "metadata": {},
     "output_type": "execute_result"
    }
   ],
   "source": [
    "rubin_targets_sc8[0]['Survey']"
   ]
  },
  {
   "cell_type": "code",
   "execution_count": 18,
   "id": "western-assist",
   "metadata": {},
   "outputs": [],
   "source": [
    "# Get the following info dict_keys(['FilterName', 'Id', 'RA', 'Dec', 'ExpTime', 'SeeingFWHM', 'PSFFile', 'MJD-OBS', 'DATE', 'Zeropoints', 'BackgroundMags', 'PA'])"
   ]
  },
  {
   "cell_type": "code",
   "execution_count": 19,
   "id": "lined-interaction",
   "metadata": {},
   "outputs": [],
   "source": [
    "# 'observationId', 'fieldRA', 'fieldDec', 'observationStartMJD', 'visitExposureTime', 'filter', 'rotSkyPos', 'seeingFwhmEff',"
   ]
  },
  {
   "cell_type": "code",
   "execution_count": 93,
   "id": "quiet-smooth",
   "metadata": {},
   "outputs": [
    {
     "name": "stdout",
     "output_type": "stream",
     "text": [
      "231.65239775 30.4257185\n"
     ]
    },
    {
     "data": {
      "text/plain": [
       "<matplotlib.legend.Legend at 0x15cff80a0>"
      ]
     },
     "execution_count": 93,
     "metadata": {},
     "output_type": "execute_result"
    },
    {
     "data": {
      "image/png": "[encoded data removed]",
      "text/plain": [
       "<Figure size 432x288 with 1 Axes>"
      ]
     },
     "metadata": {
      "needs_background": "light"
     },
     "output_type": "display_data"
    }
   ],
   "source": [
    "# Euclid pointings\n",
    "euclid_pointings=[(232.206456, 30.240056),\n",
    " (231.812144, 31.196085),\n",
    " (231.466027, 30.48791),\n",
    " (231.124964, 29.778823)]\n",
    "\n",
    "ra=[]\n",
    "dec=[]\n",
    "#compute centroid of euclid pilot pointings\n",
    "for index, euc_pointing in enumerate(euclid_pointings):\n",
    "    ra.append(euc_pointing[0])\n",
    "    dec.append(euc_pointing[1])    \n",
    "print(np.mean(ra), np.mean(dec))\n",
    "pilot_pointing = [np.mean(ra), np.mean(dec)]\n",
    "plt.plot(data['fieldRA'],data['fieldDec'], 'o')\n",
    "plt.plot(pilot_pointing[0],pilot_pointing[1] , 'rx', label='Pilot Pointing')\n",
    "plt.xlabel('RA')\n",
    "plt.ylabel('DEC')\n",
    "plt.legend()"
   ]
  },
  {
   "cell_type": "code",
   "execution_count": 94,
   "id": "f4780022-17b1-4766-aa17-7b5b5404bbe4",
   "metadata": {},
   "outputs": [
    {
     "data": {
      "text/plain": [
       "(array([[0., 0., 0., ..., 0., 0., 0.],\n",
       "        [0., 0., 0., ..., 0., 0., 0.],\n",
       "        [0., 0., 1., ..., 0., 0., 0.],\n",
       "        ...,\n",
       "        [0., 0., 0., ..., 0., 0., 0.],\n",
       "        [0., 0., 0., ..., 0., 0., 0.],\n",
       "        [0., 0., 0., ..., 0., 0., 0.]]),\n",
       " array([5.90633443e-04, 1.80058481e+00, 3.60057898e+00, 5.40057316e+00,\n",
       "        7.20056734e+00, 9.00056151e+00, 1.08005557e+01, 1.26005499e+01,\n",
       "        1.44005440e+01, 1.62005382e+01, 1.80005324e+01, 1.98005266e+01,\n",
       "        2.16005207e+01, 2.34005149e+01, 2.52005091e+01, 2.70005033e+01,\n",
       "        2.88004974e+01, 3.06004916e+01, 3.24004858e+01, 3.42004800e+01,\n",
       "        3.60004741e+01, 3.78004683e+01, 3.96004625e+01, 4.14004567e+01,\n",
       "        4.32004508e+01, 4.50004450e+01, 4.68004392e+01, 4.86004334e+01,\n",
       "        5.04004276e+01, 5.22004217e+01, 5.40004159e+01, 5.58004101e+01,\n",
       "        5.76004043e+01, 5.94003984e+01, 6.12003926e+01, 6.30003868e+01,\n",
       "        6.48003810e+01, 6.66003751e+01, 6.84003693e+01, 7.02003635e+01,\n",
       "        7.20003577e+01, 7.38003518e+01, 7.56003460e+01, 7.74003402e+01,\n",
       "        7.92003344e+01, 8.10003285e+01, 8.28003227e+01, 8.46003169e+01,\n",
       "        8.64003111e+01, 8.82003052e+01, 9.00002994e+01, 9.18002936e+01,\n",
       "        9.36002878e+01, 9.54002819e+01, 9.72002761e+01, 9.90002703e+01,\n",
       "        1.00800264e+02, 1.02600259e+02, 1.04400253e+02, 1.06200247e+02,\n",
       "        1.08000241e+02, 1.09800235e+02, 1.11600230e+02, 1.13400224e+02,\n",
       "        1.15200218e+02, 1.17000212e+02, 1.18800206e+02, 1.20600200e+02,\n",
       "        1.22400195e+02, 1.24200189e+02, 1.26000183e+02, 1.27800177e+02,\n",
       "        1.29600171e+02, 1.31400165e+02, 1.33200160e+02, 1.35000154e+02,\n",
       "        1.36800148e+02, 1.38600142e+02, 1.40400136e+02, 1.42200131e+02,\n",
       "        1.44000125e+02, 1.45800119e+02, 1.47600113e+02, 1.49400107e+02,\n",
       "        1.51200101e+02, 1.53000096e+02, 1.54800090e+02, 1.56600084e+02,\n",
       "        1.58400078e+02, 1.60200072e+02, 1.62000066e+02, 1.63800061e+02,\n",
       "        1.65600055e+02, 1.67400049e+02, 1.69200043e+02, 1.71000037e+02,\n",
       "        1.72800031e+02, 1.74600026e+02, 1.76400020e+02, 1.78200014e+02,\n",
       "        1.80000008e+02, 1.81800002e+02, 1.83599997e+02, 1.85399991e+02,\n",
       "        1.87199985e+02, 1.88999979e+02, 1.90799973e+02, 1.92599967e+02,\n",
       "        1.94399962e+02, 1.96199956e+02, 1.97999950e+02, 1.99799944e+02,\n",
       "        2.01599938e+02, 2.03399932e+02, 2.05199927e+02, 2.06999921e+02,\n",
       "        2.08799915e+02, 2.10599909e+02, 2.12399903e+02, 2.14199898e+02,\n",
       "        2.15999892e+02, 2.17799886e+02, 2.19599880e+02, 2.21399874e+02,\n",
       "        2.23199868e+02, 2.24999863e+02, 2.26799857e+02, 2.28599851e+02,\n",
       "        2.30399845e+02, 2.32199839e+02, 2.33999833e+02, 2.35799828e+02,\n",
       "        2.37599822e+02, 2.39399816e+02, 2.41199810e+02, 2.42999804e+02,\n",
       "        2.44799799e+02, 2.46599793e+02, 2.48399787e+02, 2.50199781e+02,\n",
       "        2.51999775e+02, 2.53799769e+02, 2.55599764e+02, 2.57399758e+02,\n",
       "        2.59199752e+02, 2.60999746e+02, 2.62799740e+02, 2.64599734e+02,\n",
       "        2.66399729e+02, 2.68199723e+02, 2.69999717e+02, 2.71799711e+02,\n",
       "        2.73599705e+02, 2.75399700e+02, 2.77199694e+02, 2.78999688e+02,\n",
       "        2.80799682e+02, 2.82599676e+02, 2.84399670e+02, 2.86199665e+02,\n",
       "        2.87999659e+02, 2.89799653e+02, 2.91599647e+02, 2.93399641e+02,\n",
       "        2.95199635e+02, 2.96999630e+02, 2.98799624e+02, 3.00599618e+02,\n",
       "        3.02399612e+02, 3.04199606e+02, 3.05999600e+02, 3.07799595e+02,\n",
       "        3.09599589e+02, 3.11399583e+02, 3.13199577e+02, 3.14999571e+02,\n",
       "        3.16799566e+02, 3.18599560e+02, 3.20399554e+02, 3.22199548e+02,\n",
       "        3.23999542e+02, 3.25799536e+02, 3.27599531e+02, 3.29399525e+02,\n",
       "        3.31199519e+02, 3.32999513e+02, 3.34799507e+02, 3.36599501e+02,\n",
       "        3.38399496e+02, 3.40199490e+02, 3.41999484e+02, 3.43799478e+02,\n",
       "        3.45599472e+02, 3.47399467e+02, 3.49199461e+02, 3.50999455e+02,\n",
       "        3.52799449e+02, 3.54599443e+02, 3.56399437e+02, 3.58199432e+02,\n",
       "        3.59999426e+02]),\n",
       " array([-89.66056265, -89.03955365, -88.41854465, -87.79753565,\n",
       "        -87.17652665, -86.55551765, -85.93450865, -85.31349965,\n",
       "        -84.69249065, -84.07148165, -83.45047265, -82.82946366,\n",
       "        -82.20845466, -81.58744566, -80.96643666, -80.34542766,\n",
       "        -79.72441866, -79.10340966, -78.48240066, -77.86139166,\n",
       "        -77.24038266, -76.61937366, -75.99836466, -75.37735566,\n",
       "        -74.75634666, -74.13533766, -73.51432866, -72.89331966,\n",
       "        -72.27231066, -71.65130166, -71.03029266, -70.40928366,\n",
       "        -69.78827466, -69.16726566, -68.54625666, -67.92524766,\n",
       "        -67.30423866, -66.68322966, -66.06222066, -65.44121166,\n",
       "        -64.82020266, -64.19919366, -63.57818466, -62.95717567,\n",
       "        -62.33616667, -61.71515767, -61.09414867, -60.47313967,\n",
       "        -59.85213067, -59.23112167, -58.61011267, -57.98910367,\n",
       "        -57.36809467, -56.74708567, -56.12607667, -55.50506767,\n",
       "        -54.88405867, -54.26304967, -53.64204067, -53.02103167,\n",
       "        -52.40002267, -51.77901367, -51.15800467, -50.53699567,\n",
       "        -49.91598667, -49.29497767, -48.67396867, -48.05295967,\n",
       "        -47.43195067, -46.81094167, -46.18993267, -45.56892367,\n",
       "        -44.94791467, -44.32690567, -43.70589667, -43.08488768,\n",
       "        -42.46387868, -41.84286968, -41.22186068, -40.60085168,\n",
       "        -39.97984268, -39.35883368, -38.73782468, -38.11681568,\n",
       "        -37.49580668, -36.87479768, -36.25378868, -35.63277968,\n",
       "        -35.01177068, -34.39076168, -33.76975268, -33.14874368,\n",
       "        -32.52773468, -31.90672568, -31.28571668, -30.66470768,\n",
       "        -30.04369868, -29.42268968, -28.80168068, -28.18067168,\n",
       "        -27.55966268, -26.93865368, -26.31764468, -25.69663568,\n",
       "        -25.07562668, -24.45461768, -23.83360868, -23.21259969,\n",
       "        -22.59159069, -21.97058169, -21.34957269, -20.72856369,\n",
       "        -20.10755469, -19.48654569, -18.86553669, -18.24452769,\n",
       "        -17.62351869, -17.00250969, -16.38150069, -15.76049169,\n",
       "        -15.13948269, -14.51847369, -13.89746469, -13.27645569,\n",
       "        -12.65544669, -12.03443769, -11.41342869, -10.79241969,\n",
       "        -10.17141069,  -9.55040169,  -8.92939269,  -8.30838369,\n",
       "         -7.68737469,  -7.06636569,  -6.44535669,  -5.82434769,\n",
       "         -5.20333869,  -4.58232969,  -3.96132069,  -3.3403117 ,\n",
       "         -2.7193027 ,  -2.0982937 ,  -1.4772847 ,  -0.8562757 ,\n",
       "         -0.2352667 ,   0.3857423 ,   1.0067513 ,   1.6277603 ,\n",
       "          2.2487693 ,   2.8697783 ,   3.4907873 ,   4.1117963 ,\n",
       "          4.7328053 ,   5.3538143 ,   5.9748233 ,   6.5958323 ,\n",
       "          7.2168413 ,   7.8378503 ,   8.4588593 ,   9.0798683 ,\n",
       "          9.7008773 ,  10.3218863 ,  10.9428953 ,  11.5639043 ,\n",
       "         12.1849133 ,  12.8059223 ,  13.4269313 ,  14.0479403 ,\n",
       "         14.6689493 ,  15.2899583 ,  15.9109673 ,  16.53197629,\n",
       "         17.15298529,  17.77399429,  18.39500329,  19.01601229,\n",
       "         19.63702129,  20.25803029,  20.87903929,  21.50004829,\n",
       "         22.12105729,  22.74206629,  23.36307529,  23.98408429,\n",
       "         24.60509329,  25.22610229,  25.84711129,  26.46812029,\n",
       "         27.08912929,  27.71013829,  28.33114729,  28.95215629,\n",
       "         29.57316529,  30.19417429,  30.81518329,  31.43619229,\n",
       "         32.05720129,  32.67821029,  33.29921929,  33.92022829,\n",
       "         34.54123729]),\n",
       " <matplotlib.collections.QuadMesh at 0x15d23bc10>)"
      ]
     },
     "execution_count": 94,
     "metadata": {},
     "output_type": "execute_result"
    },
    {
     "data": {
      "image/png": "[encoded data removed]",
      "text/plain": [
       "<Figure size 432x288 with 1 Axes>"
      ]
     },
     "metadata": {
      "needs_background": "light"
     },
     "output_type": "display_data"
    }
   ],
   "source": [
    "plt.hist2d(data['fieldRA'],data['fieldDec'],bins=200,cmin=0,cmax=400)"
   ]
  },
  {
   "cell_type": "code",
   "execution_count": 35,
   "id": "1a0ce904-0284-461c-9839-2a9583c1afca",
   "metadata": {},
   "outputs": [],
   "source": [
    "#LSST FoV polygon\n",
    "# Opening JSON file\n",
    "lsst_filename='./datasets/lsst_polygon.json'\n",
    "\n",
    "def read_focal_plane(filename):\n",
    "    with open(filename) as f:\n",
    "        vertices = json.load(f)\n",
    "    polygon = np.array(vertices)\n",
    "    return polygon\n",
    "\n",
    "lsst_fov=read_focal_plane(lsst_filename)\n",
    "focalplane = skycoverage.close_polygon(lsst_fov)"
   ]
  },
  {
   "cell_type": "code",
   "execution_count": 36,
   "id": "68fd5fae-3386-4401-b601-6b792612602c",
   "metadata": {},
   "outputs": [],
   "source": [
    "# Draw Euclid box\n",
    "def meas_euclid_box(ctrRA,ctrDec,widthRA):\n",
    "    hwidth = widthRA/2.0\n",
    "    minRa = ctrRA + hwidth/np.cos((abs(ctrDec)+hwidth)*np.pi/180.0)\n",
    "    maxRa = ctrRA - hwidth/np.cos((abs(ctrDec)+hwidth)*np.pi/180.0)\n",
    "    \n",
    "    return minRa, maxRa\n"
   ]
  },
  {
   "cell_type": "code",
   "execution_count": 95,
   "id": "122c092a-4b65-49df-8e3d-1086c968dfdd",
   "metadata": {},
   "outputs": [
    {
     "name": "stdout",
     "output_type": "stream",
     "text": [
      "0.7601531126908299\n",
      "231.38007655634541 230.61992344365459\n",
      "-12.375 -5.625\n",
      "[232.88007655634541, 229.11992344365459]\n",
      "[-12.375, -5.625]\n"
     ]
    }
   ],
   "source": [
    "tol=3\n",
    "ra=231\n",
    "dec=-9\n",
    "euc_box_minRa, euc_box_maxRa = meas_euclid_box(np.mean(ra), np.mean(dec), 0.75)\n",
    "euc_box_minDec = np.mean(dec) - 0.75/2. - tol\n",
    "euc_box_maxDec = np.mean(dec) + 0.75/2. + tol\n",
    "ra_width= euc_box_minRa - euc_box_maxRa\n",
    "print(ra_width)\n",
    "print(euc_box_minRa, euc_box_maxRa)\n",
    "print(euc_box_minDec, euc_box_maxDec)\n",
    "euc_ra = [euc_box_minRa+tol/2., euc_box_maxRa-tol/2.]\n",
    "euc_dec = [euc_box_minDec, euc_box_maxDec]\n",
    "print(euc_ra)\n",
    "print(euc_dec)"
   ]
  },
  {
   "cell_type": "markdown",
   "id": "d8633823-5c8c-46c5-91c2-9e79ab3b1570",
   "metadata": {},
   "source": [
    "# Select Rubin data within boundaries of Euclid focalplane"
   ]
  },
  {
   "cell_type": "code",
   "execution_count": 96,
   "id": "ce96e69f-83b6-4f6a-b9bf-b730edc20b76",
   "metadata": {},
   "outputs": [],
   "source": [
    "rubin_ptgs_df = data[(data['fieldRA'] < euc_ra[0]) & (data['fieldRA'] > euc_ra[1])\n",
    "                    & (data['fieldDec'] > euc_dec[0]) & (data['fieldDec'] < euc_dec[1])]"
   ]
  },
  {
   "cell_type": "code",
   "execution_count": 97,
   "id": "e606a01e-1169-4810-8724-a76c4df109f1",
   "metadata": {},
   "outputs": [
    {
     "data": {
      "text/plain": [
       "<AxesSubplot:>"
      ]
     },
     "execution_count": 97,
     "metadata": {},
     "output_type": "execute_result"
    },
    {
     "data": {
      "image/png": "[encoded data removed]",
      "text/plain": [
       "<Figure size 432x288 with 1 Axes>"
      ]
     },
     "metadata": {
      "needs_background": "light"
     },
     "output_type": "display_data"
    }
   ],
   "source": [
    "rubin_ptgs_df['filter'].hist()"
   ]
  },
  {
   "cell_type": "code",
   "execution_count": 98,
   "id": "1fa06132-3a39-4bc8-b6be-9955682281a7",
   "metadata": {},
   "outputs": [
    {
     "data": {
      "text/plain": [
       "<matplotlib.patches.Rectangle at 0x15c79ffd0>"
      ]
     },
     "execution_count": 98,
     "metadata": {},
     "output_type": "execute_result"
    },
    {
     "data": {
      "image/png": "[encoded data removed]",
      "text/plain": [
       "<Figure size 432x288 with 1 Axes>"
      ]
     },
     "metadata": {
      "needs_background": "light"
     },
     "output_type": "display_data"
    }
   ],
   "source": [
    "#rubin_ptgs_df.groupby('filter').plot(kind='scatter', x='fieldRA', y='fieldDec')\n",
    "#rubin_ptgs_df.loc([rubin_ptgs_df.filter==cond['a'],['fieldRA', 'fieldDec']]).plot(kind='scatter', x='fieldRA', y='fieldDec'.format(**cond))\n",
    "df_u = rubin_ptgs_df.loc[rubin_ptgs_df['filter']=='u']\n",
    "df_u.plot(kind='scatter', x='fieldRA', y='fieldDec')\n",
    "plt.gca().add_patch(Rectangle((ra-ra_width/2.,dec-1.875/2.),ra_width,1.875,\n",
    "                    angle=0,\n",
    "                    edgecolor='red',\n",
    "                    facecolor='none',\n",
    "                    lw=2))"
   ]
  },
  {
   "cell_type": "code",
   "execution_count": 99,
   "id": "16430fa4-ebec-49ce-914f-5da9955408d4",
   "metadata": {},
   "outputs": [
    {
     "data": {
      "text/plain": [
       "<matplotlib.patches.Rectangle at 0x15c8f7dc0>"
      ]
     },
     "execution_count": 99,
     "metadata": {},
     "output_type": "execute_result"
    },
    {
     "data": {
      "image/png": "[encoded data removed]",
      "text/plain": [
       "<Figure size 432x288 with 1 Axes>"
      ]
     },
     "metadata": {
      "needs_background": "light"
     },
     "output_type": "display_data"
    }
   ],
   "source": [
    "#rubin_ptgs_df.groupby('filter').plot(kind='scatter', x='fieldRA', y='fieldDec')\n",
    "#rubin_ptgs_df.loc([rubin_ptgs_df.filter==cond['a'],['fieldRA', 'fieldDec']]).plot(kind='scatter', x='fieldRA', y='fieldDec'.format(**cond))\n",
    "df_g = rubin_ptgs_df.loc[rubin_ptgs_df['filter']=='g']\n",
    "df_g.plot(kind='scatter', x='fieldRA', y='fieldDec')\n",
    "plt.gca().add_patch(Rectangle((ra-ra_width/2.,dec-1.875/2.),ra_width,1.875,\n",
    "                    angle=0,\n",
    "                    edgecolor='red',\n",
    "                    facecolor='none',\n",
    "                    lw=2))"
   ]
  },
  {
   "cell_type": "code",
   "execution_count": 100,
   "id": "c3cbb999-79e9-410e-befe-9fa4f261c913",
   "metadata": {},
   "outputs": [
    {
     "data": {
      "text/html": [
       "<div>\n",
       "<style scoped>\n",
       "    .dataframe tbody tr th:only-of-type {\n",
       "        vertical-align: middle;\n",
       "    }\n",
       "\n",
       "    .dataframe tbody tr th {\n",
       "        vertical-align: top;\n",
       "    }\n",
       "\n",
       "    .dataframe thead th {\n",
       "        text-align: right;\n",
       "    }\n",
       "</style>\n",
       "<table border=\"1\" class=\"dataframe\">\n",
       "  <thead>\n",
       "    <tr style=\"text-align: right;\">\n",
       "      <th></th>\n",
       "      <th>observationId</th>\n",
       "      <th>fieldRA</th>\n",
       "      <th>fieldDec</th>\n",
       "      <th>observationStartMJD</th>\n",
       "      <th>visitExposureTime</th>\n",
       "      <th>filter</th>\n",
       "      <th>rotSkyPos</th>\n",
       "      <th>seeingFwhmEff</th>\n",
       "      <th>skyBrightness</th>\n",
       "    </tr>\n",
       "  </thead>\n",
       "  <tbody>\n",
       "    <tr>\n",
       "      <th>105769</th>\n",
       "      <td>105769</td>\n",
       "      <td>232.340337</td>\n",
       "      <td>-10.696588</td>\n",
       "      <td>60377.393649</td>\n",
       "      <td>30.0</td>\n",
       "      <td>i</td>\n",
       "      <td>236.087601</td>\n",
       "      <td>0.957506</td>\n",
       "      <td>20.201387</td>\n",
       "    </tr>\n",
       "    <tr>\n",
       "      <th>105770</th>\n",
       "      <td>105770</td>\n",
       "      <td>230.430099</td>\n",
       "      <td>-8.581386</td>\n",
       "      <td>60377.394097</td>\n",
       "      <td>30.0</td>\n",
       "      <td>i</td>\n",
       "      <td>239.404933</td>\n",
       "      <td>0.967659</td>\n",
       "      <td>20.186066</td>\n",
       "    </tr>\n",
       "    <tr>\n",
       "      <th>107443</th>\n",
       "      <td>107443</td>\n",
       "      <td>231.952764</td>\n",
       "      <td>-6.958790</td>\n",
       "      <td>60379.370851</td>\n",
       "      <td>30.0</td>\n",
       "      <td>i</td>\n",
       "      <td>245.058440</td>\n",
       "      <td>1.151104</td>\n",
       "      <td>20.275408</td>\n",
       "    </tr>\n",
       "    <tr>\n",
       "      <th>107465</th>\n",
       "      <td>107465</td>\n",
       "      <td>231.952764</td>\n",
       "      <td>-6.958790</td>\n",
       "      <td>60379.382516</td>\n",
       "      <td>30.0</td>\n",
       "      <td>r</td>\n",
       "      <td>254.205058</td>\n",
       "      <td>0.881952</td>\n",
       "      <td>20.977320</td>\n",
       "    </tr>\n",
       "    <tr>\n",
       "      <th>107495</th>\n",
       "      <td>107495</td>\n",
       "      <td>230.296529</td>\n",
       "      <td>-9.467088</td>\n",
       "      <td>60379.396567</td>\n",
       "      <td>30.0</td>\n",
       "      <td>r</td>\n",
       "      <td>269.851040</td>\n",
       "      <td>1.123513</td>\n",
       "      <td>20.872645</td>\n",
       "    </tr>\n",
       "    <tr>\n",
       "      <th>...</th>\n",
       "      <td>...</td>\n",
       "      <td>...</td>\n",
       "      <td>...</td>\n",
       "      <td>...</td>\n",
       "      <td>...</td>\n",
       "      <td>...</td>\n",
       "      <td>...</td>\n",
       "      <td>...</td>\n",
       "      <td>...</td>\n",
       "    </tr>\n",
       "    <tr>\n",
       "      <th>2058974</th>\n",
       "      <td>2058974</td>\n",
       "      <td>231.477967</td>\n",
       "      <td>-6.049258</td>\n",
       "      <td>63822.087519</td>\n",
       "      <td>30.0</td>\n",
       "      <td>i</td>\n",
       "      <td>306.261323</td>\n",
       "      <td>1.422618</td>\n",
       "      <td>18.830961</td>\n",
       "    </tr>\n",
       "    <tr>\n",
       "      <th>2059023</th>\n",
       "      <td>2059023</td>\n",
       "      <td>231.843338</td>\n",
       "      <td>-11.639944</td>\n",
       "      <td>63822.110779</td>\n",
       "      <td>30.0</td>\n",
       "      <td>z</td>\n",
       "      <td>311.110047</td>\n",
       "      <td>1.693700</td>\n",
       "      <td>18.409282</td>\n",
       "    </tr>\n",
       "    <tr>\n",
       "      <th>2059024</th>\n",
       "      <td>2059024</td>\n",
       "      <td>231.477967</td>\n",
       "      <td>-6.049258</td>\n",
       "      <td>63822.111229</td>\n",
       "      <td>30.0</td>\n",
       "      <td>z</td>\n",
       "      <td>308.297552</td>\n",
       "      <td>1.793360</td>\n",
       "      <td>18.319246</td>\n",
       "    </tr>\n",
       "    <tr>\n",
       "      <th>2069874</th>\n",
       "      <td>2069874</td>\n",
       "      <td>230.670972</td>\n",
       "      <td>-9.824640</td>\n",
       "      <td>63836.973176</td>\n",
       "      <td>30.0</td>\n",
       "      <td>r</td>\n",
       "      <td>299.871468</td>\n",
       "      <td>0.967124</td>\n",
       "      <td>20.090204</td>\n",
       "    </tr>\n",
       "    <tr>\n",
       "      <th>2069895</th>\n",
       "      <td>2069895</td>\n",
       "      <td>230.670972</td>\n",
       "      <td>-9.824640</td>\n",
       "      <td>63836.984069</td>\n",
       "      <td>30.0</td>\n",
       "      <td>i</td>\n",
       "      <td>303.297793</td>\n",
       "      <td>1.141324</td>\n",
       "      <td>19.985505</td>\n",
       "    </tr>\n",
       "  </tbody>\n",
       "</table>\n",
       "<p>1871 rows × 9 columns</p>\n",
       "</div>"
      ],
      "text/plain": [
       "         observationId     fieldRA   fieldDec  observationStartMJD  \\\n",
       "105769          105769  232.340337 -10.696588         60377.393649   \n",
       "105770          105770  230.430099  -8.581386         60377.394097   \n",
       "107443          107443  231.952764  -6.958790         60379.370851   \n",
       "107465          107465  231.952764  -6.958790         60379.382516   \n",
       "107495          107495  230.296529  -9.467088         60379.396567   \n",
       "...                ...         ...        ...                  ...   \n",
       "2058974        2058974  231.477967  -6.049258         63822.087519   \n",
       "2059023        2059023  231.843338 -11.639944         63822.110779   \n",
       "2059024        2059024  231.477967  -6.049258         63822.111229   \n",
       "2069874        2069874  230.670972  -9.824640         63836.973176   \n",
       "2069895        2069895  230.670972  -9.824640         63836.984069   \n",
       "\n",
       "         visitExposureTime filter   rotSkyPos  seeingFwhmEff  skyBrightness  \n",
       "105769                30.0      i  236.087601       0.957506      20.201387  \n",
       "105770                30.0      i  239.404933       0.967659      20.186066  \n",
       "107443                30.0      i  245.058440       1.151104      20.275408  \n",
       "107465                30.0      r  254.205058       0.881952      20.977320  \n",
       "107495                30.0      r  269.851040       1.123513      20.872645  \n",
       "...                    ...    ...         ...            ...            ...  \n",
       "2058974               30.0      i  306.261323       1.422618      18.830961  \n",
       "2059023               30.0      z  311.110047       1.693700      18.409282  \n",
       "2059024               30.0      z  308.297552       1.793360      18.319246  \n",
       "2069874               30.0      r  299.871468       0.967124      20.090204  \n",
       "2069895               30.0      i  303.297793       1.141324      19.985505  \n",
       "\n",
       "[1871 rows x 9 columns]"
      ]
     },
     "execution_count": 100,
     "metadata": {},
     "output_type": "execute_result"
    }
   ],
   "source": [
    "rubin_ptgs_df"
   ]
  },
  {
   "cell_type": "code",
   "execution_count": 103,
   "id": "218a2d9c-9841-4bfe-b6b0-461267e52cc0",
   "metadata": {},
   "outputs": [
    {
     "name": "stdout",
     "output_type": "stream",
     "text": [
      "u\n",
      "Number of layers 69 >= 15\n",
      "231.38007655634541 -9.375 0.7601531126908299\n",
      "g\n",
      "Number of layers 94 >= 10\n",
      "231.38007655634541 -9.375 0.7601531126908299\n",
      "r\n",
      "Number of layers 243 >= 10\n",
      "231.38007655634541 -9.375 0.7601531126908299\n",
      "i\n",
      "Number of layers 238 >= 10\n",
      "231.38007655634541 -9.375 0.7601531126908299\n",
      "z\n",
      "Number of layers 214 >= 15\n",
      "231.38007655634541 -9.375 0.7601531126908299\n"
     ]
    },
    {
     "data": {
      "image/png": "[encoded data removed]",
      "text/plain": [
       "<Figure size 432x288 with 2 Axes>"
      ]
     },
     "metadata": {
      "needs_background": "light"
     },
     "output_type": "display_data"
    }
   ],
   "source": [
    "from layers import get_layers\n",
    "\n",
    "tol=0.\n",
    "ra=ra\n",
    "dec=dec\n",
    "euc_box_minRa, euc_box_maxRa = meas_euclid_box(ra,dec,0.75)\n",
    "euc_box_minDec = dec - 0.75/2. - tol\n",
    "euc_box_maxDec = dec + 0.75/2. + tol\n",
    "\n",
    "euc_ra = [euc_box_minRa+tol/2., euc_box_maxRa-tol/2.]\n",
    "euc_dec = [euc_box_minDec, euc_box_maxDec]\n",
    "\n",
    "xmin, ymin, xmax, ymax = euc_ra[1], euc_dec[0], euc_ra[0], euc_dec[1]\n",
    "ra_width= np.abs(euc_ra[1]-euc_ra[0])\n",
    "\n",
    "xmin = xmin - 360 if xmin > 180 else xmin\n",
    "xmax = xmax - 360 if xmax > 180 else xmax\n",
    "extent = xmin, ymin, xmax, ymax\n",
    "\n",
    "size = (101,101)\n",
    "filters='ugriz'\n",
    "layers = {'u':15,'g':10,'i':10,'r':10,'z':15}\n",
    "\n",
    "for filter in filters:\n",
    "    filtername=f'LSST_{filter}'\n",
    "    print(filter)\n",
    "    targets =[]\n",
    "    for index, rows in rubin_ptgs_df[(rubin_ptgs_df['filter']==filter)].iterrows():\n",
    "    # Create list for the current row\n",
    "        my_list =[rows.fieldRA, rows.fieldDec]\n",
    "\n",
    "        targets.append(my_list)\n",
    "    \n",
    "    X,Y, image = get_layers(extent,size,targets,focalplane)\n",
    "  \n",
    "    if np.max(image) <= layers[filter]-1:\n",
    "        print('layer count {} < {}'.format(np.max(image),layers[filter]))\n",
    "       # break\n",
    "    else:\n",
    "       # print(f'ObsId {obsId}')\n",
    "        print('Number of layers {} >= {}'.format(np.max(image),layers[filter]))\n",
    "    \n",
    "    plot_layers(X,Y,image,euc_ra[0],euc_dec[0],ra_width,filter_name=filtername)"
   ]
  },
  {
   "cell_type": "code",
   "execution_count": 105,
   "id": "eb9897fa-07d9-42cd-9e6e-f170deeb1958",
   "metadata": {},
   "outputs": [],
   "source": [
    "from astropy.coordinates import SkyCoord"
   ]
  },
  {
   "cell_type": "code",
   "execution_count": 106,
   "id": "1b2eac2d-9623-4116-9906-a9e21501d66c",
   "metadata": {},
   "outputs": [
    {
     "name": "stdout",
     "output_type": "stream",
     "text": [
      "0d05m00s\n",
      "0d30m00s\n"
     ]
    }
   ],
   "source": [
    "from astropy.coordinates import Angle\n",
    "ang= Angle('0d5m0.0s')\n",
    "print(ang)\n",
    "print(Angle('0.5d'))"
   ]
  },
  {
   "cell_type": "code",
   "execution_count": 107,
   "id": "657fc9d0-8927-451c-81f6-d9ff98c50927",
   "metadata": {},
   "outputs": [],
   "source": [
    "c = SkyCoord([10, 10], [-30, -35], unit=\"deg\")\n",
    "d = SkyCoord(10, -35, unit=\"deg\")\n",
    "dist_pair = c.separation(d)\n"
   ]
  },
  {
   "cell_type": "code",
   "execution_count": 108,
   "id": "6a6cd4a7-5ed5-4d82-bd96-0c84ed58ea8b",
   "metadata": {},
   "outputs": [],
   "source": [
    "def apply_min_pair_separation(df,ang):\n",
    "    drop_list = []\n",
    "    df = df.reset_index()  # make sure indexes pair with number of rows\n",
    "    for index, row in df.iterrows():\n",
    "        target = SkyCoord(row['fieldRA'], row['fieldDec'], unit='deg')\n",
    "        for i_pos in range(index+1, len(df)):\n",
    "            neighbor = SkyCoord(df['fieldRA'].loc[i_pos], df['fieldDec'].loc[i_pos], unit='deg')\n",
    "            dist = target.separation(neighbor)\n",
    "            if dist < Angle(ang):\n",
    "                #print(df_g['observationId'].loc[i_pos])\n",
    "                drop_list.append(df['observationId'].loc[i_pos])\n",
    "                \n",
    "    df = df[~df.observationId.isin(drop_list)]\n",
    "    return df"
   ]
  },
  {
   "cell_type": "code",
   "execution_count": 109,
   "id": "2f636bdf-ac12-498b-bb12-884f9d7a1e51",
   "metadata": {},
   "outputs": [],
   "source": [
    "def drop_min_pair_separation(pt1,pt2,ang):\n",
    "    print(pt1[0])\n",
    "    target = SkyCoord(pt1[0],pt1[1], unit='deg')\n",
    "    neighbor = SkyCoord(pt2[0],pt2[1], unit='deg')\n",
    "    dist = target.separation(neighbor)\n",
    "    if dist < Angle(ang):\n",
    "        return target\n",
    "    else:\n",
    "        return target, neighbor"
   ]
  },
  {
   "cell_type": "code",
   "execution_count": 110,
   "id": "cc95cbd7-e97c-4984-925e-5b8e1729710c",
   "metadata": {},
   "outputs": [],
   "source": [
    "def select_rubin_targets_in_euc_fov(df, ra, dec):\n",
    "    tol=1.8\n",
    "\n",
    "    euc_box_minRa, euc_box_maxRa = meas_euclid_box(ra, dec, 0.75)\n",
    "    euc_box_minDec = dec - 0.75/2. - tol\n",
    "    euc_box_maxDec = dec + 0.75/2. + tol\n",
    "    ra_width= euc_box_minRa - euc_box_maxRa\n",
    "\n",
    "    euc_ra = [euc_box_minRa+tol/2., euc_box_maxRa-tol/2.]\n",
    "    euc_dec = [euc_box_minDec, euc_box_maxDec]\n",
    "       \n",
    "    rubin_ptgs_df = df[(df['fieldRA'] < euc_ra[0]) & (df['fieldRA'] > euc_ra[1])\n",
    "                    & (df['fieldDec'] > euc_dec[0]) & (df['fieldDec'] < euc_dec[1])]\n",
    "    \n",
    "    sub_df = rubin_ptgs_df.groupby('filter').apply(lambda x: apply_min_pair_separation(x,'0.5d') \n",
    "                                           if set(x['filter'].unique()).intersection(set(['g','r','i']))\n",
    "                                                   else apply_min_pair_separation(x,'0.45d') )\n",
    "    #sub_df = rubin_ptgs_df['filter'].apply(lambda x: apply_min_pair_separation(x,'0.5d') if set(x).intersection(set(['g','r','i'])) else apply_min_pair_separation(x,'0.43d') )\n",
    "\n",
    "    return sub_df"
   ]
  },
  {
   "cell_type": "code",
   "execution_count": 112,
   "id": "da6211bc-d146-4547-9a2c-9864023bb940",
   "metadata": {},
   "outputs": [
    {
     "name": "stdout",
     "output_type": "stream",
     "text": [
      "True\n"
     ]
    },
    {
     "name": "stderr",
     "output_type": "stream",
     "text": [
      "<ipython-input-112-761dab913522>:10: SettingWithCopyWarning: \n",
      "A value is trying to be set on a copy of a slice from a DataFrame.\n",
      "Try using .loc[row_indexer,col_indexer] = value instead\n",
      "\n",
      "See the caveats in the documentation: https://pandas.pydata.org/pandas-docs/stable/user_guide/indexing.html#returning-a-view-versus-a-copy\n",
      "  sub_df['yes_filters'] = sub_df['filter'].apply(lambda x: True if set(x).intersection(set(['g','r','i'])) else False  )\n"
     ]
    }
   ],
   "source": [
    "sub_df = rubin_ptgs_df\n",
    "S1= set(['g','r', 'i'])\n",
    "S2 = set(sub_df['filter'].unique())\n",
    "if S1.intersection(S2):\n",
    "    print('True')\n",
    "else:\n",
    "    print('False')\n",
    "\n",
    "\n",
    "sub_df['yes_filters'] = sub_df['filter'].apply(lambda x: True if set(x).intersection(set(['g','r','i'])) else False  )"
   ]
  },
  {
   "cell_type": "markdown",
   "id": "7fc72e06-b7d0-4f13-b095-0258f2c21698",
   "metadata": {},
   "source": [
    "# Selection of Rubin targets at point in survey footprint"
   ]
  },
  {
   "cell_type": "code",
   "execution_count": 113,
   "id": "e9e794a0-332e-46aa-a95a-1e472739772b",
   "metadata": {},
   "outputs": [],
   "source": [
    "rubin_ra=231\n",
    "rubin_dec=-9.\n",
    "test_df = select_rubin_targets_in_euc_fov(data,ra=rubin_ra, dec=rubin_dec)"
   ]
  },
  {
   "cell_type": "code",
   "execution_count": 114,
   "id": "ceda05e6-dadc-4f2a-8635-522b6e67f763",
   "metadata": {},
   "outputs": [
    {
     "name": "stdout",
     "output_type": "stream",
     "text": [
      "u 21\n",
      "g 16\n",
      "r 15\n",
      "i 16\n",
      "z 20\n"
     ]
    }
   ],
   "source": [
    "filters='ugriz'\n",
    "for filter in filters:\n",
    "    print(filter, len(test_df[test_df['filter']==filter]))"
   ]
  },
  {
   "cell_type": "code",
   "execution_count": 137,
   "id": "3e963615-0037-48d1-8930-bb1e97c98996",
   "metadata": {},
   "outputs": [
    {
     "name": "stdout",
     "output_type": "stream",
     "text": [
      "Number of layers 17 >= 15\n",
      "234.38007655634541 -15.375 6.76015311269083\n",
      "Number of layers 14 >= 10\n",
      "234.38007655634541 -15.375 6.76015311269083\n",
      "Number of layers 13 >= 10\n",
      "234.38007655634541 -15.375 6.76015311269083\n",
      "Number of layers 14 >= 10\n",
      "234.38007655634541 -15.375 6.76015311269083\n",
      "Number of layers 16 >= 15\n",
      "234.38007655634541 -15.375 6.76015311269083\n"
     ]
    },
    {
     "data": {
      "image/png": "[encoded data removed]",
      "text/plain": [
       "<Figure size 432x288 with 2 Axes>"
      ]
     },
     "metadata": {
      "needs_background": "light"
     },
     "output_type": "display_data"
    }
   ],
   "source": [
    "from layers import get_layers\n",
    "tol=6\n",
    "ra=rubin_ra\n",
    "dec=rubin_dec\n",
    "euc_box_minRa, euc_box_maxRa = meas_euclid_box(ra,dec,0.75)\n",
    "euc_box_minDec = dec - 0.75/2. - tol\n",
    "euc_box_maxDec = dec + 0.75/2. + tol\n",
    "ra_width= euc_box_minRa - euc_box_maxRa\n",
    "\n",
    "euc_ra = [euc_box_minRa+tol/2., euc_box_maxRa-tol/2.]\n",
    "euc_dec = [euc_box_minDec, euc_box_maxDec]\n",
    "\n",
    "xmin, ymin, xmax, ymax = euc_ra[1], euc_dec[0], euc_ra[0], euc_dec[1]\n",
    "ra_width= np.abs(euc_ra[1]-euc_ra[0])\n",
    "xmin = xmin - 360 if xmin > 180 else xmin\n",
    "xmax = xmax - 360 if xmax > 180 else xmax\n",
    "extent = xmin, ymin, xmax, ymax\n",
    "size = (201,201)\n",
    "\n",
    "filters = 'ugriz'\n",
    "layers = {'u':15,'g':10,'i':10,'r':10,'z':15}\n",
    "for filter in filters:\n",
    "    targets = []\n",
    "    for index, rows in test_df[test_df['filter']==filter].iterrows():\n",
    "        # Create list for the current row\n",
    "            my_list =[rows.fieldRA, rows.fieldDec]\n",
    "            targets.append(my_list)\n",
    "        \n",
    "    X,Y, image = get_layers(extent,size,targets,focalplane)\n",
    "  \n",
    "    if np.max(image) <= layers[filter]-1:\n",
    "        print('layer count {} < {}'.format(np.max(image),layers[filter]))\n",
    "    else:\n",
    "        print('Number of layers {} >= {}'.format(np.max(image),layers[filter]))\n",
    "    \n",
    "    plot_layers(X,Y,image,euc_ra[0],euc_dec[0],ra_width,filter_name=filter,plot_base_name='Orig_full_fp_target_pointings_')"
   ]
  },
  {
   "cell_type": "code",
   "execution_count": 118,
   "id": "d8805552-dc46-463a-837c-15a9f4df1848",
   "metadata": {},
   "outputs": [
    {
     "data": {
      "text/plain": [
       "<matplotlib.patches.Rectangle at 0x15ef235e0>"
      ]
     },
     "execution_count": 118,
     "metadata": {},
     "output_type": "execute_result"
    },
    {
     "data": {
      "image/png": "[encoded data removed]",
      "text/plain": [
       "<Figure size 432x288 with 1 Axes>"
      ]
     },
     "metadata": {
      "needs_background": "light"
     },
     "output_type": "display_data"
    },
    {
     "data": {
      "image/png": "[encoded data removed]",
      "text/plain": [
       "<Figure size 432x288 with 1 Axes>"
      ]
     },
     "metadata": {
      "needs_background": "light"
     },
     "output_type": "display_data"
    },
    {
     "data": {
      "image/png": "[encoded data removed]",
      "text/plain": [
       "<Figure size 432x288 with 1 Axes>"
      ]
     },
     "metadata": {
      "needs_background": "light"
     },
     "output_type": "display_data"
    },
    {
     "data": {
      "image/png": "[encoded data removed]",
      "text/plain": [
       "<Figure size 432x288 with 1 Axes>"
      ]
     },
     "metadata": {
      "needs_background": "light"
     },
     "output_type": "display_data"
    },
    {
     "data": {
      "image/png": "[encoded data removed]",
      "text/plain": [
       "<Figure size 432x288 with 1 Axes>"
      ]
     },
     "metadata": {
      "needs_background": "light"
     },
     "output_type": "display_data"
    }
   ],
   "source": [
    "sub_samp = test_df.copy()\n",
    "\n",
    "sub_samp.reset_index(drop = True, inplace = True)\n",
    "sub_samp.groupby('filter').plot(kind='scatter', x='fieldRA', y='fieldDec')\n",
    "plt.gca().add_patch(Rectangle((rubin_ra-0.75/2,dec-0.75/2.),0.75,0.75,\n",
    "                    angle=0,\n",
    "                    edgecolor='red',\n",
    "                    facecolor='none',\n",
    "                    lw=2))"
   ]
  },
  {
   "cell_type": "code",
   "execution_count": 119,
   "id": "bb8c5d99-4300-459e-8864-ceda1e0a0309",
   "metadata": {},
   "outputs": [
    {
     "data": {
      "image/png": "[encoded data removed]",
      "text/plain": [
       "<Figure size 432x288 with 1 Axes>"
      ]
     },
     "metadata": {
      "needs_background": "light"
     },
     "output_type": "display_data"
    }
   ],
   "source": [
    "df = test_df.copy()\n",
    "\n",
    "fig,ax = plt.subplots()\n",
    "for k,d in df.groupby('filter'):\n",
    "    ax.scatter(d['fieldRA'], d['fieldDec'], label=k)\n",
    "plt.legend(loc=2)\n",
    "#plt.savefig('scatter.png')\n",
    "plt.show()\n"
   ]
  },
  {
   "cell_type": "markdown",
   "id": "73f061da-a882-46f0-946e-9e21316e85fd",
   "metadata": {},
   "source": [
    "# Translate Rubin_RA and Rubin_DEC to \"Pilot-Phase Pointing\""
   ]
  },
  {
   "cell_type": "code",
   "execution_count": 139,
   "id": "ebcc39b8-225f-414c-9c90-f716da3560ee",
   "metadata": {},
   "outputs": [],
   "source": [
    "def differential_metric_scale(y0,y1):\n",
    "    return np.abs(np.cos(np.deg2rad(y0)))/np.abs(np.cos(np.deg2rad(y1))) #1/np.cos(np.deg2rad(y1))  #np.abs(np.cos(y0))/np.abs(np.cos(y1))\n",
    "\n",
    "def metric_scale(y):\n",
    "\treturn 1/np.abs(np.cos(np.deg2rad(y)))\n",
    "\n",
    "def to_tangent_plane(p):\n",
    "\treturn [p[0] / metric_scale(p[1]), p[1]]\n",
    "\n",
    "def move(rubin_target_ptg,pointings0,dx,dy):\n",
    "    vector = [dx,dy]\n",
    "  \n",
    "    barycenter0 = rubin_target_ptg #compute_barycenter(pointings0)\n",
    "    barycenter1 = np.array(barycenter0) + np.array(vector)\n",
    "\n",
    "    relative_pointings = np.subtract(pointings0,np.array(barycenter0))\n",
    "    #relative_pointings = [to_tangent_plane(p) for p in relative_pointings]\n",
    "    print('relative_pointings', relative_pointings)\n",
    "    \n",
    "    pointings1 = []\n",
    "   \n",
    "    for p in relative_pointings:\n",
    "        y0 = barycenter0[1]\n",
    "        y1 = barycenter1[1]\n",
    "     #   print(y0,y1)\n",
    "        pt1 = [barycenter1[0] + p[0] * differential_metric_scale(y0,y1),\n",
    "                barycenter1[1] + p[1]]\n",
    "        pointings1.append(pt1)\n",
    "\n",
    "    return pointings1 "
   ]
  },
  {
   "cell_type": "markdown",
   "id": "a7efef6c-08c4-4ab3-accc-3658820e2819",
   "metadata": {},
   "source": [
    "### Compute displacements between original and new coordinates"
   ]
  },
  {
   "cell_type": "code",
   "execution_count": 140,
   "id": "15657703-fc5b-43b3-9a8e-ed54cc24175d",
   "metadata": {},
   "outputs": [
    {
     "name": "stdout",
     "output_type": "stream",
     "text": [
      "pp [231.65239775, 30.4257185]\n",
      "relative_pointings [[-1.01381362  0.7777004 ]\n",
      " [-0.92644182  1.50610558]\n",
      " [-0.59242003 -1.06462064]\n",
      " [ 0.22502618 -0.54499849]\n",
      " [-1.06615185  2.03228001]\n",
      " [-0.39670199 -0.4564114 ]\n",
      " [ 1.13770042 -0.22287698]\n",
      " [-0.75223142 -1.6617377 ]\n",
      " [ 0.97569466 -1.03786193]\n",
      " [ 0.00275792 -2.16297198]\n",
      " [ 0.14052884  1.23381729]\n",
      " [ 0.7279757   0.9035967 ]\n",
      " [ 1.03491036  1.35658921]\n",
      " [ 0.52951314  1.61136292]\n",
      " [ 1.12470924  0.54047191]\n",
      " [-1.22821371 -0.1942964 ]\n",
      " [-0.56990136  0.41861429]\n",
      " [ 0.95276373  2.04121008]\n",
      " [-0.70705545 -0.44312447]\n",
      " [ 0.43140303 -1.77661778]\n",
      " [-0.18581121  0.97310635]\n",
      " [-1.01381362  0.7777004 ]\n",
      " [-0.57965464 -1.91494156]\n",
      " [ 0.98174415  0.91136214]\n",
      " [-1.27906452 -0.90095273]\n",
      " [-0.8598878   2.16120427]\n",
      " [ 0.99968304  0.25191621]\n",
      " [ 0.24701558  1.53083847]\n",
      " [-0.98335847  0.09465238]\n",
      " [ 1.16356324 -0.56067437]\n",
      " [ 0.51634395 -0.79647868]\n",
      " [ 0.97569466 -1.03786193]\n",
      " [ 0.95276373  2.04121008]\n",
      " [-0.70347139 -0.4670884 ]\n",
      " [ 0.43140303 -1.77661778]\n",
      " [-1.01381362  0.7777004 ]\n",
      " [-0.57965464 -1.91494156]\n",
      " [ 0.98174415  0.91136214]\n",
      " [-0.35990854  0.77067448]\n",
      " [-0.92644182  1.50610558]\n",
      " [ 0.22502618 -0.54499849]\n",
      " [ 1.08294365 -1.04001176]\n",
      " [-0.22422419  1.45593857]\n",
      " [-1.04425534 -1.13169987]\n",
      " [ 0.30344345  2.16262104]\n",
      " [ 0.76497846 -0.28951174]\n",
      " [-0.51101171 -0.98206001]\n",
      " [-0.59242003 -1.06462064]\n",
      " [ 1.08294365 -1.04001176]\n",
      " [-0.76438834  0.62228077]\n",
      " [ 0.61211594 -2.15197683]\n",
      " [-1.06615185  2.03228001]\n",
      " [-0.39670199 -0.4564114 ]\n",
      " [-0.75223142 -1.6617377 ]\n",
      " [-0.46096544  1.5346907 ]\n",
      " [ 1.02449717 -0.21996654]\n",
      " [ 0.00275792 -2.16297198]\n",
      " [-0.29157761  1.02120294]\n",
      " [-1.27068613  0.79683549]\n",
      " [ 0.49534362 -0.61792539]\n",
      " [ 0.7279757   0.9035967 ]\n",
      " [-1.23277105 -1.59169349]\n",
      " [ 0.29094254 -0.19531947]\n",
      " [ 0.52951314  1.61136292]\n",
      " [ 1.12470924  0.54047191]\n",
      " [ 1.17494565  1.67717348]\n",
      " [-0.61316102  0.0397328 ]\n",
      " [ 0.60319583 -1.19312579]\n",
      " [-0.95773534 -0.81568487]\n",
      " [ 1.06658422  1.42809199]\n",
      " [-0.38790764 -0.60752468]\n",
      " [ 0.8400981  -1.67342144]\n",
      " [-0.18581121  0.97310635]\n",
      " [ 0.38806115  0.23275675]\n",
      " [-0.72610671  0.92974763]\n",
      " [ 0.25351834 -1.74239663]\n",
      " [-0.8598878   2.16120427]\n",
      " [ 0.47871119 -1.01183907]\n",
      " [ 0.99968304  0.25191621]\n",
      " [-1.12751753 -0.17343176]\n",
      " [ 0.07340653  0.56022894]\n",
      " [ 1.16356324 -0.56067437]\n",
      " [-0.82705284 -1.87581133]\n",
      " [ 0.6433144   1.18754011]\n",
      " [ 0.18813233 -0.4704971 ]\n",
      " [-0.9777214   1.6571612 ]\n",
      " [ 1.20244362  2.15525714]\n",
      " [ 0.45535749  2.03980536]]\n"
     ]
    }
   ],
   "source": [
    "rubin_pointing =[rubin_ra,rubin_dec]\n",
    "# barycenter is my euclid-pointing\n",
    "dx = pilot_pointing[0]-rubin_pointing[0]\n",
    "dy = pilot_pointing[1]-rubin_pointing[1]\n",
    "print('pp', pilot_pointing)\n",
    "\n",
    "#new_targets_df = test_df.apply(move(rubin_pointing,np.array(list(zip(test_df['fieldRA'],test_df['fieldDec']))),dx,dy))\n",
    "new_test_targets_df = test_df.copy()\n",
    "new_test_targets_df[[\"fieldRA\", \"fieldDec\"]] = move(rubin_pointing,np.array(list(zip(test_df['fieldRA'].copy(),test_df['fieldDec'].copy()))),dx,dy) "
   ]
  },
  {
   "cell_type": "code",
   "execution_count": 122,
   "id": "dedc2011-bcaf-473a-a35d-9f4d57a48e73",
   "metadata": {},
   "outputs": [
    {
     "data": {
      "text/html": [
       "<div>\n",
       "<style scoped>\n",
       "    .dataframe tbody tr th:only-of-type {\n",
       "        vertical-align: middle;\n",
       "    }\n",
       "\n",
       "    .dataframe tbody tr th {\n",
       "        vertical-align: top;\n",
       "    }\n",
       "\n",
       "    .dataframe thead th {\n",
       "        text-align: right;\n",
       "    }\n",
       "</style>\n",
       "<table border=\"1\" class=\"dataframe\">\n",
       "  <thead>\n",
       "    <tr style=\"text-align: right;\">\n",
       "      <th></th>\n",
       "      <th>index</th>\n",
       "      <th>observationId</th>\n",
       "      <th>fieldRA</th>\n",
       "      <th>fieldDec</th>\n",
       "      <th>observationStartMJD</th>\n",
       "      <th>visitExposureTime</th>\n",
       "      <th>filter</th>\n",
       "      <th>rotSkyPos</th>\n",
       "      <th>seeingFwhmEff</th>\n",
       "      <th>skyBrightness</th>\n",
       "    </tr>\n",
       "  </thead>\n",
       "  <tbody>\n",
       "    <tr>\n",
       "      <th>0</th>\n",
       "      <td>125684</td>\n",
       "      <td>125684</td>\n",
       "      <td>230.491146</td>\n",
       "      <td>31.203419</td>\n",
       "      <td>60404.366295</td>\n",
       "      <td>30.0</td>\n",
       "      <td>g</td>\n",
       "      <td>202.410736</td>\n",
       "      <td>0.982375</td>\n",
       "      <td>21.692410</td>\n",
       "    </tr>\n",
       "    <tr>\n",
       "      <th>1</th>\n",
       "      <td>150985</td>\n",
       "      <td>150985</td>\n",
       "      <td>230.591224</td>\n",
       "      <td>31.931824</td>\n",
       "      <td>60432.260807</td>\n",
       "      <td>30.0</td>\n",
       "      <td>g</td>\n",
       "      <td>242.162882</td>\n",
       "      <td>1.051348</td>\n",
       "      <td>21.340194</td>\n",
       "    </tr>\n",
       "    <tr>\n",
       "      <th>2</th>\n",
       "      <td>151828</td>\n",
       "      <td>151828</td>\n",
       "      <td>230.973822</td>\n",
       "      <td>29.361098</td>\n",
       "      <td>60433.194087</td>\n",
       "      <td>30.0</td>\n",
       "      <td>g</td>\n",
       "      <td>195.430786</td>\n",
       "      <td>0.950162</td>\n",
       "      <td>21.918468</td>\n",
       "    </tr>\n",
       "    <tr>\n",
       "      <th>3</th>\n",
       "      <td>172117</td>\n",
       "      <td>172117</td>\n",
       "      <td>231.910149</td>\n",
       "      <td>29.880720</td>\n",
       "      <td>60488.077097</td>\n",
       "      <td>30.0</td>\n",
       "      <td>g</td>\n",
       "      <td>112.363178</td>\n",
       "      <td>1.389865</td>\n",
       "      <td>21.982470</td>\n",
       "    </tr>\n",
       "    <tr>\n",
       "      <th>4</th>\n",
       "      <td>321386</td>\n",
       "      <td>321386</td>\n",
       "      <td>230.431196</td>\n",
       "      <td>32.457999</td>\n",
       "      <td>60791.193240</td>\n",
       "      <td>30.0</td>\n",
       "      <td>g</td>\n",
       "      <td>191.134513</td>\n",
       "      <td>1.268591</td>\n",
       "      <td>21.930296</td>\n",
       "    </tr>\n",
       "    <tr>\n",
       "      <th>...</th>\n",
       "      <td>...</td>\n",
       "      <td>...</td>\n",
       "      <td>...</td>\n",
       "      <td>...</td>\n",
       "      <td>...</td>\n",
       "      <td>...</td>\n",
       "      <td>...</td>\n",
       "      <td>...</td>\n",
       "      <td>...</td>\n",
       "      <td>...</td>\n",
       "    </tr>\n",
       "    <tr>\n",
       "      <th>83</th>\n",
       "      <td>377365</td>\n",
       "      <td>377365</td>\n",
       "      <td>232.389269</td>\n",
       "      <td>31.613259</td>\n",
       "      <td>60904.020785</td>\n",
       "      <td>30.0</td>\n",
       "      <td>z</td>\n",
       "      <td>215.208833</td>\n",
       "      <td>1.206463</td>\n",
       "      <td>19.180575</td>\n",
       "    </tr>\n",
       "    <tr>\n",
       "      <th>84</th>\n",
       "      <td>389243</td>\n",
       "      <td>389243</td>\n",
       "      <td>231.867890</td>\n",
       "      <td>29.955221</td>\n",
       "      <td>60920.047782</td>\n",
       "      <td>30.0</td>\n",
       "      <td>z</td>\n",
       "      <td>184.755313</td>\n",
       "      <td>1.043377</td>\n",
       "      <td>18.416561</td>\n",
       "    </tr>\n",
       "    <tr>\n",
       "      <th>85</th>\n",
       "      <td>728287</td>\n",
       "      <td>728287</td>\n",
       "      <td>230.532487</td>\n",
       "      <td>32.082880</td>\n",
       "      <td>61486.386349</td>\n",
       "      <td>30.0</td>\n",
       "      <td>z</td>\n",
       "      <td>213.793266</td>\n",
       "      <td>1.003151</td>\n",
       "      <td>18.251568</td>\n",
       "    </tr>\n",
       "    <tr>\n",
       "      <th>86</th>\n",
       "      <td>751830</td>\n",
       "      <td>751830</td>\n",
       "      <td>233.029712</td>\n",
       "      <td>32.580976</td>\n",
       "      <td>61522.331877</td>\n",
       "      <td>30.0</td>\n",
       "      <td>z</td>\n",
       "      <td>279.942129</td>\n",
       "      <td>1.130594</td>\n",
       "      <td>18.961286</td>\n",
       "    </tr>\n",
       "    <tr>\n",
       "      <th>87</th>\n",
       "      <td>788643</td>\n",
       "      <td>788643</td>\n",
       "      <td>232.173978</td>\n",
       "      <td>32.465524</td>\n",
       "      <td>61597.072630</td>\n",
       "      <td>30.0</td>\n",
       "      <td>z</td>\n",
       "      <td>194.119544</td>\n",
       "      <td>0.825334</td>\n",
       "      <td>19.057205</td>\n",
       "    </tr>\n",
       "  </tbody>\n",
       "</table>\n",
       "<p>88 rows × 10 columns</p>\n",
       "</div>"
      ],
      "text/plain": [
       "     index  observationId     fieldRA   fieldDec  observationStartMJD  \\\n",
       "0   125684         125684  230.491146  31.203419         60404.366295   \n",
       "1   150985         150985  230.591224  31.931824         60432.260807   \n",
       "2   151828         151828  230.973822  29.361098         60433.194087   \n",
       "3   172117         172117  231.910149  29.880720         60488.077097   \n",
       "4   321386         321386  230.431196  32.457999         60791.193240   \n",
       "..     ...            ...         ...        ...                  ...   \n",
       "83  377365         377365  232.389269  31.613259         60904.020785   \n",
       "84  389243         389243  231.867890  29.955221         60920.047782   \n",
       "85  728287         728287  230.532487  32.082880         61486.386349   \n",
       "86  751830         751830  233.029712  32.580976         61522.331877   \n",
       "87  788643         788643  232.173978  32.465524         61597.072630   \n",
       "\n",
       "    visitExposureTime filter   rotSkyPos  seeingFwhmEff  skyBrightness  \n",
       "0                30.0      g  202.410736       0.982375      21.692410  \n",
       "1                30.0      g  242.162882       1.051348      21.340194  \n",
       "2                30.0      g  195.430786       0.950162      21.918468  \n",
       "3                30.0      g  112.363178       1.389865      21.982470  \n",
       "4                30.0      g  191.134513       1.268591      21.930296  \n",
       "..                ...    ...         ...            ...            ...  \n",
       "83               30.0      z  215.208833       1.206463      19.180575  \n",
       "84               30.0      z  184.755313       1.043377      18.416561  \n",
       "85               30.0      z  213.793266       1.003151      18.251568  \n",
       "86               30.0      z  279.942129       1.130594      18.961286  \n",
       "87               30.0      z  194.119544       0.825334      19.057205  \n",
       "\n",
       "[88 rows x 10 columns]"
      ]
     },
     "execution_count": 122,
     "metadata": {},
     "output_type": "execute_result"
    }
   ],
   "source": [
    "new_test_targets_df"
   ]
  },
  {
   "cell_type": "code",
   "execution_count": 123,
   "id": "c9a701dc-3c29-4825-9027-fba489874cef",
   "metadata": {},
   "outputs": [],
   "source": [
    "import sqlite3\n",
    "# Create your connection.\n",
    "con = sqlite3.connect('rubin_v2.0_cycle_14.db')"
   ]
  },
  {
   "cell_type": "code",
   "execution_count": 125,
   "id": "894a1e55-ccdc-4fb4-90cc-cdf191d7b58d",
   "metadata": {},
   "outputs": [],
   "source": [
    "c = con.cursor()\n",
    "\n",
    "c.execute('CREATE TABLE IF NOT EXISTS OBSERVATIONS (observationId, fieldRA, fieldDec, observationStartMJD, visitExposureTime, filter, rotSkyPos, seeingFwhmEff, skyBrightness )')\n",
    "con.commit()"
   ]
  },
  {
   "cell_type": "code",
   "execution_count": 126,
   "id": "2ccc0be3-a823-400f-a284-07871f8f4578",
   "metadata": {},
   "outputs": [],
   "source": [
    "new_test_targets_df.reset_index(drop=True)\n",
    "new_test_targets_df.to_sql('None', con, if_exists='replace', index = False)"
   ]
  },
  {
   "cell_type": "code",
   "execution_count": 127,
   "id": "7679b764-4d39-45ad-bf10-53874a57e84b",
   "metadata": {},
   "outputs": [
    {
     "data": {
      "text/plain": [
       "<sqlite3.Cursor at 0x1f7e343b0>"
      ]
     },
     "execution_count": 127,
     "metadata": {},
     "output_type": "execute_result"
    }
   ],
   "source": [
    "c.execute('''  \n",
    "SELECT * FROM OBSERVATIONS\n",
    "          ''')\n"
   ]
  },
  {
   "cell_type": "code",
   "execution_count": 128,
   "id": "1041ad43-cfd7-4cb2-a0fd-7de8d0590398",
   "metadata": {},
   "outputs": [],
   "source": [
    "for row in c.fetchall():\n",
    "    print (row)"
   ]
  },
  {
   "cell_type": "code",
   "execution_count": 129,
   "id": "c82e29fe-3042-4bc8-b2e3-f1531525f442",
   "metadata": {},
   "outputs": [],
   "source": [
    "new_test_targets_df = data.copy()"
   ]
  },
  {
   "cell_type": "code",
   "execution_count": 131,
   "id": "ac76c975-b3b6-411d-91db-1ab711fd7a76",
   "metadata": {},
   "outputs": [
    {
     "ename": "KeyboardInterrupt",
     "evalue": "",
     "output_type": "error",
     "traceback": [
      "\u001b[0;31m---------------------------------------------------------------------------\u001b[0m",
      "\u001b[0;31mKeyboardInterrupt\u001b[0m                         Traceback (most recent call last)",
      "\u001b[0;32m<ipython-input-131-01b4fbd830b6>\u001b[0m in \u001b[0;36m<module>\u001b[0;34m\u001b[0m\n\u001b[1;32m     21\u001b[0m \u001b[0;32mfor\u001b[0m \u001b[0mfilter\u001b[0m \u001b[0;32min\u001b[0m \u001b[0mfilters\u001b[0m\u001b[0;34m:\u001b[0m\u001b[0;34m\u001b[0m\u001b[0;34m\u001b[0m\u001b[0m\n\u001b[1;32m     22\u001b[0m     \u001b[0mtargets\u001b[0m \u001b[0;34m=\u001b[0m \u001b[0;34m[\u001b[0m\u001b[0;34m]\u001b[0m\u001b[0;34m\u001b[0m\u001b[0;34m\u001b[0m\u001b[0m\n\u001b[0;32m---> 23\u001b[0;31m     \u001b[0;32mfor\u001b[0m \u001b[0mindex\u001b[0m\u001b[0;34m,\u001b[0m \u001b[0mrows\u001b[0m \u001b[0;32min\u001b[0m \u001b[0mnew_test_targets_df\u001b[0m\u001b[0;34m[\u001b[0m\u001b[0mnew_test_targets_df\u001b[0m\u001b[0;34m[\u001b[0m\u001b[0;34m'filter'\u001b[0m\u001b[0;34m]\u001b[0m\u001b[0;34m==\u001b[0m\u001b[0mfilter\u001b[0m\u001b[0;34m]\u001b[0m\u001b[0;34m.\u001b[0m\u001b[0miterrows\u001b[0m\u001b[0;34m(\u001b[0m\u001b[0;34m)\u001b[0m\u001b[0;34m:\u001b[0m\u001b[0;34m\u001b[0m\u001b[0;34m\u001b[0m\u001b[0m\n\u001b[0m\u001b[1;32m     24\u001b[0m         \u001b[0;31m# Create list for the current row\u001b[0m\u001b[0;34m\u001b[0m\u001b[0;34m\u001b[0m\u001b[0m\n\u001b[1;32m     25\u001b[0m             \u001b[0mmy_list\u001b[0m \u001b[0;34m=\u001b[0m\u001b[0;34m[\u001b[0m\u001b[0mrows\u001b[0m\u001b[0;34m.\u001b[0m\u001b[0mfieldRA\u001b[0m\u001b[0;34m,\u001b[0m \u001b[0mrows\u001b[0m\u001b[0;34m.\u001b[0m\u001b[0mfieldDec\u001b[0m\u001b[0;34m]\u001b[0m\u001b[0;34m\u001b[0m\u001b[0;34m\u001b[0m\u001b[0m\n",
      "\u001b[0;32m/usr/local/lib/python3.9/site-packages/pandas/core/frame.py\u001b[0m in \u001b[0;36miterrows\u001b[0;34m(self)\u001b[0m\n\u001b[1;32m   1069\u001b[0m         \u001b[0mklass\u001b[0m \u001b[0;34m=\u001b[0m \u001b[0mself\u001b[0m\u001b[0;34m.\u001b[0m\u001b[0m_constructor_sliced\u001b[0m\u001b[0;34m\u001b[0m\u001b[0;34m\u001b[0m\u001b[0m\n\u001b[1;32m   1070\u001b[0m         \u001b[0;32mfor\u001b[0m \u001b[0mk\u001b[0m\u001b[0;34m,\u001b[0m \u001b[0mv\u001b[0m \u001b[0;32min\u001b[0m \u001b[0mzip\u001b[0m\u001b[0;34m(\u001b[0m\u001b[0mself\u001b[0m\u001b[0;34m.\u001b[0m\u001b[0mindex\u001b[0m\u001b[0;34m,\u001b[0m \u001b[0mself\u001b[0m\u001b[0;34m.\u001b[0m\u001b[0mvalues\u001b[0m\u001b[0;34m)\u001b[0m\u001b[0;34m:\u001b[0m\u001b[0;34m\u001b[0m\u001b[0;34m\u001b[0m\u001b[0m\n\u001b[0;32m-> 1071\u001b[0;31m             \u001b[0ms\u001b[0m \u001b[0;34m=\u001b[0m \u001b[0mklass\u001b[0m\u001b[0;34m(\u001b[0m\u001b[0mv\u001b[0m\u001b[0;34m,\u001b[0m \u001b[0mindex\u001b[0m\u001b[0;34m=\u001b[0m\u001b[0mcolumns\u001b[0m\u001b[0;34m,\u001b[0m \u001b[0mname\u001b[0m\u001b[0;34m=\u001b[0m\u001b[0mk\u001b[0m\u001b[0;34m)\u001b[0m\u001b[0;34m\u001b[0m\u001b[0;34m\u001b[0m\u001b[0m\n\u001b[0m\u001b[1;32m   1072\u001b[0m             \u001b[0;32myield\u001b[0m \u001b[0mk\u001b[0m\u001b[0;34m,\u001b[0m \u001b[0ms\u001b[0m\u001b[0;34m\u001b[0m\u001b[0;34m\u001b[0m\u001b[0m\n\u001b[1;32m   1073\u001b[0m \u001b[0;34m\u001b[0m\u001b[0m\n",
      "\u001b[0;32m/usr/local/lib/python3.9/site-packages/pandas/core/series.py\u001b[0m in \u001b[0;36m__init__\u001b[0;34m(self, data, index, dtype, name, copy, fastpath)\u001b[0m\n\u001b[1;32m    367\u001b[0m \u001b[0;34m\u001b[0m\u001b[0m\n\u001b[1;32m    368\u001b[0m         \u001b[0mgeneric\u001b[0m\u001b[0;34m.\u001b[0m\u001b[0mNDFrame\u001b[0m\u001b[0;34m.\u001b[0m\u001b[0m__init__\u001b[0m\u001b[0;34m(\u001b[0m\u001b[0mself\u001b[0m\u001b[0;34m,\u001b[0m \u001b[0mdata\u001b[0m\u001b[0;34m)\u001b[0m\u001b[0;34m\u001b[0m\u001b[0;34m\u001b[0m\u001b[0m\n\u001b[0;32m--> 369\u001b[0;31m         \u001b[0mself\u001b[0m\u001b[0;34m.\u001b[0m\u001b[0mname\u001b[0m \u001b[0;34m=\u001b[0m \u001b[0mname\u001b[0m\u001b[0;34m\u001b[0m\u001b[0;34m\u001b[0m\u001b[0m\n\u001b[0m\u001b[1;32m    370\u001b[0m         \u001b[0mself\u001b[0m\u001b[0;34m.\u001b[0m\u001b[0m_set_axis\u001b[0m\u001b[0;34m(\u001b[0m\u001b[0;36m0\u001b[0m\u001b[0;34m,\u001b[0m \u001b[0mindex\u001b[0m\u001b[0;34m,\u001b[0m \u001b[0mfastpath\u001b[0m\u001b[0;34m=\u001b[0m\u001b[0;32mTrue\u001b[0m\u001b[0;34m)\u001b[0m\u001b[0;34m\u001b[0m\u001b[0;34m\u001b[0m\u001b[0m\n\u001b[1;32m    371\u001b[0m \u001b[0;34m\u001b[0m\u001b[0m\n",
      "\u001b[0;32m/usr/local/lib/python3.9/site-packages/pandas/core/generic.py\u001b[0m in \u001b[0;36m__setattr__\u001b[0;34m(self, name, value)\u001b[0m\n\u001b[1;32m   5485\u001b[0m             \u001b[0mobject\u001b[0m\u001b[0;34m.\u001b[0m\u001b[0m__setattr__\u001b[0m\u001b[0;34m(\u001b[0m\u001b[0mself\u001b[0m\u001b[0;34m,\u001b[0m \u001b[0mname\u001b[0m\u001b[0;34m,\u001b[0m \u001b[0mvalue\u001b[0m\u001b[0;34m)\u001b[0m\u001b[0;34m\u001b[0m\u001b[0;34m\u001b[0m\u001b[0m\n\u001b[1;32m   5486\u001b[0m         \u001b[0;32melif\u001b[0m \u001b[0mname\u001b[0m \u001b[0;32min\u001b[0m \u001b[0mself\u001b[0m\u001b[0;34m.\u001b[0m\u001b[0m_metadata\u001b[0m\u001b[0;34m:\u001b[0m\u001b[0;34m\u001b[0m\u001b[0;34m\u001b[0m\u001b[0m\n\u001b[0;32m-> 5487\u001b[0;31m             \u001b[0mobject\u001b[0m\u001b[0;34m.\u001b[0m\u001b[0m__setattr__\u001b[0m\u001b[0;34m(\u001b[0m\u001b[0mself\u001b[0m\u001b[0;34m,\u001b[0m \u001b[0mname\u001b[0m\u001b[0;34m,\u001b[0m \u001b[0mvalue\u001b[0m\u001b[0;34m)\u001b[0m\u001b[0;34m\u001b[0m\u001b[0;34m\u001b[0m\u001b[0m\n\u001b[0m\u001b[1;32m   5488\u001b[0m         \u001b[0;32melse\u001b[0m\u001b[0;34m:\u001b[0m\u001b[0;34m\u001b[0m\u001b[0;34m\u001b[0m\u001b[0m\n\u001b[1;32m   5489\u001b[0m             \u001b[0;32mtry\u001b[0m\u001b[0;34m:\u001b[0m\u001b[0;34m\u001b[0m\u001b[0;34m\u001b[0m\u001b[0m\n",
      "\u001b[0;32m/usr/local/lib/python3.9/site-packages/pandas/core/series.py\u001b[0m in \u001b[0;36mname\u001b[0;34m(self, value)\u001b[0m\n\u001b[1;32m    538\u001b[0m     \u001b[0;34m@\u001b[0m\u001b[0mname\u001b[0m\u001b[0;34m.\u001b[0m\u001b[0msetter\u001b[0m\u001b[0;34m\u001b[0m\u001b[0;34m\u001b[0m\u001b[0m\n\u001b[1;32m    539\u001b[0m     \u001b[0;32mdef\u001b[0m \u001b[0mname\u001b[0m\u001b[0;34m(\u001b[0m\u001b[0mself\u001b[0m\u001b[0;34m,\u001b[0m \u001b[0mvalue\u001b[0m\u001b[0;34m:\u001b[0m \u001b[0mLabel\u001b[0m\u001b[0;34m)\u001b[0m \u001b[0;34m->\u001b[0m \u001b[0;32mNone\u001b[0m\u001b[0;34m:\u001b[0m\u001b[0;34m\u001b[0m\u001b[0;34m\u001b[0m\u001b[0m\n\u001b[0;32m--> 540\u001b[0;31m         \u001b[0mvalidate_all_hashable\u001b[0m\u001b[0;34m(\u001b[0m\u001b[0mvalue\u001b[0m\u001b[0;34m,\u001b[0m \u001b[0merror_name\u001b[0m\u001b[0;34m=\u001b[0m\u001b[0;34mf\"{type(self).__name__}.name\"\u001b[0m\u001b[0;34m)\u001b[0m\u001b[0;34m\u001b[0m\u001b[0;34m\u001b[0m\u001b[0m\n\u001b[0m\u001b[1;32m    541\u001b[0m         \u001b[0mobject\u001b[0m\u001b[0;34m.\u001b[0m\u001b[0m__setattr__\u001b[0m\u001b[0;34m(\u001b[0m\u001b[0mself\u001b[0m\u001b[0;34m,\u001b[0m \u001b[0;34m\"_name\"\u001b[0m\u001b[0;34m,\u001b[0m \u001b[0mvalue\u001b[0m\u001b[0;34m)\u001b[0m\u001b[0;34m\u001b[0m\u001b[0;34m\u001b[0m\u001b[0m\n\u001b[1;32m    542\u001b[0m \u001b[0;34m\u001b[0m\u001b[0m\n",
      "\u001b[0;32m/usr/local/lib/python3.9/site-packages/pandas/core/dtypes/common.py\u001b[0m in \u001b[0;36mvalidate_all_hashable\u001b[0;34m(error_name, *args)\u001b[0m\n\u001b[1;32m   1760\u001b[0m     \u001b[0;32mNone\u001b[0m\u001b[0;34m\u001b[0m\u001b[0;34m\u001b[0m\u001b[0m\n\u001b[1;32m   1761\u001b[0m     \"\"\"\n\u001b[0;32m-> 1762\u001b[0;31m     \u001b[0;32mif\u001b[0m \u001b[0;32mnot\u001b[0m \u001b[0mall\u001b[0m\u001b[0;34m(\u001b[0m\u001b[0mis_hashable\u001b[0m\u001b[0;34m(\u001b[0m\u001b[0marg\u001b[0m\u001b[0;34m)\u001b[0m \u001b[0;32mfor\u001b[0m \u001b[0marg\u001b[0m \u001b[0;32min\u001b[0m \u001b[0margs\u001b[0m\u001b[0;34m)\u001b[0m\u001b[0;34m:\u001b[0m\u001b[0;34m\u001b[0m\u001b[0;34m\u001b[0m\u001b[0m\n\u001b[0m\u001b[1;32m   1763\u001b[0m         \u001b[0;32mif\u001b[0m \u001b[0merror_name\u001b[0m\u001b[0;34m:\u001b[0m\u001b[0;34m\u001b[0m\u001b[0;34m\u001b[0m\u001b[0m\n\u001b[1;32m   1764\u001b[0m             \u001b[0;32mraise\u001b[0m \u001b[0mTypeError\u001b[0m\u001b[0;34m(\u001b[0m\u001b[0;34mf\"{error_name} must be a hashable type\"\u001b[0m\u001b[0;34m)\u001b[0m\u001b[0;34m\u001b[0m\u001b[0;34m\u001b[0m\u001b[0m\n",
      "\u001b[0;31mKeyboardInterrupt\u001b[0m: "
     ]
    }
   ],
   "source": [
    "tol=0.0\n",
    "ra=pilot_pointing[0]\n",
    "dec=pilot_pointing[1]\n",
    "euc_box_minRa, euc_box_maxRa = meas_euclid_box(ra,dec,0.75)\n",
    "euc_box_minDec = dec - 0.75/2. - tol\n",
    "euc_box_maxDec = dec + 0.75/2. + tol\n",
    "ra_width= euc_box_minRa - euc_box_maxRa\n",
    "\n",
    "euc_ra = [euc_box_minRa+tol/2., euc_box_maxRa-tol/2.]\n",
    "euc_dec = [euc_box_minDec, euc_box_maxDec]\n",
    "\n",
    "xmin, ymin, xmax, ymax = euc_ra[1], euc_dec[0], euc_ra[0], euc_dec[1]\n",
    "ra_width= np.abs(euc_ra[1]-euc_ra[0])\n",
    "xmin = xmin - 360 if xmin > 180 else xmin\n",
    "xmax = xmax - 360 if xmax > 180 else xmax\n",
    "extent = xmin, ymin, xmax, ymax\n",
    "size = (101,101)\n",
    "\n",
    "filters = 'ugriz'\n",
    "layers = {'u':15,'g':10,'i':10,'r':10,'z':15}\n",
    "for filter in filters:\n",
    "    targets = []\n",
    "    for index, rows in new_test_targets_df[new_test_targets_df['filter']==filter].iterrows():\n",
    "        # Create list for the current row\n",
    "            my_list =[rows.fieldRA, rows.fieldDec]\n",
    "           \n",
    "            targets.append(my_list)\n",
    "        \n",
    "    X,Y, image = get_layers(extent,size,targets,focalplane)\n",
    "  \n",
    "    if np.max(image) <= layers[filter]-1:\n",
    "        print('layer count {} < {}'.format(np.max(image),layers[filter]))\n",
    "    else:\n",
    "        print('Number of layers {} >= {}'.format(np.max(image),layers[filter]))\n",
    "    \n",
    "    plot_layers(X,Y,image,euc_ra[0],euc_dec[0],ra_width,filter_name=filter,plot_base_name='new_target_pointings_')"
   ]
  },
  {
   "cell_type": "code",
   "execution_count": 176,
   "id": "9eb4d8a6-c528-49bd-bb24-a543705e0f6c",
   "metadata": {},
   "outputs": [
    {
     "data": {
      "text/plain": [
       "<Figure size 432x288 with 0 Axes>"
      ]
     },
     "execution_count": 176,
     "metadata": {},
     "output_type": "execute_result"
    },
    {
     "data": {
      "image/png": "[encoded data removed]",
      "text/plain": [
       "<Figure size 1728x1296 with 6 Axes>"
      ]
     },
     "metadata": {
      "needs_background": "light"
     },
     "output_type": "display_data"
    },
    {
     "data": {
      "text/plain": [
       "<Figure size 432x288 with 0 Axes>"
      ]
     },
     "metadata": {},
     "output_type": "display_data"
    }
   ],
   "source": [
    "data['seeingFwhmEff'].hist(by=data['filter'], bins=24, alpha=0.5,figsize=(24, 18))\n",
    "plt.xlabel('seeing (arcsec)')\n",
    "plt.figure()"
   ]
  },
  {
   "cell_type": "markdown",
   "id": "third-people",
   "metadata": {},
   "source": [
    "## Calculate the Zeropoints per Visit"
   ]
  },
  {
   "cell_type": "code",
   "execution_count": 19,
   "id": "fce6d628-eba5-4ada-bd13-c9dd4e0b0819",
   "metadata": {},
   "outputs": [
    {
     "data": {
      "image/png": "[encoded data removed]",
      "text/plain": [
       "<Figure size 432x288 with 1 Axes>"
      ]
     },
     "metadata": {
      "needs_background": "light"
     },
     "output_type": "display_data"
    }
   ],
   "source": [
    "from speclite.filters import load_filter, ab_reference_flux\n",
    "import speclite\n",
    "lsst = speclite.filters.load_filters('lsst2019-*')\n",
    "\n",
    "speclite.filters.plot_filters(\n",
    "    lsst, wavelength_limits=(3000, 11000), legend_loc='upper left')"
   ]
  },
  {
   "cell_type": "code",
   "execution_count": 20,
   "id": "b2701d0a-825a-458e-a8e4-cc19e4db0fd5",
   "metadata": {},
   "outputs": [
    {
     "data": {
      "image/png": "[encoded data removed]",
      "text/plain": [
       "<Figure size 432x288 with 1 Axes>"
      ]
     },
     "metadata": {
      "needs_background": "light"
     },
     "output_type": "display_data"
    }
   ],
   "source": [
    "lsst2 = speclite.filters.load_filters('lsst2016-*')\n",
    "\n",
    "speclite.filters.plot_filters(\n",
    "    lsst2, wavelength_limits=(3000, 11000), legend_loc='upper left')"
   ]
  },
  {
   "cell_type": "code",
   "execution_count": 24,
   "id": "262b7663-bb09-496f-b435-e5e3c15c3dcc",
   "metadata": {},
   "outputs": [
    {
     "data": {
      "image/png": "[encoded data removed]",
      "text/plain": [
       "<Figure size 432x288 with 1 Axes>"
      ]
     },
     "metadata": {
      "needs_background": "light"
     },
     "output_type": "display_data"
    }
   ],
   "source": [
    "lsst2 = speclite.filters.load_filters('lsst2021-*')\n",
    "\n",
    "speclite.filters.plot_filters(\n",
    "    lsst2, wavelength_limits=(3000, 11000), legend_loc='upper left')"
   ]
  },
  {
   "cell_type": "code",
   "execution_count": 36,
   "id": "32609b69-236e-4d2f-afb3-c08e9904b5c0",
   "metadata": {},
   "outputs": [],
   "source": [
    "from speclite.filters import load_filter, ab_reference_flux\n",
    "from astropy import units as u\n",
    "\n",
    "def calculate_zero_point(band_name, B0=24):\n",
    "    filt = load_filter(band_name)\n",
    "    return (filt.convolve_with_function(ab_reference_flux) *\n",
    "            10 ** (-0.4 * B0)).to(1 / (u.s * u.m**2))"
   ]
  },
  {
   "cell_type": "code",
   "execution_count": 77,
   "id": "26297ce5-687b-476f-bb66-f5a84e4edd6a",
   "metadata": {},
   "outputs": [],
   "source": [
    "lss2019_zp={}\n",
    "lss2016_zp={}\n",
    "lss2021_zp={}\n",
    "filters='ugrizy'\n",
    "eff_area= 32.4\n",
    "for filter in filters:\n",
    "    lss2019_zp[filter]=eff_area*calculate_zero_point('lsst2019-{}'.format(filter))\n",
    "    lss2016_zp[filter]=eff_area*calculate_zero_point('lsst2016-{}'.format(filter))\n",
    "    lss2021_zp[filter]=eff_area*calculate_zero_point('lsst2021-{}'.format(filter))\n",
    "    \n",
    "                              "
   ]
  },
  {
   "cell_type": "code",
   "execution_count": 78,
   "id": "9652efa3-f0ac-414f-b1ec-1dae334304d3",
   "metadata": {},
   "outputs": [
    {
     "name": "stdout",
     "output_type": "stream",
     "text": [
      "u 9.16 9.16 14.87\n",
      "g 50.7 50.7 54.38\n",
      "r 43.7 43.7 44.91\n",
      "i 32.36 32.36 34.4\n",
      "z 22.68 22.68 23.96\n",
      "y 10.58 10.58 11.57\n"
     ]
    }
   ],
   "source": [
    "for filter in filters:\n",
    "    print(filter, round(lss2016_zp[filter].value,2), round(lss2019_zp[filter].value,2), round(lss2021_zp[filter].value,2))"
   ]
  },
  {
   "cell_type": "code",
   "execution_count": 85,
   "id": "757cb2ef-9332-4ccd-9bb6-d1821678779f",
   "metadata": {},
   "outputs": [
    {
     "name": "stdout",
     "output_type": "stream",
     "text": [
      "u 26.40474 26.93078\n",
      "g 28.26252 28.3386\n",
      "r 28.1012 28.13086\n",
      "i 27.77502 27.8414\n",
      "z 27.38911 27.44872\n",
      "y 26.56121 26.65833\n"
     ]
    }
   ],
   "source": [
    "WLD2016_zeropoints = np.array([9.16, 50.7, 43.7, 32.36, 22.68, 10.58])\n",
    "WLD2021_zeropoints = np.array([14.87, 54.38, 44.91, 34.4, 23.96, 11.57])\n",
    "\n",
    "zp2016 = 2.5*np.log10(WLD2016_zeropoints*10**(-0.4*(0-24)))\n",
    "zp2021 = 2.5*np.log10(WLD2021_zeropoints*10**(-0.4*(0-24)))\n",
    "\n",
    "for i in range(6):\n",
    "    params[f'zenith_fwhm_{bands[i]}']=fwhm_list[i]\n",
    "    params[f'central_wavelength_{bands[i]}']=central_wavelength[i]\n",
    "    params[f'sky_brightness_{bands[i]}']=sky_brightness[i]\n",
    "    params[f'zero_point2016_{bands[i]}'] = zp2016[i]\n",
    "    params[f'zero_point2021_{bands[i]}'] = zp2021[i]\n",
    "   \n",
    "    print(bands[i], round(params[f'zero_point2016_{bands[i]}'],5), round(params[f'zero_point2021_{bands[i]}'],5))"
   ]
  },
  {
   "cell_type": "code",
   "execution_count": null,
   "id": "7e96bb3e-3481-4d62-a858-76f6ea812e7f",
   "metadata": {},
   "outputs": [],
   "source": []
  },
  {
   "cell_type": "code",
   "execution_count": 23,
   "id": "e1a529a4-6356-4dde-9fce-951e15a2767f",
   "metadata": {},
   "outputs": [
    {
     "data": {
      "text/plain": [
       "\u001b[0;31mType:\u001b[0m        FilterSequence\n",
       "\u001b[0;31mString form:\u001b[0m <speclite.filters.FilterSequence object at 0x16aeabd60>\n",
       "\u001b[0;31mLength:\u001b[0m      6\n",
       "\u001b[0;31mFile:\u001b[0m        /usr/local/lib/python3.9/site-packages/speclite/filters.py\n",
       "\u001b[0;31mDocstring:\u001b[0m  \n",
       "Immutable sequence of filter responses.\n",
       "\n",
       "Sequences should normally be created by calling :func:`load_filters`.\n",
       "Objects implement the `immutable sequence\n",
       "<https://docs.python.org/2/library/collections.html\n",
       "#collections-abstract-base-classes>`__ API, in addition to the methods\n",
       "listed here.\n",
       "\n",
       "A filter sequence's :meth:`get_ab_maggies` and :meth:`get_ab_magnitudes`\n",
       "methods return their results in a :class:`Table <astropy.table.Table>` and\n",
       "are convenient for calculating convolutions in several bands for\n",
       "multiple spectra.  For example, given the following 4 (identical) spectra\n",
       "covering the SDSS filters:\n",
       "\n",
       ">>> num_spectra, num_pixels = 4, 500\n",
       ">>> wlen = np.linspace(2000, 12000, num_pixels) * default_wavelength_unit\n",
       ">>> flux = np.ones((num_spectra, num_pixels)) * 1e-17 * default_flux_unit\n",
       "\n",
       "We can now calculate their magnitudes in all bands with one function:\n",
       "\n",
       ">>> sdss = load_filters('sdss2010-*')\n",
       ">>> mags = sdss.get_ab_magnitudes(flux, wlen)\n",
       "\n",
       "Refer to the :mod:`astropy docs <astropy.table>` for details on working\n",
       "with Tables.  For example, to pretty-print the magnitudes with a\n",
       "precision of 0.001:\n",
       "\n",
       ">>> formats = dict((n, '%.3f') for n in sdss.names)\n",
       ">>> mags.write(None, format='ascii.fixed_width', formats=formats)\n",
       "| sdss2010-u | sdss2010-g | sdss2010-r | sdss2010-i | sdss2010-z |\n",
       "|     22.340 |     21.742 |     21.141 |     20.718 |     20.338 |\n",
       "|     22.340 |     21.742 |     21.141 |     20.718 |     20.338 |\n",
       "|     22.340 |     21.742 |     21.141 |     20.718 |     20.338 |\n",
       "|     22.340 |     21.742 |     21.141 |     20.718 |     20.338 |\n",
       "\n",
       "Parameters\n",
       "----------\n",
       "responses : iterable\n",
       "    Response objects to include in this sequence. Objects are copied to\n",
       "    an internal list.\n",
       "\n",
       "Attributes\n",
       "----------\n",
       "names : list of str\n",
       "    List of the filter response names in this sequence, with the format\n",
       "    \"<group_name>-<band_name>\".\n",
       "effective_wavelengths : astropy.units.Quantity\n",
       "    List of the effective wavelengths for the filter responses in this\n",
       "    sequence, with the default wavelength units.\n"
      ]
     },
     "metadata": {},
     "output_type": "display_data"
    }
   ],
   "source": [
    "lsst?"
   ]
  },
  {
   "cell_type": "code",
   "execution_count": null,
   "id": "8edc2f90-29f1-40c8-aa76-374f752c6119",
   "metadata": {},
   "outputs": [],
   "source": [
    "# LOAD throughputs v14 and v1.7\n",
    "#from astropy.io import ascii\n",
    "#filters = 'ugrizy'\n",
    "#lsst2021={}\n",
    "#t={}\n",
    "#for filter in filters:\n",
    "#    lsst2021[filter]='/Users/jenniferpollack/Projects/OU-SIM/throughput-curves/v1.7/lsst_{}_v1.7.dat'.format(filter)\n",
    "#    t[filter] = ascii.read(lsst2021[filter])"
   ]
  },
  {
   "cell_type": "code",
   "execution_count": 22,
   "id": "c1cfdaf1-7580-48e8-a31f-8f11d41dec6b",
   "metadata": {},
   "outputs": [],
   "source": [
    "#for filter in filters:\n",
    "#t[filter].write('lsst2021-{}.ecsv'.format(filter))\n",
    "#t_r.write('lsstv1p4-r.ecsv')"
   ]
  },
  {
   "cell_type": "code",
   "execution_count": 65,
   "id": "revolutionary-veteran",
   "metadata": {},
   "outputs": [],
   "source": [
    "import galsim\n",
    "# Values from Ivezic et al 2019\n",
    "params = dict()\n",
    "bands = ['u', 'g', 'r', 'i', 'z', 'y']\n",
    "fwhm_list = [0.81, 0.77, 0.73, 0.71, 0.69, 0.68]\n",
    "sky_brightness = [22.99, 22.26, 21.20, 20.48, 19.60, 18.61]\n",
    "ext = [0.491, 0.213, 0.126, 0.096, 0.069, 0.170]\n",
    "central_wavelength = [3592.13, 4789.98, 6199.52, 7528.51, 8689.83, 9674.05]\n",
    "WLD_zeropoints = np.array([9.16, 50.70, 43.70, 32.36, 22.68, 10.58]) # Values from WLD using lsst-throughputs\n",
    "zp = 2.5*np.log10(WLD_zeropoints*10**(-0.4*(0-24)))\n",
    "for i in range(6):\n",
    "    params[f'zenith_fwhm_{bands[i]}']=fwhm_list[i]\n",
    "    params[f'central_wavelength_{bands[i]}']=central_wavelength[i]\n",
    "    params[f'sky_brightness_{bands[i]}']=sky_brightness[i]\n",
    "    params[f'zero_point_{bands[i]}'] = zp[i]\n",
    "params['mirror_diameter']=8.36\n",
    "params['effective_area']=32.4\n",
    "params['pixel_scale']=0.2\n",
    "params['X']=1.2\n",
    "def get_psf(band, params=params):\n",
    "    zenith_fwhm = params[f'zenith_fwhm_{band}']\n",
    "    central_wavelength = params[f'central_wavelength_{band}']\n",
    "    mirror_diameter = params['mirror_diameter']\n",
    "    effective_area = params['effective_area']\n",
    "    px_scale = params['pixel_scale']\n",
    "    sky_brightness = params[f'sky_brightness_{band}']\n",
    "    X = params['X']\n",
    "    atmospheric_psf_fwhm = zenith_fwhm*X**0.6 # Expected FWHM for the atmospheric PSF given the airmass\n",
    "    atmospheric_psf_model = galsim.Kolmogorov(fwhm = atmospheric_psf_fwhm) # Atmospheric part\n",
    "    # Set up the optical part\n",
    "    lambda_over_diameter = 3600*math.degrees(1e-10*central_wavelength/mirror_diameter) # This is tells you the diffraction limit\n",
    "    area_ratio = effective_area/(math.pi*(0.5*mirror_diameter)**2) \n",
    "    obscuration_fraction = math.sqrt(1 - area_ratio) # Part of the mirror is obscured due to the presence of the secondary (that blocks light)\n",
    "    optical_psf_model = galsim.Airy(lam_over_diam = lambda_over_diameter, obscuration = obscuration_fraction) # Optics part of the PSF\n",
    "    psf_model = galsim.Convolve(atmospheric_psf_model,optical_psf_model) # total PSF\n",
    "    return psf_model\n",
    "def get_flux(mag, band, exposure_time, gain=1.0):\n",
    "    #Given a magnitude and a zeropoint with exposure time, convert to flux counts\n",
    "    #the gain can also be specified in GalSim when drawing the profiles\n",
    "    return 10**(-0.4*(mag-params[f'zero_point_{band}']))*exposure_time*gain"
   ]
  },
  {
   "cell_type": "code",
   "execution_count": 69,
   "id": "74acdfdd-7b3a-47b9-9977-1efe23a650bc",
   "metadata": {},
   "outputs": [
    {
     "data": {
      "text/plain": [
       "60404.366294850384"
      ]
     },
     "execution_count": 69,
     "metadata": {},
     "output_type": "execute_result"
    }
   ],
   "source": [
    "data['observationStartMJD'][0]"
   ]
  },
  {
   "cell_type": "code",
   "execution_count": 66,
   "id": "liquid-benefit",
   "metadata": {},
   "outputs": [
    {
     "name": "stdout",
     "output_type": "stream",
     "text": [
      "u 26.40473868416963\n",
      "g 28.262519898333345\n",
      "r 28.10120359242606\n",
      "i 27.775021282350593\n",
      "z 27.389107625552178\n",
      "y 26.561214169247922\n"
     ]
    }
   ],
   "source": [
    "for i in range(6):\n",
    "    print(bands[i], params[f'zero_point_{bands[i]}'])"
   ]
  },
  {
   "cell_type": "code",
   "execution_count": 67,
   "id": "35af3d7c-e9ab-4220-8024-0516f7fa8845",
   "metadata": {},
   "outputs": [],
   "source": [
    "def create_target(data):\n",
    "    from astropy.Time import Time\n",
    "    \n",
    "    return {\n",
    "        'Survey': data['Survey'],\n",
    "        'FilterName': data['Filter'],\n",
    "        'Id': int(data['observationId']),\n",
    "        'RA': data['fieldRA'],\n",
    "        'Dec': data['fieldDec'],\n",
    "        'ExpTime': data['ExpTime'],\n",
    "        'SeeingFWHM': data['SeeingFWHMEff'],\n",
    "        'PSFFile': None,\n",
    "        'MJD-OBS': data['MJD-OBS'],\n",
    "        'DATE': Time(data['observationStartMJD'], format='mjd'),\n",
    "        'Zeropoints': gen_zeropoints(filter_name),\n",
    "        'BackgroundMags': data[\"skyBrightness\"],\n",
    "        'Rotskypos': 0\n",
    "    }\n",
    "\n",
    "\n",
    "t= Time(data_full['observationStartMJD'], format='mjd')"
   ]
  },
  {
   "cell_type": "code",
   "execution_count": 156,
   "id": "3aced2e9-b790-4373-a4f9-43332d0dc878",
   "metadata": {},
   "outputs": [
    {
     "data": {
      "text/plain": [
       "Index(['index', 'observationId', 'fieldRA', 'fieldDec', 'observationStartMJD',\n",
       "       'visitExposureTime', 'filter', 'rotSkyPos', 'seeingFwhmEff',\n",
       "       'skyBrightness'],\n",
       "      dtype='object')"
      ]
     },
     "execution_count": 156,
     "metadata": {},
     "output_type": "execute_result"
    }
   ],
   "source": [
    "new_test_targets_df.columns"
   ]
  },
  {
   "cell_type": "code",
   "execution_count": 157,
   "id": "aa42e00f-4aa5-466f-b49d-f23f5b2dfcde",
   "metadata": {},
   "outputs": [],
   "source": [
    "# rename columns and add zeropoint, survey, and Date columns\n",
    "\n",
    "new_test_targets_df.rename(columns = {'observationId':'Id', 'FilterName':'Filter', 'fieldRA':'RA', 'fieldDec':'Dec', 'visitExposureTime':'ExpTime',\n",
    "                                     'seeingFwhmEff': 'SeeingFWHM', 'observationStartMJD':'MJD-OBS','skyBrightness':'BackgroundMags'}, inplace = True)"
   ]
  },
  {
   "cell_type": "code",
   "execution_count": 160,
   "id": "ec7872cb-3404-452b-b960-34113c3593c6",
   "metadata": {},
   "outputs": [
    {
     "data": {
      "text/plain": [
       "Index(['Id', 'RA', 'Dec', 'MJD-OBS', 'ExpTime', 'filter', 'rotSkyPos',\n",
       "       'SeeingFWHM', 'BackgroundMags'],\n",
       "      dtype='object')"
      ]
     },
     "execution_count": 160,
     "metadata": {},
     "output_type": "execute_result"
    }
   ],
   "source": [
    "new_test_targets_df.drop('index', inplace=True, axis=1)\n"
   ]
  },
  {
   "cell_type": "code",
   "execution_count": 161,
   "id": "a96c76af-9fe6-4438-b69f-fe2ff1356f5b",
   "metadata": {},
   "outputs": [
    {
     "data": {
      "text/plain": [
       "Index(['Id', 'RA', 'Dec', 'MJD-OBS', 'ExpTime', 'filter', 'rotSkyPos',\n",
       "       'SeeingFWHM', 'BackgroundMags', 'Survey'],\n",
       "      dtype='object')"
      ]
     },
     "execution_count": 161,
     "metadata": {},
     "output_type": "execute_result"
    }
   ],
   "source": [
    "new_test_targets_df[\"Survey\"] = \"LSST\"\n",
    "new_test_targets_df.columns"
   ]
  },
  {
   "cell_type": "code",
   "execution_count": 163,
   "id": "8ec70486-0b0f-4a3d-90cd-6a0e4733bc5e",
   "metadata": {},
   "outputs": [
    {
     "ename": "ModuleNotFoundError",
     "evalue": "No module named 'astropy.Time'",
     "output_type": "error",
     "traceback": [
      "\u001b[0;31m---------------------------------------------------------------------------\u001b[0m",
      "\u001b[0;31mModuleNotFoundError\u001b[0m                       Traceback (most recent call last)",
      "\u001b[0;32m<ipython-input-163-b3cf24fdecd8>\u001b[0m in \u001b[0;36m<module>\u001b[0;34m\u001b[0m\n\u001b[0;32m----> 1\u001b[0;31m \u001b[0;32mfrom\u001b[0m \u001b[0mastropy\u001b[0m\u001b[0;34m.\u001b[0m\u001b[0mTime\u001b[0m \u001b[0;32mimport\u001b[0m \u001b[0mTime\u001b[0m\u001b[0;34m\u001b[0m\u001b[0;34m\u001b[0m\u001b[0m\n\u001b[0m\u001b[1;32m      2\u001b[0m \u001b[0mnew_test_targets_df\u001b[0m\u001b[0;34m[\u001b[0m\u001b[0;34m\"DATE\"\u001b[0m\u001b[0;34m]\u001b[0m\u001b[0;34m=\u001b[0m\u001b[0mTime\u001b[0m\u001b[0;34m(\u001b[0m\u001b[0mdata\u001b[0m\u001b[0;34m[\u001b[0m\u001b[0;34m'observationStartMJD'\u001b[0m\u001b[0;34m]\u001b[0m\u001b[0;34m,\u001b[0m \u001b[0mformat\u001b[0m\u001b[0;34m=\u001b[0m\u001b[0;34m'mjd'\u001b[0m\u001b[0;34m)\u001b[0m\u001b[0;34m\u001b[0m\u001b[0;34m\u001b[0m\u001b[0m\n",
      "\u001b[0;31mModuleNotFoundError\u001b[0m: No module named 'astropy.Time'"
     ]
    }
   ],
   "source": [
    "from astropy.Time import Time\n",
    "new_test_targets_df[\"DATE\"]=Time(data['observationStartMJD'], format='mjd')"
   ]
  },
  {
   "cell_type": "code",
   "execution_count": 141,
   "id": "dc299dff-0d87-4581-9d2b-cab622affe58",
   "metadata": {},
   "outputs": [
    {
     "name": "stdout",
     "output_type": "stream",
     "text": [
      "330810.49182116863\n"
     ]
    }
   ],
   "source": [
    "# Using area-weighted effective aperture over FOV\n",
    "# from https://confluence.lsstcorp.org/display/LKB/LSST+Key+Numbers\n",
    "_rubin_area = 0.25 * np.pi * 649**2    \n",
    "print(_rubin_area)\n",
    "delta_zp = 2.5*np.log10(0.95)\n",
    "\n",
    "x=list(np.random.randn(189)*delta_zp + 27.389107625552178)"
   ]
  },
  {
   "cell_type": "code",
   "execution_count": null,
   "id": "cab4483f-be0e-467c-bd1d-be26b1284b66",
   "metadata": {},
   "outputs": [],
   "source": []
  },
  {
   "cell_type": "code",
   "execution_count": null,
   "id": "electrical-feeling",
   "metadata": {},
   "outputs": [],
   "source": [
    "#def get_targets_by_filter(targets, filter_name):\n",
    "#    return [copy.deepcopy(target) for target in targets if target['FilterName'] == filter_name]\n",
    "\n",
    "for filter_name in 'ugriz':\n",
    "    print(filter_name, ':', len(get_targets_by_filter(targets, filter_name)))\n",
    "    \n",
    "# Using area-weighted effective aperture over FOV\n",
    "# from https://confluence.lsstcorp.org/display/LKB/LSST+Key+Numbers\n",
    "_rubin_area = 0.25 * np.pi * 649**2     \n",
    "    \n",
    "# Get the mean and stddev of Zeropoints and BackgroundMags for each filter\n",
    "zp_mean = {}\n",
    "zp_std = {}\n",
    "\n",
    "for target in targets:\n",
    "    filter_name = target['FilterName'][-1:]\n",
    "    zp = target['Zeropoints']\n",
    "    bg = target['BackgroundMags']\n",
    "   \n",
    "\n",
    "def gen_zeropoints(filter_name):\n",
    "    return list(np.around(np.random.randn(189)*zp_std[filter_name] + zp_mean[filter_name], 3))\n"
   ]
  },
  {
   "cell_type": "code",
   "execution_count": 142,
   "id": "c9f50fe8-133c-4b99-abd3-72e7d2ee4ee9",
   "metadata": {},
   "outputs": [],
   "source": [
    "import json"
   ]
  },
  {
   "cell_type": "code",
   "execution_count": null,
   "id": "ad32a966-1dac-4f08-bb6f-33539049d2d4",
   "metadata": {},
   "outputs": [],
   "source": [
    "# rename columns and add zeropoint column\n",
    "\n",
    "new_teset_targets_df.rename(columns = {'observationId':'Id', 'old_col2':'new_col2'}, inplace = True)"
   ]
  },
  {
   "cell_type": "code",
   "execution_count": 152,
   "id": "6ffd2da2-f673-47c0-af90-875744094155",
   "metadata": {},
   "outputs": [],
   "source": [
    "result = new_test_targets_df.to_json(orient=\"records\")"
   ]
  },
  {
   "cell_type": "code",
   "execution_count": 153,
   "id": "a792ecd1-29d5-4dcb-86ad-5c93312056dc",
   "metadata": {},
   "outputs": [],
   "source": [
    "parsed = json.loads(result)"
   ]
  },
  {
   "cell_type": "code",
   "execution_count": 154,
   "id": "ae2295a4-8730-464b-a027-3ec28793f956",
   "metadata": {},
   "outputs": [
    {
     "data": {
      "text/plain": [
       "[{'index': 125684,\n",
       "  'observationId': 125684,\n",
       "  'fieldRA': 230.491145705,\n",
       "  'fieldDec': 31.2034188983,\n",
       "  'observationStartMJD': 60404.3662948504,\n",
       "  'visitExposureTime': 30.0,\n",
       "  'filter': 'g',\n",
       "  'rotSkyPos': 202.4107363226,\n",
       "  'seeingFwhmEff': 0.9823751624,\n",
       "  'skyBrightness': 21.6924101277},\n",
       " {'index': 150985,\n",
       "  'observationId': 150985,\n",
       "  'fieldRA': 230.591223944,\n",
       "  'fieldDec': 31.9318240779,\n",
       "  'observationStartMJD': 60432.2608066389,\n",
       "  'visitExposureTime': 30.0,\n",
       "  'filter': 'g',\n",
       "  'rotSkyPos': 242.1628824706,\n",
       "  'seeingFwhmEff': 1.0513484833,\n",
       "  'skyBrightness': 21.3401940189},\n",
       " {'index': 151828,\n",
       "  'observationId': 151828,\n",
       "  'fieldRA': 230.9738223646,\n",
       "  'fieldDec': 29.3610978568,\n",
       "  'observationStartMJD': 60433.1940871503,\n",
       "  'visitExposureTime': 30.0,\n",
       "  'filter': 'g',\n",
       "  'rotSkyPos': 195.4307858923,\n",
       "  'seeingFwhmEff': 0.9501618301,\n",
       "  'skyBrightness': 21.918468102},\n",
       " {'index': 172117,\n",
       "  'observationId': 172117,\n",
       "  'fieldRA': 231.9101493816,\n",
       "  'fieldDec': 29.8807200085,\n",
       "  'observationStartMJD': 60488.0770967882,\n",
       "  'visitExposureTime': 30.0,\n",
       "  'filter': 'g',\n",
       "  'rotSkyPos': 112.3631775426,\n",
       "  'seeingFwhmEff': 1.3898653,\n",
       "  'skyBrightness': 21.9824701846},\n",
       " {'index': 321386,\n",
       "  'observationId': 321386,\n",
       "  'fieldRA': 230.4311959427,\n",
       "  'fieldDec': 32.4579985127,\n",
       "  'observationStartMJD': 60791.1932403864,\n",
       "  'visitExposureTime': 30.0,\n",
       "  'filter': 'g',\n",
       "  'rotSkyPos': 191.1345133606,\n",
       "  'seeingFwhmEff': 1.2685910177,\n",
       "  'skyBrightness': 21.9302956749},\n",
       " {'index': 330584,\n",
       "  'observationId': 330584,\n",
       "  'fieldRA': 231.1980035771,\n",
       "  'fieldDec': 29.9693070984,\n",
       "  'observationStartMJD': 60819.1204857087,\n",
       "  'visitExposureTime': 30.0,\n",
       "  'filter': 'g',\n",
       "  'rotSkyPos': 188.3261727487,\n",
       "  'seeingFwhmEff': 1.1587247286,\n",
       "  'skyBrightness': 21.9261091497},\n",
       " {'index': 516990,\n",
       "  'observationId': 516990,\n",
       "  'fieldRA': 232.9555533943,\n",
       "  'fieldDec': 30.202841517,\n",
       "  'observationStartMJD': 61119.3407698932,\n",
       "  'visitExposureTime': 30.0,\n",
       "  'filter': 'g',\n",
       "  'rotSkyPos': 135.8633080693,\n",
       "  'seeingFwhmEff': 0.8439632113,\n",
       "  'skyBrightness': 21.9648567755},\n",
       " {'index': 517792,\n",
       "  'observationId': 517792,\n",
       "  'fieldRA': 230.7907696786,\n",
       "  'fieldDec': 28.763980802,\n",
       "  'observationStartMJD': 61120.3011143131,\n",
       "  'visitExposureTime': 30.0,\n",
       "  'filter': 'g',\n",
       "  'rotSkyPos': 76.0042243603,\n",
       "  'seeingFwhmEff': 0.8501699578,\n",
       "  'skyBrightness': 21.9566063742},\n",
       " {'index': 555473,\n",
       "  'observationId': 555473,\n",
       "  'fieldRA': 232.7699872196,\n",
       "  'fieldDec': 29.3878565708,\n",
       "  'observationStartMJD': 61176.2483186688,\n",
       "  'visitExposureTime': 30.0,\n",
       "  'filter': 'g',\n",
       "  'rotSkyPos': 219.0666166996,\n",
       "  'seeingFwhmEff': 1.3670303803,\n",
       "  'skyBrightness': 21.891004146},\n",
       " {'index': 558577,\n",
       "  'observationId': 558577,\n",
       "  'fieldRA': 231.6555567533,\n",
       "  'fieldDec': 28.2627465243,\n",
       "  'observationStartMJD': 61179.2753572303,\n",
       "  'visitExposureTime': 30.0,\n",
       "  'filter': 'g',\n",
       "  'rotSkyPos': 223.3443813847,\n",
       "  'seeingFwhmEff': 1.1931636162,\n",
       "  'skyBrightness': 21.8535627573},\n",
       " {'index': 756621,\n",
       "  'observationId': 756621,\n",
       "  'fieldRA': 231.8133636324,\n",
       "  'fieldDec': 31.6595357923,\n",
       "  'observationStartMJD': 61528.2484748417,\n",
       "  'visitExposureTime': 30.0,\n",
       "  'filter': 'g',\n",
       "  'rotSkyPos': 181.1187555328,\n",
       "  'seeingFwhmEff': 0.875036372,\n",
       "  'skyBrightness': 21.9246706842},\n",
       " {'index': 804261,\n",
       "  'observationId': 804261,\n",
       "  'fieldRA': 232.4862426059,\n",
       "  'fieldDec': 31.3293151974,\n",
       "  'observationStartMJD': 61615.0256314301,\n",
       "  'visitExposureTime': 30.0,\n",
       "  'filter': 'g',\n",
       "  'rotSkyPos': 273.9010800849,\n",
       "  'seeingFwhmEff': 1.8026192586,\n",
       "  'skyBrightness': 21.909383776},\n",
       " {'index': 810644,\n",
       "  'observationId': 810644,\n",
       "  'fieldRA': 232.8378146317,\n",
       "  'fieldDec': 31.7823077148,\n",
       "  'observationStartMJD': 61621.9870670179,\n",
       "  'visitExposureTime': 30.0,\n",
       "  'filter': 'g',\n",
       "  'rotSkyPos': 141.8366604521,\n",
       "  'seeingFwhmEff': 1.0866980177,\n",
       "  'skyBrightness': 21.8449713259},\n",
       " {'index': 1150317,\n",
       "  'observationId': 1150317,\n",
       "  'fieldRA': 232.2589177267,\n",
       "  'fieldDec': 32.0370814235,\n",
       "  'observationStartMJD': 62211.3306635341,\n",
       "  'visitExposureTime': 30.0,\n",
       "  'filter': 'g',\n",
       "  'rotSkyPos': 92.1488423063,\n",
       "  'seeingFwhmEff': 1.1964892007,\n",
       "  'skyBrightness': 21.9657719408},\n",
       " {'index': 1153808,\n",
       "  'observationId': 1153808,\n",
       "  'fieldRA': 232.9406729202,\n",
       "  'fieldDec': 30.9661904091,\n",
       "  'observationStartMJD': 62215.3137723336,\n",
       "  'visitExposureTime': 30.0,\n",
       "  'filter': 'g',\n",
       "  'rotSkyPos': 128.248220365,\n",
       "  'seeingFwhmEff': 1.1553804737,\n",
       "  'skyBrightness': 21.9606946204},\n",
       " {'index': 1332997,\n",
       "  'observationId': 1332997,\n",
       "  'fieldRA': 230.2455655118,\n",
       "  'fieldDec': 30.2314220995,\n",
       "  'observationStartMJD': 62558.3344813149,\n",
       "  'visitExposureTime': 30.0,\n",
       "  'filter': 'g',\n",
       "  'rotSkyPos': 83.9108545846,\n",
       "  'seeingFwhmEff': 1.6057784153,\n",
       "  'skyBrightness': 21.0483044359},\n",
       " {'index': 105770,\n",
       "  'observationId': 105770,\n",
       "  'fieldRA': 230.9996159118,\n",
       "  'fieldDec': 30.8443327851,\n",
       "  'observationStartMJD': 60377.3940970148,\n",
       "  'visitExposureTime': 30.0,\n",
       "  'filter': 'i',\n",
       "  'rotSkyPos': 239.4049334372,\n",
       "  'seeingFwhmEff': 0.9676588679,\n",
       "  'skyBrightness': 20.1860658553},\n",
       " {'index': 107443,\n",
       "  'observationId': 107443,\n",
       "  'fieldRA': 232.7437214514,\n",
       "  'fieldDec': 32.4669285762,\n",
       "  'observationStartMJD': 60379.3708509683,\n",
       "  'visitExposureTime': 30.0,\n",
       "  'filter': 'i',\n",
       "  'rotSkyPos': 245.0584402503,\n",
       "  'seeingFwhmEff': 1.1511044396,\n",
       "  'skyBrightness': 20.27540764},\n",
       " {'index': 108284,\n",
       "  'observationId': 108284,\n",
       "  'fieldRA': 230.8425155685,\n",
       "  'fieldDec': 29.9825940261,\n",
       "  'observationStartMJD': 60380.3635616019,\n",
       "  'visitExposureTime': 30.0,\n",
       "  'filter': 'i',\n",
       "  'rotSkyPos': 135.1913240163,\n",
       "  'seeingFwhmEff': 0.7010312448,\n",
       "  'skyBrightness': 20.2820337678},\n",
       " {'index': 109160,\n",
       "  'observationId': 109160,\n",
       "  'fieldRA': 232.1465395101,\n",
       "  'fieldDec': 28.6491007242,\n",
       "  'observationStartMJD': 60381.3711287507,\n",
       "  'visitExposureTime': 30.0,\n",
       "  'filter': 'i',\n",
       "  'rotSkyPos': 110.9073602626,\n",
       "  'seeingFwhmEff': 0.6571581797,\n",
       "  'skyBrightness': 20.2856822901},\n",
       " {'index': 117308,\n",
       "  'observationId': 117308,\n",
       "  'fieldRA': 231.4395641021,\n",
       "  'fieldDec': 31.3988248526,\n",
       "  'observationStartMJD': 60395.2758951145,\n",
       "  'visitExposureTime': 30.0,\n",
       "  'filter': 'i',\n",
       "  'rotSkyPos': 223.8962780016,\n",
       "  'seeingFwhmEff': 0.7621109676,\n",
       "  'skyBrightness': 17.9233903096},\n",
       " {'index': 125776,\n",
       "  'observationId': 125776,\n",
       "  'fieldRA': 230.491145705,\n",
       "  'fieldDec': 31.2034188983,\n",
       "  'observationStartMJD': 60404.4105522054,\n",
       "  'visitExposureTime': 30.0,\n",
       "  'filter': 'i',\n",
       "  'rotSkyPos': 213.8664749744,\n",
       "  'seeingFwhmEff': 0.8248449587,\n",
       "  'skyBrightness': 19.8378944298},\n",
       " {'index': 126537,\n",
       "  'observationId': 126537,\n",
       "  'fieldRA': 230.9884442174,\n",
       "  'fieldDec': 28.5107769378,\n",
       "  'observationStartMJD': 60405.3241291213,\n",
       "  'visitExposureTime': 30.0,\n",
       "  'filter': 'i',\n",
       "  'rotSkyPos': 138.4426451909,\n",
       "  'seeingFwhmEff': 1.02718069,\n",
       "  'skyBrightness': 20.2809387141},\n",
       " {'index': 126655,\n",
       "  'observationId': 126655,\n",
       "  'fieldRA': 232.7769164779,\n",
       "  'fieldDec': 31.3370806416,\n",
       "  'observationStartMJD': 60405.3803419828,\n",
       "  'visitExposureTime': 30.0,\n",
       "  'filter': 'i',\n",
       "  'rotSkyPos': 161.4227909631,\n",
       "  'seeingFwhmEff': 1.1798452802,\n",
       "  'skyBrightness': 20.1795563677},\n",
       " {'index': 148094,\n",
       "  'observationId': 148094,\n",
       "  'fieldRA': 230.1873194897,\n",
       "  'fieldDec': 29.524765767,\n",
       "  'observationStartMJD': 60429.2644166929,\n",
       "  'visitExposureTime': 30.0,\n",
       "  'filter': 'i',\n",
       "  'rotSkyPos': 220.8379358028,\n",
       "  'seeingFwhmEff': 1.5776815181,\n",
       "  'skyBrightness': 19.3862719868},\n",
       " {'index': 148096,\n",
       "  'observationId': 148096,\n",
       "  'fieldRA': 230.6674568762,\n",
       "  'fieldDec': 32.5869227696,\n",
       "  'observationStartMJD': 60429.2653165015,\n",
       "  'visitExposureTime': 30.0,\n",
       "  'filter': 'i',\n",
       "  'rotSkyPos': 217.7244362078,\n",
       "  'seeingFwhmEff': 1.337037898,\n",
       "  'skyBrightness': 19.3873394224},\n",
       " {'index': 184470,\n",
       "  'observationId': 184470,\n",
       "  'fieldRA': 232.7974642194,\n",
       "  'fieldDec': 30.6776347075,\n",
       "  'observationStartMJD': 60512.1215427568,\n",
       "  'visitExposureTime': 30.0,\n",
       "  'filter': 'i',\n",
       "  'rotSkyPos': 289.5626845369,\n",
       "  'seeingFwhmEff': 1.3366428321,\n",
       "  'skyBrightness': 18.3266055353},\n",
       " {'index': 192627,\n",
       "  'observationId': 192627,\n",
       "  'fieldRA': 231.935336692,\n",
       "  'fieldDec': 31.9565569711,\n",
       "  'observationStartMJD': 60530.0172891157,\n",
       "  'visitExposureTime': 30.0,\n",
       "  'filter': 'i',\n",
       "  'rotSkyPos': 175.5947956663,\n",
       "  'seeingFwhmEff': 1.1908187489,\n",
       "  'skyBrightness': 20.1845437039},\n",
       " {'index': 335320,\n",
       "  'observationId': 335320,\n",
       "  'fieldRA': 230.5260299313,\n",
       "  'fieldDec': 30.5203708772,\n",
       "  'observationStartMJD': 60829.1005302144,\n",
       "  'visitExposureTime': 30.0,\n",
       "  'filter': 'i',\n",
       "  'rotSkyPos': 177.1389626569,\n",
       "  'seeingFwhmEff': 1.4297687165,\n",
       "  'skyBrightness': 20.0064071252},\n",
       " {'index': 336050,\n",
       "  'observationId': 336050,\n",
       "  'fieldRA': 232.9851774338,\n",
       "  'fieldDec': 29.8650441348,\n",
       "  'observationStartMJD': 60830.0981887912,\n",
       "  'visitExposureTime': 30.0,\n",
       "  'filter': 'i',\n",
       "  'rotSkyPos': 223.5180086697,\n",
       "  'seeingFwhmEff': 2.2703450046,\n",
       "  'skyBrightness': 19.768936717},\n",
       " {'index': 532042,\n",
       "  'observationId': 532042,\n",
       "  'fieldRA': 232.2438333537,\n",
       "  'fieldDec': 29.6292398228,\n",
       "  'observationStartMJD': 61140.3500552874,\n",
       "  'visitExposureTime': 30.0,\n",
       "  'filter': 'i',\n",
       "  'rotSkyPos': 240.992477886,\n",
       "  'seeingFwhmEff': 0.8040401711,\n",
       "  'skyBrightness': 19.9477352639},\n",
       " {'index': 555333,\n",
       "  'observationId': 555333,\n",
       "  'fieldRA': 232.7699872196,\n",
       "  'fieldDec': 29.3878565708,\n",
       "  'observationStartMJD': 61176.1834068476,\n",
       "  'visitExposureTime': 30.0,\n",
       "  'filter': 'i',\n",
       "  'rotSkyPos': 171.491566116,\n",
       "  'seeingFwhmEff': 1.3319255946,\n",
       "  'skyBrightness': 20.2654297187},\n",
       " {'index': 107465,\n",
       "  'observationId': 107465,\n",
       "  'fieldRA': 232.7437214514,\n",
       "  'fieldDec': 32.4669285762,\n",
       "  'observationStartMJD': 60379.38251561,\n",
       "  'visitExposureTime': 30.0,\n",
       "  'filter': 'r',\n",
       "  'rotSkyPos': 254.2050581622,\n",
       "  'seeingFwhmEff': 0.8819521432,\n",
       "  'skyBrightness': 20.9773195873},\n",
       " {'index': 107495,\n",
       "  'observationId': 107495,\n",
       "  'fieldRA': 230.8466208548,\n",
       "  'fieldDec': 29.9586300985,\n",
       "  'observationStartMJD': 60379.3965671768,\n",
       "  'visitExposureTime': 30.0,\n",
       "  'filter': 'r',\n",
       "  'rotSkyPos': 269.8510402534,\n",
       "  'seeingFwhmEff': 1.1235134702,\n",
       "  'skyBrightness': 20.872644861},\n",
       " {'index': 109182,\n",
       "  'observationId': 109182,\n",
       "  'fieldRA': 232.1465395101,\n",
       "  'fieldDec': 28.6491007242,\n",
       "  'observationStartMJD': 60381.3828107368,\n",
       "  'visitExposureTime': 30.0,\n",
       "  'filter': 'r',\n",
       "  'rotSkyPos': 121.3953736601,\n",
       "  'seeingFwhmEff': 1.0188775676,\n",
       "  'skyBrightness': 20.9762400412},\n",
       " {'index': 125737,\n",
       "  'observationId': 125737,\n",
       "  'fieldRA': 230.491145705,\n",
       "  'fieldDec': 31.2034188983,\n",
       "  'observationStartMJD': 60404.3915442599,\n",
       "  'visitExposureTime': 30.0,\n",
       "  'filter': 'r',\n",
       "  'rotSkyPos': 210.0390576485,\n",
       "  'seeingFwhmEff': 1.0035119867,\n",
       "  'skyBrightness': 20.7998466998},\n",
       " {'index': 126587,\n",
       "  'observationId': 126587,\n",
       "  'fieldRA': 230.9884442174,\n",
       "  'fieldDec': 28.5107769378,\n",
       "  'observationStartMJD': 60405.3480771126,\n",
       "  'visitExposureTime': 30.0,\n",
       "  'filter': 'r',\n",
       "  'rotSkyPos': 153.6435918021,\n",
       "  'seeingFwhmEff': 0.9008142108,\n",
       "  'skyBrightness': 20.9473022137},\n",
       " {'index': 126599,\n",
       "  'observationId': 126599,\n",
       "  'fieldRA': 232.7769164779,\n",
       "  'fieldDec': 31.3370806416,\n",
       "  'observationStartMJD': 60405.3534242422,\n",
       "  'visitExposureTime': 30.0,\n",
       "  'filter': 'r',\n",
       "  'rotSkyPos': 150.8348796965,\n",
       "  'seeingFwhmEff': 0.895913964,\n",
       "  'skyBrightness': 20.94173771},\n",
       " {'index': 134918,\n",
       "  'observationId': 134918,\n",
       "  'fieldRA': 231.240147884,\n",
       "  'fieldDec': 31.1963929814,\n",
       "  'observationStartMJD': 60414.2951503025,\n",
       "  'visitExposureTime': 30.0,\n",
       "  'filter': 'r',\n",
       "  'rotSkyPos': 213.2098770896,\n",
       "  'seeingFwhmEff': 1.4187436228,\n",
       "  'skyBrightness': 20.9869228176},\n",
       " {'index': 151035,\n",
       "  'observationId': 151035,\n",
       "  'fieldRA': 230.591223944,\n",
       "  'fieldDec': 31.9318240779,\n",
       "  'observationStartMJD': 60432.2845754708,\n",
       "  'visitExposureTime': 30.0,\n",
       "  'filter': 'r',\n",
       "  'rotSkyPos': 254.1284003656,\n",
       "  'seeingFwhmEff': 0.9244464203,\n",
       "  'skyBrightness': 20.6389090415},\n",
       " {'index': 172167,\n",
       "  'observationId': 172167,\n",
       "  'fieldRA': 231.9101493816,\n",
       "  'fieldDec': 29.8807200085,\n",
       "  'observationStartMJD': 60488.1014746132,\n",
       "  'visitExposureTime': 30.0,\n",
       "  'filter': 'r',\n",
       "  'rotSkyPos': 132.2020056656,\n",
       "  'seeingFwhmEff': 1.412391025,\n",
       "  'skyBrightness': 20.9956854232},\n",
       " {'index': 177285,\n",
       "  'observationId': 177285,\n",
       "  'fieldRA': 232.892833372,\n",
       "  'fieldDec': 29.3857067412,\n",
       "  'observationStartMJD': 60493.0825724835,\n",
       "  'visitExposureTime': 30.0,\n",
       "  'filter': 'r',\n",
       "  'rotSkyPos': 180.9577159227,\n",
       "  'seeingFwhmEff': 1.1791207713,\n",
       "  'skyBrightness': 20.9940188053},\n",
       " {'index': 177287,\n",
       "  'observationId': 177287,\n",
       "  'fieldRA': 231.3955647414,\n",
       "  'fieldDec': 31.8816570692,\n",
       "  'observationStartMJD': 60493.0834779572,\n",
       "  'visitExposureTime': 30.0,\n",
       "  'filter': 'r',\n",
       "  'rotSkyPos': 182.4390263424,\n",
       "  'seeingFwhmEff': 1.1941904482,\n",
       "  'skyBrightness': 20.9861452755},\n",
       " {'index': 299595,\n",
       "  'observationId': 299595,\n",
       "  'fieldRA': 230.4562768625,\n",
       "  'fieldDec': 29.2940186263,\n",
       "  'observationStartMJD': 60737.3807295722,\n",
       "  'visitExposureTime': 30.0,\n",
       "  'filter': 'r',\n",
       "  'rotSkyPos': 226.6852141375,\n",
       "  'seeingFwhmEff': 0.8654419416,\n",
       "  'skyBrightness': 20.957030193},\n",
       " {'index': 330966,\n",
       "  'observationId': 330966,\n",
       "  'fieldRA': 231.9999708396,\n",
       "  'fieldDec': 32.5883395415,\n",
       "  'observationStartMJD': 60822.2050030441,\n",
       "  'visitExposureTime': 30.0,\n",
       "  'filter': 'r',\n",
       "  'rotSkyPos': 285.8857098379,\n",
       "  'seeingFwhmEff': 0.8569466724,\n",
       "  'skyBrightness': 20.9556522507},\n",
       " {'index': 510086,\n",
       "  'observationId': 510086,\n",
       "  'fieldRA': 232.5286266639,\n",
       "  'fieldDec': 30.1362067614,\n",
       "  'observationStartMJD': 61111.3730721202,\n",
       "  'visitExposureTime': 30.0,\n",
       "  'filter': 'r',\n",
       "  'rotSkyPos': 120.1493500171,\n",
       "  'seeingFwhmEff': 1.0607840099,\n",
       "  'skyBrightness': 20.4401186987},\n",
       " {'index': 573731,\n",
       "  'observationId': 573731,\n",
       "  'fieldRA': 231.0670698491,\n",
       "  'fieldDec': 29.4436584882,\n",
       "  'observationStartMJD': 61226.9867157858,\n",
       "  'visitExposureTime': 30.0,\n",
       "  'filter': 'r',\n",
       "  'rotSkyPos': 131.5298215299,\n",
       "  'seeingFwhmEff': 0.8065486827,\n",
       "  'skyBrightness': 20.9508063574},\n",
       " {'index': 151778,\n",
       "  'observationId': 151778,\n",
       "  'fieldRA': 230.9738223646,\n",
       "  'fieldDec': 29.3610978568,\n",
       "  'observationStartMJD': 60433.1698572186,\n",
       "  'visitExposureTime': 30.0,\n",
       "  'filter': 'u',\n",
       "  'rotSkyPos': 180.4246229622,\n",
       "  'seeingFwhmEff': 1.0316149798,\n",
       "  'skyBrightness': 22.5646757227},\n",
       " {'index': 177383,\n",
       "  'observationId': 177383,\n",
       "  'fieldRA': 232.892833372,\n",
       "  'fieldDec': 29.3857067412,\n",
       "  'observationStartMJD': 60493.1258261506,\n",
       "  'visitExposureTime': 30.0,\n",
       "  'filter': 'u',\n",
       "  'rotSkyPos': 206.4536819115,\n",
       "  'seeingFwhmEff': 1.431333139,\n",
       "  'skyBrightness': 22.5722903891},\n",
       " {'index': 179155,\n",
       "  'observationId': 179155,\n",
       "  'fieldRA': 230.7768447757,\n",
       "  'fieldDec': 31.0479992653,\n",
       "  'observationStartMJD': 60495.9878572584,\n",
       "  'visitExposureTime': 30.0,\n",
       "  'filter': 'u',\n",
       "  'rotSkyPos': 199.8120602478,\n",
       "  'seeingFwhmEff': 1.0025010465,\n",
       "  'skyBrightness': 22.5681409068},\n",
       " {'index': 179156,\n",
       "  'observationId': 179156,\n",
       "  'fieldRA': 232.3535334134,\n",
       "  'fieldDec': 28.2737416749,\n",
       "  'observationStartMJD': 60495.9882719807,\n",
       "  'visitExposureTime': 30.0,\n",
       "  'filter': 'u',\n",
       "  'rotSkyPos': 195.0972230856,\n",
       "  'seeingFwhmEff': 0.8412859543,\n",
       "  'skyBrightness': 22.5735955893},\n",
       " {'index': 321336,\n",
       "  'observationId': 321336,\n",
       "  'fieldRA': 230.4311959427,\n",
       "  'fieldDec': 32.4579985127,\n",
       "  'observationStartMJD': 60791.1694390661,\n",
       "  'visitExposureTime': 30.0,\n",
       "  'filter': 'u',\n",
       "  'rotSkyPos': 180.6559856889,\n",
       "  'seeingFwhmEff': 0.6107782838,\n",
       "  'skyBrightness': 22.5495743864},\n",
       " {'index': 330534,\n",
       "  'observationId': 330534,\n",
       "  'fieldRA': 231.1980035771,\n",
       "  'fieldDec': 29.9693070984,\n",
       "  'observationStartMJD': 60819.0974218243,\n",
       "  'visitExposureTime': 30.0,\n",
       "  'filter': 'u',\n",
       "  'rotSkyPos': 177.7194763795,\n",
       "  'seeingFwhmEff': 1.8250484572,\n",
       "  'skyBrightness': 22.5515504336},\n",
       " {'index': 517742,\n",
       "  'observationId': 517742,\n",
       "  'fieldRA': 230.7907696786,\n",
       "  'fieldDec': 28.763980802,\n",
       "  'observationStartMJD': 61120.2781659532,\n",
       "  'visitExposureTime': 30.0,\n",
       "  'filter': 'u',\n",
       "  'rotSkyPos': 64.1207479226,\n",
       "  'seeingFwhmEff': 1.2149094344,\n",
       "  'skyBrightness': 22.5739037905},\n",
       " {'index': 517744,\n",
       "  'observationId': 517744,\n",
       "  'fieldRA': 231.1243943268,\n",
       "  'fieldDec': 31.9604091963,\n",
       "  'observationStartMJD': 61120.279016187,\n",
       "  'visitExposureTime': 30.0,\n",
       "  'filter': 'u',\n",
       "  'rotSkyPos': 67.8464865064,\n",
       "  'seeingFwhmEff': 1.2323559788,\n",
       "  'skyBrightness': 22.5711548513},\n",
       " {'index': 551862,\n",
       "  'observationId': 551862,\n",
       "  'fieldRA': 232.8258870488,\n",
       "  'fieldDec': 30.2057519589,\n",
       "  'observationStartMJD': 61172.205430027,\n",
       "  'visitExposureTime': 30.0,\n",
       "  'filter': 'u',\n",
       "  'rotSkyPos': 253.1562211521,\n",
       "  'seeingFwhmEff': 1.2254868537,\n",
       "  'skyBrightness': 22.5777461562},\n",
       " {'index': 558527,\n",
       "  'observationId': 558527,\n",
       "  'fieldRA': 231.6555567533,\n",
       "  'fieldDec': 28.2627465243,\n",
       "  'observationStartMJD': 61179.2520326218,\n",
       "  'visitExposureTime': 30.0,\n",
       "  'filter': 'u',\n",
       "  'rotSkyPos': 217.1602481389,\n",
       "  'seeingFwhmEff': 1.1457795165,\n",
       "  'skyBrightness': 22.5422681598},\n",
       " {'index': 755866,\n",
       "  'observationId': 755866,\n",
       "  'fieldRA': 231.3184161504,\n",
       "  'fieldDec': 31.4469214353,\n",
       "  'observationStartMJD': 61527.2292095042,\n",
       "  'visitExposureTime': 30.0,\n",
       "  'filter': 'u',\n",
       "  'rotSkyPos': 253.3533568078,\n",
       "  'seeingFwhmEff': 0.9266716928,\n",
       "  'skyBrightness': 22.5859490597},\n",
       " {'index': 773412,\n",
       "  'observationId': 773412,\n",
       "  'fieldRA': 230.1969163496,\n",
       "  'fieldDec': 31.2225539869,\n",
       "  'observationStartMJD': 61556.3098968671,\n",
       "  'visitExposureTime': 30.0,\n",
       "  'filter': 'u',\n",
       "  'rotSkyPos': 300.165866377,\n",
       "  'seeingFwhmEff': 2.0370415747,\n",
       "  'skyBrightness': 22.3704980969},\n",
       " {'index': 779033,\n",
       "  'observationId': 779033,\n",
       "  'fieldRA': 232.2197789524,\n",
       "  'fieldDec': 29.8077931133,\n",
       "  'observationStartMJD': 61562.0710293668,\n",
       "  'visitExposureTime': 30.0,\n",
       "  'filter': 'u',\n",
       "  'rotSkyPos': 214.9049483684,\n",
       "  'seeingFwhmEff': 1.1876260084,\n",
       "  'skyBrightness': 22.5699545848},\n",
       " {'index': 804211,\n",
       "  'observationId': 804211,\n",
       "  'fieldRA': 232.4862426059,\n",
       "  'fieldDec': 31.3293151974,\n",
       "  'observationStartMJD': 61615.0019818231,\n",
       "  'visitExposureTime': 30.0,\n",
       "  'filter': 'u',\n",
       "  'rotSkyPos': 257.0047667635,\n",
       "  'seeingFwhmEff': 1.5504869328,\n",
       "  'skyBrightness': 22.5754497793},\n",
       " {'index': 1006232,\n",
       "  'observationId': 1006232,\n",
       "  'fieldRA': 230.2403454031,\n",
       "  'fieldDec': 28.834025009,\n",
       "  'observationStartMJD': 61943.1542346955,\n",
       "  'visitExposureTime': 30.0,\n",
       "  'filter': 'u',\n",
       "  'rotSkyPos': 154.8031251652,\n",
       "  'seeingFwhmEff': 1.45218229,\n",
       "  'skyBrightness': 22.5732796461},\n",
       " {'index': 1010746,\n",
       "  'observationId': 1010746,\n",
       "  'fieldRA': 231.9856519279,\n",
       "  'fieldDec': 30.2303990276,\n",
       "  'observationStartMJD': 61949.0665202085,\n",
       "  'visitExposureTime': 30.0,\n",
       "  'filter': 'u',\n",
       "  'rotSkyPos': 102.3403534048,\n",
       "  'seeingFwhmEff': 3.4628678176,\n",
       "  'skyBrightness': 22.5510078577},\n",
       " {'index': 1150267,\n",
       "  'observationId': 1150267,\n",
       "  'fieldRA': 232.2589177267,\n",
       "  'fieldDec': 32.0370814235,\n",
       "  'observationStartMJD': 62211.3071846439,\n",
       "  'visitExposureTime': 30.0,\n",
       "  'filter': 'u',\n",
       "  'rotSkyPos': 77.912496711,\n",
       "  'seeingFwhmEff': 1.0985281423,\n",
       "  'skyBrightness': 22.5786578174},\n",
       " {'index': 1153758,\n",
       "  'observationId': 1153758,\n",
       "  'fieldRA': 232.9406729202,\n",
       "  'fieldDec': 30.9661904091,\n",
       "  'observationStartMJD': 62215.2888955413,\n",
       "  'visitExposureTime': 30.0,\n",
       "  'filter': 'u',\n",
       "  'rotSkyPos': 114.6313838433,\n",
       "  'seeingFwhmEff': 1.2548144706,\n",
       "  'skyBrightness': 22.5705691105},\n",
       " {'index': 1336310,\n",
       "  'observationId': 1336310,\n",
       "  'fieldRA': 232.9982151852,\n",
       "  'fieldDec': 32.1028919836,\n",
       "  'observationStartMJD': 62562.342594241,\n",
       "  'visitExposureTime': 30.0,\n",
       "  'filter': 'u',\n",
       "  'rotSkyPos': 179.7974329066,\n",
       "  'seeingFwhmEff': 1.5315200177,\n",
       "  'skyBrightness': 22.5596623778},\n",
       " {'index': 1380399,\n",
       "  'observationId': 1380399,\n",
       "  'fieldRA': 230.9500650187,\n",
       "  'fieldDec': 30.4654513038,\n",
       "  'observationStartMJD': 62619.1715082019,\n",
       "  'visitExposureTime': 30.0,\n",
       "  'filter': 'u',\n",
       "  'rotSkyPos': 184.4179532505,\n",
       "  'seeingFwhmEff': 1.6388630047,\n",
       "  'skyBrightness': 22.5552061427},\n",
       " {'index': 1973183,\n",
       "  'observationId': 1973183,\n",
       "  'fieldRA': 232.3433160589,\n",
       "  'fieldDec': 29.2325927089,\n",
       "  'observationStartMJD': 63683.3119617065,\n",
       "  'visitExposureTime': 30.0,\n",
       "  'filter': 'u',\n",
       "  'rotSkyPos': 214.475119941,\n",
       "  'seeingFwhmEff': 0.74040579,\n",
       "  'skyBrightness': 22.5966885208},\n",
       " {'index': 112672,\n",
       "  'observationId': 112672,\n",
       "  'fieldRA': 230.5553794163,\n",
       "  'fieldDec': 29.6100336297,\n",
       "  'observationStartMJD': 60387.3898380501,\n",
       "  'visitExposureTime': 30.0,\n",
       "  'filter': 'z',\n",
       "  'rotSkyPos': 286.2736390879,\n",
       "  'seeingFwhmEff': 0.8283108792,\n",
       "  'skyBrightness': 19.3024281612},\n",
       " {'index': 112693,\n",
       "  'observationId': 112693,\n",
       "  'fieldRA': 232.874094805,\n",
       "  'fieldDec': 31.8538104857,\n",
       "  'observationStartMJD': 60387.3993012192,\n",
       "  'visitExposureTime': 30.0,\n",
       "  'filter': 'z',\n",
       "  'rotSkyPos': 285.8724668347,\n",
       "  'seeingFwhmEff': 0.8387760688,\n",
       "  'skyBrightness': 19.2374563636},\n",
       " {'index': 114270,\n",
       "  'observationId': 114270,\n",
       "  'fieldRA': 231.2080768935,\n",
       "  'fieldDec': 29.8181938212,\n",
       "  'observationStartMJD': 60391.3051431759,\n",
       "  'visitExposureTime': 30.0,\n",
       "  'filter': 'z',\n",
       "  'rotSkyPos': 224.4042119317,\n",
       "  'seeingFwhmEff': 0.7784084313,\n",
       "  'skyBrightness': 18.9647766629},\n",
       " {'index': 117357,\n",
       "  'observationId': 117357,\n",
       "  'fieldRA': 232.6146709107,\n",
       "  'fieldDec': 28.7522970645,\n",
       "  'observationStartMJD': 60395.2998135792,\n",
       "  'visitExposureTime': 30.0,\n",
       "  'filter': 'z',\n",
       "  'rotSkyPos': 233.8599172714,\n",
       "  'seeingFwhmEff': 0.7942660033,\n",
       "  'skyBrightness': 17.986102006},\n",
       " {'index': 117358,\n",
       "  'observationId': 117358,\n",
       "  'fieldRA': 231.4395641021,\n",
       "  'fieldDec': 31.3988248526,\n",
       "  'observationStartMJD': 60395.3002614017,\n",
       "  'visitExposureTime': 30.0,\n",
       "  'filter': 'z',\n",
       "  'rotSkyPos': 238.6707416891,\n",
       "  'seeingFwhmEff': 0.8012834573,\n",
       "  'skyBrightness': 17.9710807136},\n",
       " {'index': 137753,\n",
       "  'observationId': 137753,\n",
       "  'fieldRA': 232.0968944415,\n",
       "  'fieldDec': 30.6584752486,\n",
       "  'observationStartMJD': 60417.2996046322,\n",
       "  'visitExposureTime': 30.0,\n",
       "  'filter': 'z',\n",
       "  'rotSkyPos': 174.892540396,\n",
       "  'seeingFwhmEff': 0.9360406509,\n",
       "  'skyBrightness': 19.3198003093},\n",
       " {'index': 147065,\n",
       "  'observationId': 147065,\n",
       "  'fieldRA': 230.820693692,\n",
       "  'fieldDec': 31.3554661314,\n",
       "  'observationStartMJD': 60428.2398167475,\n",
       "  'visitExposureTime': 30.0,\n",
       "  'filter': 'z',\n",
       "  'rotSkyPos': 215.6166477888,\n",
       "  'seeingFwhmEff': 0.9036971734,\n",
       "  'skyBrightness': 18.6742105105},\n",
       " {'index': 147074,\n",
       "  'observationId': 147074,\n",
       "  'fieldRA': 231.9427851417,\n",
       "  'fieldDec': 28.6833218745,\n",
       "  'observationStartMJD': 60428.2439161913,\n",
       "  'visitExposureTime': 30.0,\n",
       "  'filter': 'z',\n",
       "  'rotSkyPos': 217.4844552284,\n",
       "  'seeingFwhmEff': 0.8246455346,\n",
       "  'skyBrightness': 18.6688260233},\n",
       " {'index': 148146,\n",
       "  'observationId': 148146,\n",
       "  'fieldRA': 230.6674568762,\n",
       "  'fieldDec': 32.5869227696,\n",
       "  'observationStartMJD': 60429.2896813166,\n",
       "  'visitExposureTime': 30.0,\n",
       "  'filter': 'z',\n",
       "  'rotSkyPos': 230.5658574203,\n",
       "  'seeingFwhmEff': 1.0556716454,\n",
       "  'skyBrightness': 18.9046655676},\n",
       " {'index': 162864,\n",
       "  'observationId': 162864,\n",
       "  'fieldRA': 232.2007276775,\n",
       "  'fieldDec': 29.4138794287,\n",
       "  'observationStartMJD': 60460.2685637576,\n",
       "  'visitExposureTime': 30.0,\n",
       "  'filter': 'z',\n",
       "  'rotSkyPos': 193.8667250458,\n",
       "  'seeingFwhmEff': 1.1323184555,\n",
       "  'skyBrightness': 19.0037359137},\n",
       " {'index': 184520,\n",
       "  'observationId': 184520,\n",
       "  'fieldRA': 232.7974642194,\n",
       "  'fieldDec': 30.6776347075,\n",
       "  'observationStartMJD': 60512.1452784257,\n",
       "  'visitExposureTime': 30.0,\n",
       "  'filter': 'z',\n",
       "  'rotSkyPos': 292.6852061702,\n",
       "  'seeingFwhmEff': 1.2149611334,\n",
       "  'skyBrightness': 18.1230457071},\n",
       " {'index': 185805,\n",
       "  'observationId': 185805,\n",
       "  'fieldRA': 230.3609058811,\n",
       "  'fieldDec': 30.2522867427,\n",
       "  'observationStartMJD': 60514.0277192053,\n",
       "  'visitExposureTime': 30.0,\n",
       "  'filter': 'z',\n",
       "  'rotSkyPos': 280.4171323828,\n",
       "  'seeingFwhmEff': 1.4212816898,\n",
       "  'skyBrightness': 18.8674759801},\n",
       " {'index': 302585,\n",
       "  'observationId': 302585,\n",
       "  'fieldRA': 231.7364797519,\n",
       "  'fieldDec': 30.985947443,\n",
       "  'observationStartMJD': 60748.3064932112,\n",
       "  'visitExposureTime': 30.0,\n",
       "  'filter': 'z',\n",
       "  'rotSkyPos': 172.9542468818,\n",
       "  'seeingFwhmEff': 0.9052524032,\n",
       "  'skyBrightness': 18.3200190075},\n",
       " {'index': 336100,\n",
       "  'observationId': 336100,\n",
       "  'fieldRA': 232.9851774338,\n",
       "  'fieldDec': 29.8650441348,\n",
       "  'observationStartMJD': 60830.1234031071,\n",
       "  'visitExposureTime': 30.0,\n",
       "  'filter': 'z',\n",
       "  'rotSkyPos': 241.5471447729,\n",
       "  'seeingFwhmEff': 1.4171004788,\n",
       "  'skyBrightness': 19.1545279343},\n",
       " {'index': 374948,\n",
       "  'observationId': 374948,\n",
       "  'fieldRA': 230.7050670069,\n",
       "  'fieldDec': 28.5499071709,\n",
       "  'observationStartMJD': 60900.0159469403,\n",
       "  'visitExposureTime': 30.0,\n",
       "  'filter': 'z',\n",
       "  'rotSkyPos': 150.6871918592,\n",
       "  'seeingFwhmEff': 0.6771396829,\n",
       "  'skyBrightness': 19.2360772685},\n",
       " {'index': 377365,\n",
       "  'observationId': 377365,\n",
       "  'fieldRA': 232.3892690561,\n",
       "  'fieldDec': 31.6132586147,\n",
       "  'observationStartMJD': 60904.020784634,\n",
       "  'visitExposureTime': 30.0,\n",
       "  'filter': 'z',\n",
       "  'rotSkyPos': 215.2088334853,\n",
       "  'seeingFwhmEff': 1.2064628365,\n",
       "  'skyBrightness': 19.1805754469},\n",
       " {'index': 389243,\n",
       "  'observationId': 389243,\n",
       "  'fieldRA': 231.8678900699,\n",
       "  'fieldDec': 29.9552213999,\n",
       "  'observationStartMJD': 60920.0477819891,\n",
       "  'visitExposureTime': 30.0,\n",
       "  'filter': 'z',\n",
       "  'rotSkyPos': 184.7553132023,\n",
       "  'seeingFwhmEff': 1.0433769569,\n",
       "  'skyBrightness': 18.4165610141},\n",
       " {'index': 728287,\n",
       "  'observationId': 728287,\n",
       "  'fieldRA': 230.5324867934,\n",
       "  'fieldDec': 32.0828797012,\n",
       "  'observationStartMJD': 61486.38634942,\n",
       "  'visitExposureTime': 30.0,\n",
       "  'filter': 'z',\n",
       "  'rotSkyPos': 213.7932662309,\n",
       "  'seeingFwhmEff': 1.0031512638,\n",
       "  'skyBrightness': 18.2515680328},\n",
       " {'index': 751830,\n",
       "  'observationId': 751830,\n",
       "  'fieldRA': 233.0297121741,\n",
       "  'fieldDec': 32.5809756397,\n",
       "  'observationStartMJD': 61522.3318769693,\n",
       "  'visitExposureTime': 30.0,\n",
       "  'filter': 'z',\n",
       "  'rotSkyPos': 279.9421287756,\n",
       "  'seeingFwhmEff': 1.1305943417,\n",
       "  'skyBrightness': 18.9612862167},\n",
       " {'index': 788643,\n",
       "  'observationId': 788643,\n",
       "  'fieldRA': 232.1739776565,\n",
       "  'fieldDec': 32.4655238603,\n",
       "  'observationStartMJD': 61597.0726298678,\n",
       "  'visitExposureTime': 30.0,\n",
       "  'filter': 'z',\n",
       "  'rotSkyPos': 194.1195438155,\n",
       "  'seeingFwhmEff': 0.8253339612,\n",
       "  'skyBrightness': 19.0572045828}]"
      ]
     },
     "execution_count": 154,
     "metadata": {},
     "output_type": "execute_result"
    }
   ],
   "source": [
    "parsed"
   ]
  },
  {
   "cell_type": "code",
   "execution_count": null,
   "id": "52f5fa7e-2c00-4d5f-a0ff-b6e7681f91ff",
   "metadata": {},
   "outputs": [],
   "source": []
  }
 ],
 "metadata": {
  "kernelspec": {
   "display_name": "Python 3",
   "language": "python",
   "name": "python3"
  },
  "language_info": {
   "codemirror_mode": {
    "name": "ipython",
    "version": 3
   },
   "file_extension": ".py",
   "mimetype": "text/x-python",
   "name": "python",
   "nbconvert_exporter": "python",
   "pygments_lexer": "ipython3",
   "version": "3.9.10"
  }
 },
 "nbformat": 4,
 "nbformat_minor": 5
}
