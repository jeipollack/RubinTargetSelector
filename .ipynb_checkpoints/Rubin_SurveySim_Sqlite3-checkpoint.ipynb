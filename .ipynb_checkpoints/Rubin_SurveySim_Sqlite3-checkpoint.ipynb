{
 "cells": [
  {
   "cell_type": "code",
   "execution_count": 1,
   "id": "invisible-baghdad",
   "metadata": {},
   "outputs": [],
   "source": [
    "import sqlite3\n",
    "import pandas as pd\n",
    "import numpy as np\n",
    "import skycoverage\n",
    "import matplotlib.pyplot as plt\n",
    "import json"
   ]
  },
  {
   "cell_type": "code",
   "execution_count": 2,
   "id": "3197e66f-c099-4028-92ba-0bd9408db64e",
   "metadata": {},
   "outputs": [],
   "source": [
    "from matplotlib.patches import Rectangle\n",
    "\n",
    "def plot_layers(X,Y,image,minra,mindec,ra_width,filter_name,limits=None,plot_base_name='Rubin_targets_'):\n",
    "    figure_path=\"/sps/euclid/Users/jpollack/LSST/figures/\"\n",
    "    \n",
    "    filename = \"%s%s%s.png\" % (figure_path,plot_base_name,filter_name)\n",
    "    \n",
    "    result = np.where(image==np.max(image))\n",
    "\n",
    "    plt.close('all')\n",
    "    plt.figure()\n",
    "    if X.all()<0:\n",
    "        X=X+360\n",
    "    Z=np.ma.masked_equal(image,0)\n",
    "    cmp = plt.pcolormesh(X,Y,Z)\n",
    "    plt.grid()\n",
    "    \n",
    "    # Create a Rectangle patch   \n",
    "    print(minra, mindec, ra_width)\n",
    "    plt.gca().add_patch(Rectangle((ra-0.75/2.,dec-0.75/2.),0.75,0.75,\n",
    "                    angle=0,\n",
    "                    edgecolor='red',\n",
    "                    facecolor='none',\n",
    "                    lw=2))\n",
    "    \n",
    "    plt.xlim(max(X), min(X))\n",
    "    plt.ylim(min(Y), max(Y))\n",
    "    plt.title(f'Rubin {filter_name}')\n",
    "    #plt.axis('equal')\n",
    "    plt.xlabel('RA')\n",
    "    plt.ylabel('DEC')\n",
    "  #  plt.rcParams['axes.grid'] = False\n",
    "    plt.colorbar(label='# of Layers')\n",
    "   # plt.show()\n",
    "    plt.savefig(filename,dpi=200,facecolor=\"w\")"
   ]
  },
  {
   "cell_type": "code",
   "execution_count": 74,
   "id": "roman-holly",
   "metadata": {},
   "outputs": [],
   "source": [
    "# Set filepath \n",
    "baseline_filepath = '/sps/euclid/Users/jpollack/LSST/baseline_v2.0_10yrs.db'\n",
    "#baseline_filepath = '/sps/euclid/Users/jpollack/LSST/rubin_v2.0_cycle_14.db'\n",
    "# Create a SQL connection to our SQLite database\n",
    "con = sqlite3.connect(baseline_filepath)"
   ]
  },
  {
   "cell_type": "code",
   "execution_count": 75,
   "id": "personalized-phrase",
   "metadata": {},
   "outputs": [],
   "source": [
    "cursor = con.cursor()"
   ]
  },
  {
   "cell_type": "code",
   "execution_count": 76,
   "id": "wound-commitment",
   "metadata": {},
   "outputs": [],
   "source": [
    "# Using SELECT * Returns all results query\n",
    "sql='''SELECT * FROM OBSERVATIONS where observationId = 150985'''"
   ]
  },
  {
   "cell_type": "code",
   "execution_count": 77,
   "id": "voluntary-pacific",
   "metadata": {},
   "outputs": [],
   "source": [
    "data_full = pd.read_sql(sql, con)"
   ]
  },
  {
   "cell_type": "code",
   "execution_count": 78,
   "id": "9e1f0bb8-f259-4c4d-80c7-cad8b1cb737d",
   "metadata": {},
   "outputs": [
    {
     "name": "stdout",
     "output_type": "stream",
     "text": [
      "[('observations',), ('info',), ('Proposal',)]\n"
     ]
    }
   ],
   "source": [
    "cursor.execute(\"SELECT name FROM sqlite_master WHERE type='table';\")\n",
    "print(cursor.fetchall())"
   ]
  },
  {
   "cell_type": "code",
   "execution_count": 79,
   "id": "delayed-preview",
   "metadata": {},
   "outputs": [
    {
     "data": {
      "text/plain": [
       "Index(['observationId', 'fieldRA', 'fieldDec', 'observationStartMJD',\n",
       "       'flush_by_mjd', 'visitExposureTime', 'filter', 'rotSkyPos',\n",
       "       'numExposures', 'airmass', 'seeingFwhm500', 'seeingFwhmEff',\n",
       "       'seeingFwhmGeom', 'skyBrightness', 'night', 'slewTime', 'visitTime',\n",
       "       'slewDistance', 'fiveSigmaDepth', 'altitude', 'azimuth', 'paraAngle',\n",
       "       'cloud', 'moonAlt', 'sunAlt', 'note', 'fieldId', 'proposalId',\n",
       "       'block_id', 'observationStartLST', 'rotTelPos', 'moonAz', 'sunAz',\n",
       "       'sunRA', 'sunDec', 'moonRA', 'moonDec', 'moonDistance', 'solarElong',\n",
       "       'moonPhase', 'cummTelAz'],\n",
       "      dtype='object')"
      ]
     },
     "execution_count": 79,
     "metadata": {},
     "output_type": "execute_result"
    }
   ],
   "source": [
    "data_full.columns"
   ]
  },
  {
   "cell_type": "code",
   "execution_count": 85,
   "id": "14e0d663-ef94-4ff4-9c07-9c1398d4df5f",
   "metadata": {},
   "outputs": [
    {
     "data": {
      "text/plain": [
       "0    60432.260807\n",
       "Name: observationStartMJD, dtype: float64"
      ]
     },
     "execution_count": 85,
     "metadata": {},
     "output_type": "execute_result"
    }
   ],
   "source": [
    "data_full['observationStartMJD']"
   ]
  },
  {
   "cell_type": "code",
   "execution_count": 86,
   "id": "2a984660-ef44-44a8-bd99-ba9091d4739b",
   "metadata": {},
   "outputs": [],
   "source": [
    "from astropy.time import Time"
   ]
  },
  {
   "cell_type": "code",
   "execution_count": 87,
   "id": "78d60f74-532e-438b-87ca-d8c6f7c7001c",
   "metadata": {},
   "outputs": [],
   "source": [
    "t= Time(data_full['observationStartMJD'], format='mjd')"
   ]
  },
  {
   "cell_type": "code",
   "execution_count": 88,
   "id": "8ddda160-a1b4-4aa1-9ce5-5b24198053f6",
   "metadata": {},
   "outputs": [
    {
     "data": {
      "text/plain": [
       "'2024-05-02T06:15:33.694'"
      ]
     },
     "execution_count": 88,
     "metadata": {},
     "output_type": "execute_result"
    }
   ],
   "source": [
    "t[0].fits"
   ]
  },
  {
   "cell_type": "code",
   "execution_count": 29,
   "id": "53a466cf-6a12-40dc-a092-b0db8c630682",
   "metadata": {},
   "outputs": [
    {
     "data": {
      "text/html": [
       "<div>\n",
       "<style scoped>\n",
       "    .dataframe tbody tr th:only-of-type {\n",
       "        vertical-align: middle;\n",
       "    }\n",
       "\n",
       "    .dataframe tbody tr th {\n",
       "        vertical-align: top;\n",
       "    }\n",
       "\n",
       "    .dataframe thead th {\n",
       "        text-align: right;\n",
       "    }\n",
       "</style>\n",
       "<table border=\"1\" class=\"dataframe\">\n",
       "  <thead>\n",
       "    <tr style=\"text-align: right;\">\n",
       "      <th></th>\n",
       "      <th>index</th>\n",
       "      <th>observationId</th>\n",
       "      <th>fieldRA</th>\n",
       "      <th>fieldDec</th>\n",
       "      <th>observationStartMJD</th>\n",
       "      <th>visitExposureTime</th>\n",
       "      <th>filter</th>\n",
       "      <th>rotSkyPos</th>\n",
       "      <th>seeingFwhm500</th>\n",
       "      <th>seeingFwhmEff</th>\n",
       "      <th>seeingFwhmGeom</th>\n",
       "      <th>numExposures</th>\n",
       "      <th>airmass</th>\n",
       "    </tr>\n",
       "  </thead>\n",
       "  <tbody>\n",
       "    <tr>\n",
       "      <th>0</th>\n",
       "      <td>150985</td>\n",
       "      <td>150985</td>\n",
       "      <td>230.591224</td>\n",
       "      <td>31.931824</td>\n",
       "      <td>60432.260807</td>\n",
       "      <td>30.0</td>\n",
       "      <td>g</td>\n",
       "      <td>242.162882</td>\n",
       "      <td>0.72672</td>\n",
       "      <td>1.051348</td>\n",
       "      <td>0.916208</td>\n",
       "      <td>2</td>\n",
       "      <td>1.113826</td>\n",
       "    </tr>\n",
       "  </tbody>\n",
       "</table>\n",
       "</div>"
      ],
      "text/plain": [
       "    index  observationId     fieldRA   fieldDec  observationStartMJD  \\\n",
       "0  150985         150985  230.591224  31.931824         60432.260807   \n",
       "\n",
       "   visitExposureTime filter   rotSkyPos  seeingFwhm500  seeingFwhmEff  \\\n",
       "0               30.0      g  242.162882        0.72672       1.051348   \n",
       "\n",
       "   seeingFwhmGeom  numExposures   airmass  \n",
       "0        0.916208             2  1.113826  "
      ]
     },
     "execution_count": 29,
     "metadata": {},
     "output_type": "execute_result"
    }
   ],
   "source": [
    "data"
   ]
  },
  {
   "cell_type": "code",
   "execution_count": 58,
   "id": "adapted-selection",
   "metadata": {},
   "outputs": [],
   "source": [
    "sc8_targetfile ='/sps/euclid/Users/jpollack/LSST/targets/targets_rubin_all_sc8_official.json'"
   ]
  },
  {
   "cell_type": "code",
   "execution_count": 59,
   "id": "friendly-original",
   "metadata": {},
   "outputs": [],
   "source": [
    "rubin_targets_sc8 = json.load(open(sc8_targetfile))"
   ]
  },
  {
   "cell_type": "code",
   "execution_count": 61,
   "id": "cardiovascular-principal",
   "metadata": {},
   "outputs": [],
   "source": [
    "for target in rubin_targets_sc8:\n",
    "    for k, v in target.items():\n",
    "        if target[k] is float:\n",
    "            target[k] = round(float(v),6)"
   ]
  },
  {
   "cell_type": "code",
   "execution_count": 62,
   "id": "final-oracle",
   "metadata": {},
   "outputs": [
    {
     "data": {
      "text/plain": [
       "dict_keys(['Survey', 'FilterName', 'Id', 'RA', 'Dec', 'ExpTime', 'SeeingFWHM', 'PSFFile', 'MJD-OBS', 'DATE', 'Zeropoints', 'BackgroundMags', 'PA'])"
      ]
     },
     "execution_count": 62,
     "metadata": {},
     "output_type": "execute_result"
    }
   ],
   "source": [
    "target.keys()"
   ]
  },
  {
   "cell_type": "code",
   "execution_count": 18,
   "id": "western-assist",
   "metadata": {},
   "outputs": [],
   "source": [
    "# Get the following info dict_keys(['FilterName', 'Id', 'RA', 'Dec', 'ExpTime', 'SeeingFWHM', 'PSFFile', 'MJD-OBS', 'DATE', 'Zeropoints', 'BackgroundMags', 'PA'])"
   ]
  },
  {
   "cell_type": "code",
   "execution_count": 19,
   "id": "lined-interaction",
   "metadata": {},
   "outputs": [],
   "source": [
    "# 'observationId', 'fieldRA', 'fieldDec', 'observationStartMJD', 'visitExposureTime', 'filter', 'rotSkyPos', 'seeingFwhmEff',"
   ]
  },
  {
   "cell_type": "code",
   "execution_count": 30,
   "id": "secondary-walnut",
   "metadata": {},
   "outputs": [],
   "source": [
    "# Using SELECT * Returns all results query\n",
    "sql='''SELECT observationId, fieldRA, fieldDec, \n",
    "observationStartMJD, visitExposureTime, filter, rotSkyPos, seeingFwhm500, seeingFwhmEff, seeingFwhmGeom, numExposures, airmass FROM OBSERVATIONS '''"
   ]
  },
  {
   "cell_type": "code",
   "execution_count": 31,
   "id": "southwest-seventh",
   "metadata": {},
   "outputs": [],
   "source": [
    "data = pd.read_sql(sql, con)"
   ]
  },
  {
   "cell_type": "code",
   "execution_count": 32,
   "id": "quiet-smooth",
   "metadata": {},
   "outputs": [
    {
     "name": "stdout",
     "output_type": "stream",
     "text": [
      "231.65239775 30.4257185\n"
     ]
    },
    {
     "data": {
      "text/plain": [
       "<matplotlib.legend.Legend at 0x7f54df134430>"
      ]
     },
     "execution_count": 32,
     "metadata": {},
     "output_type": "execute_result"
    },
    {
     "data": {
      "image/png": "[encoded data removed]",
      "text/plain": [
       "<Figure size 432x288 with 1 Axes>"
      ]
     },
     "metadata": {
      "needs_background": "light"
     },
     "output_type": "display_data"
    }
   ],
   "source": [
    "# Euclid pointings\n",
    "euclid_pointings=[(232.206456, 30.240056),\n",
    " (231.812144, 31.196085),\n",
    " (231.466027, 30.48791),\n",
    " (231.124964, 29.778823)]\n",
    "\n",
    "ra=[]\n",
    "dec=[]\n",
    "#compute centroid of euclid pilot pointings\n",
    "for index, euc_pointing in enumerate(euclid_pointings):\n",
    "    ra.append(euc_pointing[0])\n",
    "    dec.append(euc_pointing[1])    \n",
    "print(np.mean(ra), np.mean(dec))\n",
    "pilot_pointing = [np.mean(ra), np.mean(dec)]\n",
    "plt.plot(data['fieldRA'],data['fieldDec'], 'o')\n",
    "plt.plot(pilot_pointing[0],pilot_pointing[1] , 'rx', label='Pilot Pointing')\n",
    "plt.xlabel('RA')\n",
    "plt.ylabel('DEC')\n",
    "plt.legend()"
   ]
  },
  {
   "cell_type": "code",
   "execution_count": 33,
   "id": "f4780022-17b1-4766-aa17-7b5b5404bbe4",
   "metadata": {},
   "outputs": [
    {
     "data": {
      "text/plain": [
       "(array([[0., 0., 0., ..., 0., 0., 0.],\n",
       "        [0., 0., 0., ..., 0., 0., 0.],\n",
       "        [0., 0., 0., ..., 0., 0., 0.],\n",
       "        ...,\n",
       "        [0., 0., 0., ..., 0., 0., 0.],\n",
       "        [0., 0., 0., ..., 0., 0., 0.],\n",
       "        [0., 0., 0., ..., 0., 0., 1.]]),\n",
       " array([230.18731949, 230.20153145, 230.21574342, 230.22995538,\n",
       "        230.24416734, 230.25837931, 230.27259127, 230.28680323,\n",
       "        230.3010152 , 230.31522716, 230.32943912, 230.34365109,\n",
       "        230.35786305, 230.37207501, 230.38628698, 230.40049894,\n",
       "        230.4147109 , 230.42892287, 230.44313483, 230.45734679,\n",
       "        230.47155876, 230.48577072, 230.49998268, 230.51419465,\n",
       "        230.52840661, 230.54261858, 230.55683054, 230.5710425 ,\n",
       "        230.58525447, 230.59946643, 230.61367839, 230.62789036,\n",
       "        230.64210232, 230.65631428, 230.67052625, 230.68473821,\n",
       "        230.69895017, 230.71316214, 230.7273741 , 230.74158606,\n",
       "        230.75579803, 230.77000999, 230.78422195, 230.79843392,\n",
       "        230.81264588, 230.82685784, 230.84106981, 230.85528177,\n",
       "        230.86949373, 230.8837057 , 230.89791766, 230.91212962,\n",
       "        230.92634159, 230.94055355, 230.95476551, 230.96897748,\n",
       "        230.98318944, 230.9974014 , 231.01161337, 231.02582533,\n",
       "        231.0400373 , 231.05424926, 231.06846122, 231.08267319,\n",
       "        231.09688515, 231.11109711, 231.12530908, 231.13952104,\n",
       "        231.153733  , 231.16794497, 231.18215693, 231.19636889,\n",
       "        231.21058086, 231.22479282, 231.23900478, 231.25321675,\n",
       "        231.26742871, 231.28164067, 231.29585264, 231.3100646 ,\n",
       "        231.32427656, 231.33848853, 231.35270049, 231.36691245,\n",
       "        231.38112442, 231.39533638, 231.40954834, 231.42376031,\n",
       "        231.43797227, 231.45218423, 231.4663962 , 231.48060816,\n",
       "        231.49482012, 231.50903209, 231.52324405, 231.53745601,\n",
       "        231.55166798, 231.56587994, 231.58009191, 231.59430387,\n",
       "        231.60851583, 231.6227278 , 231.63693976, 231.65115172,\n",
       "        231.66536369, 231.67957565, 231.69378761, 231.70799958,\n",
       "        231.72221154, 231.7364235 , 231.75063547, 231.76484743,\n",
       "        231.77905939, 231.79327136, 231.80748332, 231.82169528,\n",
       "        231.83590725, 231.85011921, 231.86433117, 231.87854314,\n",
       "        231.8927551 , 231.90696706, 231.92117903, 231.93539099,\n",
       "        231.94960295, 231.96381492, 231.97802688, 231.99223884,\n",
       "        232.00645081, 232.02066277, 232.03487473, 232.0490867 ,\n",
       "        232.06329866, 232.07751062, 232.09172259, 232.10593455,\n",
       "        232.12014652, 232.13435848, 232.14857044, 232.16278241,\n",
       "        232.17699437, 232.19120633, 232.2054183 , 232.21963026,\n",
       "        232.23384222, 232.24805419, 232.26226615, 232.27647811,\n",
       "        232.29069008, 232.30490204, 232.319114  , 232.33332597,\n",
       "        232.34753793, 232.36174989, 232.37596186, 232.39017382,\n",
       "        232.40438578, 232.41859775, 232.43280971, 232.44702167,\n",
       "        232.46123364, 232.4754456 , 232.48965756, 232.50386953,\n",
       "        232.51808149, 232.53229345, 232.54650542, 232.56071738,\n",
       "        232.57492934, 232.58914131, 232.60335327, 232.61756523,\n",
       "        232.6317772 , 232.64598916, 232.66020113, 232.67441309,\n",
       "        232.68862505, 232.70283702, 232.71704898, 232.73126094,\n",
       "        232.74547291, 232.75968487, 232.77389683, 232.7881088 ,\n",
       "        232.80232076, 232.81653272, 232.83074469, 232.84495665,\n",
       "        232.85916861, 232.87338058, 232.88759254, 232.9018045 ,\n",
       "        232.91601647, 232.93022843, 232.94444039, 232.95865236,\n",
       "        232.97286432, 232.98707628, 233.00128825, 233.01550021,\n",
       "        233.02971217]),\n",
       " array([28.26274652, 28.28437449, 28.30600245, 28.32763042, 28.34925838,\n",
       "        28.37088635, 28.39251431, 28.41414228, 28.43577024, 28.45739821,\n",
       "        28.47902618, 28.50065414, 28.52228211, 28.54391007, 28.56553804,\n",
       "        28.587166  , 28.60879397, 28.63042193, 28.6520499 , 28.67367786,\n",
       "        28.69530583, 28.71693379, 28.73856176, 28.76018972, 28.78181769,\n",
       "        28.80344565, 28.82507362, 28.84670158, 28.86832955, 28.88995751,\n",
       "        28.91158548, 28.93321344, 28.95484141, 28.97646937, 28.99809734,\n",
       "        29.0197253 , 29.04135327, 29.06298123, 29.0846092 , 29.10623716,\n",
       "        29.12786513, 29.14949309, 29.17112106, 29.19274902, 29.21437699,\n",
       "        29.23600495, 29.25763292, 29.27926088, 29.30088885, 29.32251681,\n",
       "        29.34414478, 29.36577274, 29.38740071, 29.40902867, 29.43065664,\n",
       "        29.4522846 , 29.47391257, 29.49554053, 29.5171685 , 29.53879646,\n",
       "        29.56042443, 29.58205239, 29.60368036, 29.62530832, 29.64693629,\n",
       "        29.66856425, 29.69019222, 29.71182019, 29.73344815, 29.75507612,\n",
       "        29.77670408, 29.79833205, 29.81996001, 29.84158798, 29.86321594,\n",
       "        29.88484391, 29.90647187, 29.92809984, 29.9497278 , 29.97135577,\n",
       "        29.99298373, 30.0146117 , 30.03623966, 30.05786763, 30.07949559,\n",
       "        30.10112356, 30.12275152, 30.14437949, 30.16600745, 30.18763542,\n",
       "        30.20926338, 30.23089135, 30.25251931, 30.27414728, 30.29577524,\n",
       "        30.31740321, 30.33903117, 30.36065914, 30.3822871 , 30.40391507,\n",
       "        30.42554303, 30.447171  , 30.46879896, 30.49042693, 30.51205489,\n",
       "        30.53368286, 30.55531082, 30.57693879, 30.59856675, 30.62019472,\n",
       "        30.64182268, 30.66345065, 30.68507861, 30.70670658, 30.72833454,\n",
       "        30.74996251, 30.77159047, 30.79321844, 30.8148464 , 30.83647437,\n",
       "        30.85810233, 30.8797303 , 30.90135826, 30.92298623, 30.94461419,\n",
       "        30.96624216, 30.98787013, 31.00949809, 31.03112606, 31.05275402,\n",
       "        31.07438199, 31.09600995, 31.11763792, 31.13926588, 31.16089385,\n",
       "        31.18252181, 31.20414978, 31.22577774, 31.24740571, 31.26903367,\n",
       "        31.29066164, 31.3122896 , 31.33391757, 31.35554553, 31.3771735 ,\n",
       "        31.39880146, 31.42042943, 31.44205739, 31.46368536, 31.48531332,\n",
       "        31.50694129, 31.52856925, 31.55019722, 31.57182518, 31.59345315,\n",
       "        31.61508111, 31.63670908, 31.65833704, 31.67996501, 31.70159297,\n",
       "        31.72322094, 31.7448489 , 31.76647687, 31.78810483, 31.8097328 ,\n",
       "        31.83136076, 31.85298873, 31.87461669, 31.89624466, 31.91787262,\n",
       "        31.93950059, 31.96112855, 31.98275652, 32.00438448, 32.02601245,\n",
       "        32.04764041, 32.06926838, 32.09089634, 32.11252431, 32.13415227,\n",
       "        32.15578024, 32.1774082 , 32.19903617, 32.22066413, 32.2422921 ,\n",
       "        32.26392007, 32.28554803, 32.307176  , 32.32880396, 32.35043193,\n",
       "        32.37205989, 32.39368786, 32.41531582, 32.43694379, 32.45857175,\n",
       "        32.48019972, 32.50182768, 32.52345565, 32.54508361, 32.56671158,\n",
       "        32.58833954]),\n",
       " <matplotlib.collections.QuadMesh at 0x7f54df1d9fa0>)"
      ]
     },
     "execution_count": 33,
     "metadata": {},
     "output_type": "execute_result"
    },
    {
     "data": {
      "image/png": "[encoded data removed]",
      "text/plain": [
       "<Figure size 432x288 with 1 Axes>"
      ]
     },
     "metadata": {
      "needs_background": "light"
     },
     "output_type": "display_data"
    }
   ],
   "source": [
    "plt.hist2d(data['fieldRA'],data['fieldDec'],bins=200,cmin=0,cmax=400)"
   ]
  },
  {
   "cell_type": "code",
   "execution_count": 34,
   "id": "1a0ce904-0284-461c-9839-2a9583c1afca",
   "metadata": {},
   "outputs": [],
   "source": [
    "#LSST FoV polygon\n",
    "# Opening JSON file\n",
    "lsst_filename='lsst_polygon.json'\n",
    "\n",
    "def read_focal_plane(filename):\n",
    "    with open(filename) as f:\n",
    "        vertices = json.load(f)\n",
    "    polygon = np.array(vertices)\n",
    "    return polygon\n",
    "\n",
    "lsst_fov=read_focal_plane(lsst_filename)\n",
    "focalplane = skycoverage.close_polygon(lsst_fov)"
   ]
  },
  {
   "cell_type": "code",
   "execution_count": 35,
   "id": "68fd5fae-3386-4401-b601-6b792612602c",
   "metadata": {},
   "outputs": [],
   "source": [
    "# Draw Euclid box\n",
    "def meas_euclid_box(ctrRA,ctrDec,widthRA):\n",
    "    hwidth = widthRA/2.0\n",
    "    minRa = ctrRA + hwidth/np.cos((abs(ctrDec)+hwidth)*np.pi/180.0)\n",
    "    maxRa = ctrRA - hwidth/np.cos((abs(ctrDec)+hwidth)*np.pi/180.0)\n",
    "    \n",
    "    return minRa, maxRa\n"
   ]
  },
  {
   "cell_type": "code",
   "execution_count": 36,
   "id": "122c092a-4b65-49df-8e3d-1086c968dfdd",
   "metadata": {},
   "outputs": [
    {
     "name": "stdout",
     "output_type": "stream",
     "text": [
      "0.7601531126908299\n",
      "231.38007655634541 230.61992344365459\n",
      "-12.375 -5.625\n",
      "[232.88007655634541, 229.11992344365459]\n",
      "[-12.375, -5.625]\n"
     ]
    }
   ],
   "source": [
    "tol=3\n",
    "ra=231\n",
    "dec=-9\n",
    "euc_box_minRa, euc_box_maxRa = meas_euclid_box(np.mean(ra), np.mean(dec), 0.75)\n",
    "euc_box_minDec = np.mean(dec) - 0.75/2. - tol\n",
    "euc_box_maxDec = np.mean(dec) + 0.75/2. + tol\n",
    "ra_width= euc_box_minRa - euc_box_maxRa\n",
    "print(ra_width)\n",
    "print(euc_box_minRa, euc_box_maxRa)\n",
    "print(euc_box_minDec, euc_box_maxDec)\n",
    "euc_ra = [euc_box_minRa+tol/2., euc_box_maxRa-tol/2.]\n",
    "euc_dec = [euc_box_minDec, euc_box_maxDec]\n",
    "print(euc_ra)\n",
    "print(euc_dec)"
   ]
  },
  {
   "cell_type": "markdown",
   "id": "d8633823-5c8c-46c5-91c2-9e79ab3b1570",
   "metadata": {},
   "source": [
    "# Select Rubin data within boundaries of Euclid focalplane"
   ]
  },
  {
   "cell_type": "code",
   "execution_count": 37,
   "id": "ce96e69f-83b6-4f6a-b9bf-b730edc20b76",
   "metadata": {},
   "outputs": [],
   "source": [
    "rubin_ptgs_df = data[(data['fieldRA'] < euc_ra[0]) & (data['fieldRA'] > euc_ra[1])\n",
    "                    & (data['fieldDec'] > euc_dec[0]) & (data['fieldDec'] < euc_dec[1])]"
   ]
  },
  {
   "cell_type": "code",
   "execution_count": 38,
   "id": "e606a01e-1169-4810-8724-a76c4df109f1",
   "metadata": {},
   "outputs": [
    {
     "data": {
      "text/plain": [
       "<AxesSubplot:>"
      ]
     },
     "execution_count": 38,
     "metadata": {},
     "output_type": "execute_result"
    },
    {
     "data": {
      "image/png": "[encoded data removed]",
      "text/plain": [
       "<Figure size 432x288 with 1 Axes>"
      ]
     },
     "metadata": {
      "needs_background": "light"
     },
     "output_type": "display_data"
    }
   ],
   "source": [
    "rubin_ptgs_df['filter'].hist()"
   ]
  },
  {
   "cell_type": "code",
   "execution_count": 39,
   "id": "1fa06132-3a39-4bc8-b6be-9955682281a7",
   "metadata": {},
   "outputs": [
    {
     "data": {
      "text/plain": [
       "<matplotlib.patches.Rectangle at 0x7f54d2ef6f40>"
      ]
     },
     "execution_count": 39,
     "metadata": {},
     "output_type": "execute_result"
    },
    {
     "data": {
      "image/png": "[encoded data removed]",
      "text/plain": [
       "<Figure size 432x288 with 1 Axes>"
      ]
     },
     "metadata": {
      "needs_background": "light"
     },
     "output_type": "display_data"
    }
   ],
   "source": [
    "#rubin_ptgs_df.groupby('filter').plot(kind='scatter', x='fieldRA', y='fieldDec')\n",
    "#rubin_ptgs_df.loc([rubin_ptgs_df.filter==cond['a'],['fieldRA', 'fieldDec']]).plot(kind='scatter', x='fieldRA', y='fieldDec'.format(**cond))\n",
    "df_u = rubin_ptgs_df.loc[rubin_ptgs_df['filter']=='u']\n",
    "df_u.plot(kind='scatter', x='fieldRA', y='fieldDec')\n",
    "plt.gca().add_patch(Rectangle((ra-ra_width/2.,dec-1.875/2.),ra_width,1.875,\n",
    "                    angle=0,\n",
    "                    edgecolor='red',\n",
    "                    facecolor='none',\n",
    "                    lw=2))"
   ]
  },
  {
   "cell_type": "code",
   "execution_count": 27,
   "id": "16430fa4-ebec-49ce-914f-5da9955408d4",
   "metadata": {},
   "outputs": [
    {
     "data": {
      "text/plain": [
       "<matplotlib.patches.Rectangle at 0x7f12c17d8190>"
      ]
     },
     "execution_count": 27,
     "metadata": {},
     "output_type": "execute_result"
    },
    {
     "data": {
      "image/png": "[encoded data removed]",
      "text/plain": [
       "<Figure size 432x288 with 1 Axes>"
      ]
     },
     "metadata": {
      "needs_background": "light"
     },
     "output_type": "display_data"
    }
   ],
   "source": [
    "#rubin_ptgs_df.groupby('filter').plot(kind='scatter', x='fieldRA', y='fieldDec')\n",
    "#rubin_ptgs_df.loc([rubin_ptgs_df.filter==cond['a'],['fieldRA', 'fieldDec']]).plot(kind='scatter', x='fieldRA', y='fieldDec'.format(**cond))\n",
    "df_g = rubin_ptgs_df.loc[rubin_ptgs_df['filter']=='g']\n",
    "df_g.plot(kind='scatter', x='fieldRA', y='fieldDec')\n",
    "plt.gca().add_patch(Rectangle((ra-ra_width/2.,dec-1.875/2.),ra_width,1.875,\n",
    "                    angle=0,\n",
    "                    edgecolor='red',\n",
    "                    facecolor='none',\n",
    "                    lw=2))"
   ]
  },
  {
   "cell_type": "code",
   "execution_count": 28,
   "id": "c3cbb999-79e9-410e-befe-9fa4f261c913",
   "metadata": {},
   "outputs": [
    {
     "data": {
      "text/html": [
       "<div>\n",
       "<style scoped>\n",
       "    .dataframe tbody tr th:only-of-type {\n",
       "        vertical-align: middle;\n",
       "    }\n",
       "\n",
       "    .dataframe tbody tr th {\n",
       "        vertical-align: top;\n",
       "    }\n",
       "\n",
       "    .dataframe thead th {\n",
       "        text-align: right;\n",
       "    }\n",
       "</style>\n",
       "<table border=\"1\" class=\"dataframe\">\n",
       "  <thead>\n",
       "    <tr style=\"text-align: right;\">\n",
       "      <th></th>\n",
       "      <th>observationId</th>\n",
       "      <th>fieldRA</th>\n",
       "      <th>fieldDec</th>\n",
       "      <th>observationStartMJD</th>\n",
       "      <th>visitExposureTime</th>\n",
       "      <th>filter</th>\n",
       "      <th>rotSkyPos</th>\n",
       "      <th>seeingFwhm500</th>\n",
       "      <th>seeingFwhmEff</th>\n",
       "      <th>seeingFwhmGeom</th>\n",
       "      <th>numExposures</th>\n",
       "      <th>airmass</th>\n",
       "    </tr>\n",
       "  </thead>\n",
       "  <tbody>\n",
       "    <tr>\n",
       "      <th>96750</th>\n",
       "      <td>96750</td>\n",
       "      <td>229.643891</td>\n",
       "      <td>-10.779780</td>\n",
       "      <td>60366.345331</td>\n",
       "      <td>30.0</td>\n",
       "      <td>y</td>\n",
       "      <td>128.963717</td>\n",
       "      <td>0.548628</td>\n",
       "      <td>0.755623</td>\n",
       "      <td>0.673122</td>\n",
       "      <td>2</td>\n",
       "      <td>1.124131</td>\n",
       "    </tr>\n",
       "    <tr>\n",
       "      <th>96772</th>\n",
       "      <td>96772</td>\n",
       "      <td>229.643891</td>\n",
       "      <td>-10.779780</td>\n",
       "      <td>60366.355347</td>\n",
       "      <td>30.0</td>\n",
       "      <td>y</td>\n",
       "      <td>133.952603</td>\n",
       "      <td>0.579329</td>\n",
       "      <td>0.771117</td>\n",
       "      <td>0.685859</td>\n",
       "      <td>2</td>\n",
       "      <td>1.102955</td>\n",
       "    </tr>\n",
       "    <tr>\n",
       "      <th>96781</th>\n",
       "      <td>96781</td>\n",
       "      <td>230.452976</td>\n",
       "      <td>-8.061378</td>\n",
       "      <td>60366.359682</td>\n",
       "      <td>30.0</td>\n",
       "      <td>y</td>\n",
       "      <td>138.244309</td>\n",
       "      <td>0.713086</td>\n",
       "      <td>0.889742</td>\n",
       "      <td>0.783368</td>\n",
       "      <td>2</td>\n",
       "      <td>1.120221</td>\n",
       "    </tr>\n",
       "    <tr>\n",
       "      <th>96800</th>\n",
       "      <td>96800</td>\n",
       "      <td>232.635025</td>\n",
       "      <td>-10.420251</td>\n",
       "      <td>60366.368232</td>\n",
       "      <td>30.0</td>\n",
       "      <td>y</td>\n",
       "      <td>137.025444</td>\n",
       "      <td>0.764525</td>\n",
       "      <td>0.923033</td>\n",
       "      <td>0.810733</td>\n",
       "      <td>2</td>\n",
       "      <td>1.097346</td>\n",
       "    </tr>\n",
       "    <tr>\n",
       "      <th>96803</th>\n",
       "      <td>96803</td>\n",
       "      <td>230.452976</td>\n",
       "      <td>-8.061378</td>\n",
       "      <td>60366.369600</td>\n",
       "      <td>30.0</td>\n",
       "      <td>y</td>\n",
       "      <td>144.123549</td>\n",
       "      <td>0.764525</td>\n",
       "      <td>0.926362</td>\n",
       "      <td>0.813469</td>\n",
       "      <td>2</td>\n",
       "      <td>1.103951</td>\n",
       "    </tr>\n",
       "    <tr>\n",
       "      <th>...</th>\n",
       "      <td>...</td>\n",
       "      <td>...</td>\n",
       "      <td>...</td>\n",
       "      <td>...</td>\n",
       "      <td>...</td>\n",
       "      <td>...</td>\n",
       "      <td>...</td>\n",
       "      <td>...</td>\n",
       "      <td>...</td>\n",
       "      <td>...</td>\n",
       "      <td>...</td>\n",
       "      <td>...</td>\n",
       "    </tr>\n",
       "    <tr>\n",
       "      <th>2070804</th>\n",
       "      <td>2070804</td>\n",
       "      <td>232.292395</td>\n",
       "      <td>-7.902245</td>\n",
       "      <td>63837.975867</td>\n",
       "      <td>30.0</td>\n",
       "      <td>y</td>\n",
       "      <td>243.242569</td>\n",
       "      <td>0.942520</td>\n",
       "      <td>1.136150</td>\n",
       "      <td>0.985915</td>\n",
       "      <td>2</td>\n",
       "      <td>1.190474</td>\n",
       "    </tr>\n",
       "    <tr>\n",
       "      <th>2070805</th>\n",
       "      <td>2070805</td>\n",
       "      <td>229.533860</td>\n",
       "      <td>-8.377620</td>\n",
       "      <td>63837.976313</td>\n",
       "      <td>30.0</td>\n",
       "      <td>y</td>\n",
       "      <td>246.381956</td>\n",
       "      <td>0.942520</td>\n",
       "      <td>1.149912</td>\n",
       "      <td>0.997228</td>\n",
       "      <td>2</td>\n",
       "      <td>1.214605</td>\n",
       "    </tr>\n",
       "    <tr>\n",
       "      <th>2070824</th>\n",
       "      <td>2070824</td>\n",
       "      <td>231.525618</td>\n",
       "      <td>-10.875750</td>\n",
       "      <td>63837.984903</td>\n",
       "      <td>30.0</td>\n",
       "      <td>y</td>\n",
       "      <td>250.022470</td>\n",
       "      <td>0.626055</td>\n",
       "      <td>0.851857</td>\n",
       "      <td>0.752226</td>\n",
       "      <td>2</td>\n",
       "      <td>1.202707</td>\n",
       "    </tr>\n",
       "    <tr>\n",
       "      <th>2070825</th>\n",
       "      <td>2070825</td>\n",
       "      <td>232.292395</td>\n",
       "      <td>-7.902245</td>\n",
       "      <td>63837.985351</td>\n",
       "      <td>30.0</td>\n",
       "      <td>y</td>\n",
       "      <td>246.301986</td>\n",
       "      <td>0.613897</td>\n",
       "      <td>0.850692</td>\n",
       "      <td>0.751269</td>\n",
       "      <td>2</td>\n",
       "      <td>1.224842</td>\n",
       "    </tr>\n",
       "    <tr>\n",
       "      <th>2070826</th>\n",
       "      <td>2070826</td>\n",
       "      <td>229.533860</td>\n",
       "      <td>-8.377620</td>\n",
       "      <td>63837.985796</td>\n",
       "      <td>30.0</td>\n",
       "      <td>y</td>\n",
       "      <td>249.008804</td>\n",
       "      <td>0.613897</td>\n",
       "      <td>0.862755</td>\n",
       "      <td>0.761185</td>\n",
       "      <td>2</td>\n",
       "      <td>1.253927</td>\n",
       "    </tr>\n",
       "  </tbody>\n",
       "</table>\n",
       "<p>2345 rows × 12 columns</p>\n",
       "</div>"
      ],
      "text/plain": [
       "         observationId     fieldRA   fieldDec  observationStartMJD  \\\n",
       "96750            96750  229.643891 -10.779780         60366.345331   \n",
       "96772            96772  229.643891 -10.779780         60366.355347   \n",
       "96781            96781  230.452976  -8.061378         60366.359682   \n",
       "96800            96800  232.635025 -10.420251         60366.368232   \n",
       "96803            96803  230.452976  -8.061378         60366.369600   \n",
       "...                ...         ...        ...                  ...   \n",
       "2070804        2070804  232.292395  -7.902245         63837.975867   \n",
       "2070805        2070805  229.533860  -8.377620         63837.976313   \n",
       "2070824        2070824  231.525618 -10.875750         63837.984903   \n",
       "2070825        2070825  232.292395  -7.902245         63837.985351   \n",
       "2070826        2070826  229.533860  -8.377620         63837.985796   \n",
       "\n",
       "         visitExposureTime filter   rotSkyPos  seeingFwhm500  seeingFwhmEff  \\\n",
       "96750                 30.0      y  128.963717       0.548628       0.755623   \n",
       "96772                 30.0      y  133.952603       0.579329       0.771117   \n",
       "96781                 30.0      y  138.244309       0.713086       0.889742   \n",
       "96800                 30.0      y  137.025444       0.764525       0.923033   \n",
       "96803                 30.0      y  144.123549       0.764525       0.926362   \n",
       "...                    ...    ...         ...            ...            ...   \n",
       "2070804               30.0      y  243.242569       0.942520       1.136150   \n",
       "2070805               30.0      y  246.381956       0.942520       1.149912   \n",
       "2070824               30.0      y  250.022470       0.626055       0.851857   \n",
       "2070825               30.0      y  246.301986       0.613897       0.850692   \n",
       "2070826               30.0      y  249.008804       0.613897       0.862755   \n",
       "\n",
       "         seeingFwhmGeom  numExposures   airmass  \n",
       "96750          0.673122             2  1.124131  \n",
       "96772          0.685859             2  1.102955  \n",
       "96781          0.783368             2  1.120221  \n",
       "96800          0.810733             2  1.097346  \n",
       "96803          0.813469             2  1.103951  \n",
       "...                 ...           ...       ...  \n",
       "2070804        0.985915             2  1.190474  \n",
       "2070805        0.997228             2  1.214605  \n",
       "2070824        0.752226             2  1.202707  \n",
       "2070825        0.751269             2  1.224842  \n",
       "2070826        0.761185             2  1.253927  \n",
       "\n",
       "[2345 rows x 12 columns]"
      ]
     },
     "execution_count": 28,
     "metadata": {},
     "output_type": "execute_result"
    }
   ],
   "source": [
    "rubin_ptgs_df"
   ]
  },
  {
   "cell_type": "code",
   "execution_count": 40,
   "id": "218a2d9c-9841-4bfe-b6b0-461267e52cc0",
   "metadata": {},
   "outputs": [
    {
     "name": "stdout",
     "output_type": "stream",
     "text": [
      "u\n"
     ]
    },
    {
     "ename": "IndexError",
     "evalue": "list index out of range",
     "output_type": "error",
     "traceback": [
      "\u001b[0;31m---------------------------------------------------------------------------\u001b[0m",
      "\u001b[0;31mIndexError\u001b[0m                                Traceback (most recent call last)",
      "\u001b[0;32m<ipython-input-40-9a73be36c30d>\u001b[0m in \u001b[0;36m<module>\u001b[0;34m\u001b[0m\n\u001b[1;32m     32\u001b[0m         \u001b[0mtargets\u001b[0m\u001b[0;34m.\u001b[0m\u001b[0mappend\u001b[0m\u001b[0;34m(\u001b[0m\u001b[0mmy_list\u001b[0m\u001b[0;34m)\u001b[0m\u001b[0;34m\u001b[0m\u001b[0;34m\u001b[0m\u001b[0m\n\u001b[1;32m     33\u001b[0m \u001b[0;34m\u001b[0m\u001b[0m\n\u001b[0;32m---> 34\u001b[0;31m     \u001b[0mX\u001b[0m\u001b[0;34m,\u001b[0m\u001b[0mY\u001b[0m\u001b[0;34m,\u001b[0m \u001b[0mimage\u001b[0m \u001b[0;34m=\u001b[0m \u001b[0mget_layers\u001b[0m\u001b[0;34m(\u001b[0m\u001b[0mextent\u001b[0m\u001b[0;34m,\u001b[0m\u001b[0msize\u001b[0m\u001b[0;34m,\u001b[0m\u001b[0mtargets\u001b[0m\u001b[0;34m,\u001b[0m\u001b[0mfocalplane\u001b[0m\u001b[0;34m)\u001b[0m\u001b[0;34m\u001b[0m\u001b[0;34m\u001b[0m\u001b[0m\n\u001b[0m\u001b[1;32m     35\u001b[0m \u001b[0;34m\u001b[0m\u001b[0m\n\u001b[1;32m     36\u001b[0m     \u001b[0;32mif\u001b[0m \u001b[0mnp\u001b[0m\u001b[0;34m.\u001b[0m\u001b[0mmax\u001b[0m\u001b[0;34m(\u001b[0m\u001b[0mimage\u001b[0m\u001b[0;34m)\u001b[0m \u001b[0;34m<=\u001b[0m \u001b[0mlayers\u001b[0m\u001b[0;34m[\u001b[0m\u001b[0mfilter\u001b[0m\u001b[0;34m]\u001b[0m\u001b[0;34m-\u001b[0m\u001b[0;36m1\u001b[0m\u001b[0;34m:\u001b[0m\u001b[0;34m\u001b[0m\u001b[0;34m\u001b[0m\u001b[0m\n",
      "\u001b[0;32m/sps/euclid/Users/jpollack/LSST/layers.py\u001b[0m in \u001b[0;36mget_layers\u001b[0;34m(extent, size, targets, focalplane)\u001b[0m\n\u001b[1;32m      7\u001b[0m     \u001b[0mpolygons\u001b[0m \u001b[0;34m=\u001b[0m \u001b[0mskycoverage\u001b[0m\u001b[0;34m.\u001b[0m\u001b[0mmake_polygons\u001b[0m\u001b[0;34m(\u001b[0m\u001b[0mtargets\u001b[0m\u001b[0;34m,\u001b[0m\u001b[0mfocalplane\u001b[0m\u001b[0;34m)\u001b[0m\u001b[0;34m\u001b[0m\u001b[0;34m\u001b[0m\u001b[0m\n\u001b[1;32m      8\u001b[0m \u001b[0;34m\u001b[0m\u001b[0m\n\u001b[0;32m----> 9\u001b[0;31m     \u001b[0mcover\u001b[0m \u001b[0;34m=\u001b[0m \u001b[0mskycoverage\u001b[0m\u001b[0;34m.\u001b[0m\u001b[0mcoverage_all\u001b[0m\u001b[0;34m(\u001b[0m\u001b[0mpixels\u001b[0m\u001b[0;34m,\u001b[0m\u001b[0mpolygons\u001b[0m\u001b[0;34m)\u001b[0m\u001b[0;34m\u001b[0m\u001b[0;34m\u001b[0m\u001b[0m\n\u001b[0m\u001b[1;32m     10\u001b[0m \u001b[0;34m\u001b[0m\u001b[0m\n\u001b[1;32m     11\u001b[0m     \u001b[0mX\u001b[0m\u001b[0;34m,\u001b[0m \u001b[0mY\u001b[0m\u001b[0;34m,\u001b[0m \u001b[0mimage\u001b[0m \u001b[0;34m=\u001b[0m \u001b[0mskycoverage\u001b[0m\u001b[0;34m.\u001b[0m\u001b[0mmake_image\u001b[0m\u001b[0;34m(\u001b[0m\u001b[0mpixels\u001b[0m\u001b[0;34m,\u001b[0m \u001b[0mcover\u001b[0m\u001b[0;34m,\u001b[0m \u001b[0mextent\u001b[0m\u001b[0;34m,\u001b[0m \u001b[0msize\u001b[0m\u001b[0;34m)\u001b[0m\u001b[0;34m\u001b[0m\u001b[0;34m\u001b[0m\u001b[0m\n",
      "\u001b[0;32m/sps/euclid/Users/jpollack/LSST/skycoverage.py\u001b[0m in \u001b[0;36mcoverage_all\u001b[0;34m(pixels, polygons)\u001b[0m\n\u001b[1;32m     86\u001b[0m \u001b[0;34m\u001b[0m\u001b[0m\n\u001b[1;32m     87\u001b[0m \u001b[0;32mdef\u001b[0m \u001b[0mcoverage_all\u001b[0m\u001b[0;34m(\u001b[0m\u001b[0mpixels\u001b[0m\u001b[0;34m,\u001b[0m \u001b[0mpolygons\u001b[0m\u001b[0;34m)\u001b[0m\u001b[0;34m:\u001b[0m\u001b[0;34m\u001b[0m\u001b[0;34m\u001b[0m\u001b[0m\n\u001b[0;32m---> 88\u001b[0;31m     \u001b[0mimage\u001b[0m \u001b[0;34m=\u001b[0m \u001b[0mcoverage\u001b[0m\u001b[0;34m(\u001b[0m\u001b[0mpixels\u001b[0m\u001b[0;34m,\u001b[0m \u001b[0mpolygons\u001b[0m\u001b[0;34m[\u001b[0m\u001b[0;36m0\u001b[0m\u001b[0;34m]\u001b[0m\u001b[0;34m)\u001b[0m\u001b[0;34m\u001b[0m\u001b[0;34m\u001b[0m\u001b[0m\n\u001b[0m\u001b[1;32m     89\u001b[0m     \u001b[0;32mfor\u001b[0m \u001b[0mpolygon\u001b[0m \u001b[0;32min\u001b[0m \u001b[0mpolygons\u001b[0m\u001b[0;34m[\u001b[0m\u001b[0;36m1\u001b[0m\u001b[0;34m:\u001b[0m\u001b[0;34m]\u001b[0m\u001b[0;34m:\u001b[0m\u001b[0;34m\u001b[0m\u001b[0;34m\u001b[0m\u001b[0m\n\u001b[1;32m     90\u001b[0m         \u001b[0mimage\u001b[0m \u001b[0;34m+=\u001b[0m \u001b[0mcoverage\u001b[0m\u001b[0;34m(\u001b[0m\u001b[0mpixels\u001b[0m\u001b[0;34m,\u001b[0m \u001b[0mpolygon\u001b[0m\u001b[0;34m)\u001b[0m\u001b[0;34m\u001b[0m\u001b[0;34m\u001b[0m\u001b[0m\n",
      "\u001b[0;31mIndexError\u001b[0m: list index out of range"
     ]
    }
   ],
   "source": [
    "from layers import get_layers\n",
    "\n",
    "tol=1.77\n",
    "ra=231\n",
    "dec=30\n",
    "euc_box_minRa, euc_box_maxRa = meas_euclid_box(ra,dec,0.75)\n",
    "euc_box_minDec = dec - 0.75/2. - tol\n",
    "euc_box_maxDec = dec + 0.75/2. + tol\n",
    "\n",
    "euc_ra = [euc_box_minRa+tol/2., euc_box_maxRa-tol/2.]\n",
    "euc_dec = [euc_box_minDec, euc_box_maxDec]\n",
    "\n",
    "xmin, ymin, xmax, ymax = euc_ra[1], euc_dec[0], euc_ra[0], euc_dec[1]\n",
    "ra_width= np.abs(euc_ra[1]-euc_ra[0])\n",
    "\n",
    "xmin = xmin - 360 if xmin > 180 else xmin\n",
    "xmax = xmax - 360 if xmax > 180 else xmax\n",
    "extent = xmin, ymin, xmax, ymax\n",
    "\n",
    "size = (401,701)\n",
    "filters='ugriz'\n",
    "layers = {'u':15,'g':10,'i':10,'r':10,'z':15}\n",
    "\n",
    "for filter in filters:\n",
    "    filtername=f'LSST_{filter}'\n",
    "    print(filter)\n",
    "    targets =[]\n",
    "    for index, rows in rubin_ptgs_df[(rubin_ptgs_df['filter']==filter)].iterrows():\n",
    "    # Create list for the current row\n",
    "        my_list =[rows.fieldRA, rows.fieldDec]\n",
    "\n",
    "        targets.append(my_list)\n",
    "    \n",
    "    X,Y, image = get_layers(extent,size,targets,focalplane)\n",
    "  \n",
    "    if np.max(image) <= layers[filter]-1:\n",
    "        print('layer count {} < {}'.format(np.max(image),layers[filter]))\n",
    "       # break\n",
    "    else:\n",
    "       # print(f'ObsId {obsId}')\n",
    "        print('Number of layers {} >= {}'.format(np.max(image),layers[filter]))\n",
    "    \n",
    "    plot_layers(X,Y,image,euc_ra[0],euc_dec[0],ra_width,filter_name=filtername)"
   ]
  },
  {
   "cell_type": "code",
   "execution_count": 30,
   "id": "eb9897fa-07d9-42cd-9e6e-f170deeb1958",
   "metadata": {},
   "outputs": [],
   "source": [
    "from astropy.coordinates import SkyCoord"
   ]
  },
  {
   "cell_type": "code",
   "execution_count": 31,
   "id": "1b2eac2d-9623-4116-9906-a9e21501d66c",
   "metadata": {},
   "outputs": [
    {
     "name": "stdout",
     "output_type": "stream",
     "text": [
      "0d05m00s\n",
      "0d30m00s\n"
     ]
    }
   ],
   "source": [
    "from astropy.coordinates import Angle\n",
    "ang= Angle('0d5m0.0s')\n",
    "print(ang)\n",
    "print(Angle('0.5d'))"
   ]
  },
  {
   "cell_type": "code",
   "execution_count": 32,
   "id": "657fc9d0-8927-451c-81f6-d9ff98c50927",
   "metadata": {},
   "outputs": [],
   "source": [
    "c = SkyCoord([10, 10], [-30, -35], unit=\"deg\")\n",
    "d = SkyCoord(10, -35, unit=\"deg\")\n",
    "dist_pair = c.separation(d)\n"
   ]
  },
  {
   "cell_type": "code",
   "execution_count": 33,
   "id": "6a6cd4a7-5ed5-4d82-bd96-0c84ed58ea8b",
   "metadata": {},
   "outputs": [],
   "source": [
    "def apply_min_pair_separation(df,ang):\n",
    "    drop_list = []\n",
    "    df = df.reset_index()  # make sure indexes pair with number of rows\n",
    "    for index, row in df.iterrows():\n",
    "        target = SkyCoord(row['fieldRA'], row['fieldDec'], unit='deg')\n",
    "        for i_pos in range(index+1, len(df)):\n",
    "            neighbor = SkyCoord(df['fieldRA'].loc[i_pos], df['fieldDec'].loc[i_pos], unit='deg')\n",
    "            dist = target.separation(neighbor)\n",
    "            if dist < Angle(ang):\n",
    "                #print(df_g['observationId'].loc[i_pos])\n",
    "                drop_list.append(df['observationId'].loc[i_pos])\n",
    "                \n",
    "    df = df[~df.observationId.isin(drop_list)]\n",
    "    return df"
   ]
  },
  {
   "cell_type": "code",
   "execution_count": 34,
   "id": "2f636bdf-ac12-498b-bb12-884f9d7a1e51",
   "metadata": {},
   "outputs": [],
   "source": [
    "def drop_min_pair_separation(pt1,pt2,ang):\n",
    "    print(pt1[0])\n",
    "    target = SkyCoord(pt1[0],pt1[1], unit='deg')\n",
    "    neighbor = SkyCoord(pt2[0],pt2[1], unit='deg')\n",
    "    dist = target.separation(neighbor)\n",
    "    if dist < Angle(ang):\n",
    "        return target\n",
    "    else:\n",
    "        return target, neighbor"
   ]
  },
  {
   "cell_type": "code",
   "execution_count": 35,
   "id": "cc95cbd7-e97c-4984-925e-5b8e1729710c",
   "metadata": {},
   "outputs": [],
   "source": [
    "def select_rubin_targets_in_euc_fov(df, ra, dec):\n",
    "    tol=1.8\n",
    "\n",
    "    euc_box_minRa, euc_box_maxRa = meas_euclid_box(ra, dec, 0.75)\n",
    "    euc_box_minDec = dec - 0.75/2. - tol\n",
    "    euc_box_maxDec = dec + 0.75/2. + tol\n",
    "    ra_width= euc_box_minRa - euc_box_maxRa\n",
    "\n",
    "    euc_ra = [euc_box_minRa+tol/2., euc_box_maxRa-tol/2.]\n",
    "    euc_dec = [euc_box_minDec, euc_box_maxDec]\n",
    "       \n",
    "    rubin_ptgs_df = df[(df['fieldRA'] < euc_ra[0]) & (df['fieldRA'] > euc_ra[1])\n",
    "                    & (df['fieldDec'] > euc_dec[0]) & (df['fieldDec'] < euc_dec[1])]\n",
    "    \n",
    "    sub_df = rubin_ptgs_df.groupby('filter').apply(lambda x: apply_min_pair_separation(x,'0.5d') \n",
    "                                           if set(x['filter'].unique()).intersection(set(['g','r','i']))\n",
    "                                                   else apply_min_pair_separation(x,'0.45d') )\n",
    "    #sub_df = rubin_ptgs_df['filter'].apply(lambda x: apply_min_pair_separation(x,'0.5d') if set(x).intersection(set(['g','r','i'])) else apply_min_pair_separation(x,'0.43d') )\n",
    "\n",
    "    return sub_df"
   ]
  },
  {
   "cell_type": "code",
   "execution_count": 36,
   "id": "1a92cd96-872b-4d43-8ebe-c25599d641be",
   "metadata": {},
   "outputs": [],
   "source": [
    "test2_df = rubin_ptgs_df.groupby('filter')"
   ]
  },
  {
   "cell_type": "code",
   "execution_count": 37,
   "id": "da6211bc-d146-4547-9a2c-9864023bb940",
   "metadata": {},
   "outputs": [
    {
     "name": "stdout",
     "output_type": "stream",
     "text": [
      "True\n"
     ]
    },
    {
     "name": "stderr",
     "output_type": "stream",
     "text": [
      "<ipython-input-37-761dab913522>:10: SettingWithCopyWarning: \n",
      "A value is trying to be set on a copy of a slice from a DataFrame.\n",
      "Try using .loc[row_indexer,col_indexer] = value instead\n",
      "\n",
      "See the caveats in the documentation: https://pandas.pydata.org/pandas-docs/stable/user_guide/indexing.html#returning-a-view-versus-a-copy\n",
      "  sub_df['yes_filters'] = sub_df['filter'].apply(lambda x: True if set(x).intersection(set(['g','r','i'])) else False  )\n"
     ]
    }
   ],
   "source": [
    "sub_df = rubin_ptgs_df\n",
    "S1= set(['g','r', 'i'])\n",
    "S2 = set(sub_df['filter'].unique())\n",
    "if S1.intersection(S2):\n",
    "    print('True')\n",
    "else:\n",
    "    print('False')\n",
    "\n",
    "\n",
    "sub_df['yes_filters'] = sub_df['filter'].apply(lambda x: True if set(x).intersection(set(['g','r','i'])) else False  )"
   ]
  },
  {
   "cell_type": "markdown",
   "id": "7fc72e06-b7d0-4f13-b095-0258f2c21698",
   "metadata": {},
   "source": [
    "# Selection of Rubin targets at point in survey footprint"
   ]
  },
  {
   "cell_type": "code",
   "execution_count": 39,
   "id": "e9e794a0-332e-46aa-a95a-1e472739772b",
   "metadata": {},
   "outputs": [],
   "source": [
    "rubin_ra=231\n",
    "rubin_dec=-9.\n",
    "test_df = select_rubin_targets_in_euc_fov(data,ra=rubin_ra, dec=rubin_dec)"
   ]
  },
  {
   "cell_type": "code",
   "execution_count": 40,
   "id": "ceda05e6-dadc-4f2a-8635-522b6e67f763",
   "metadata": {},
   "outputs": [
    {
     "name": "stdout",
     "output_type": "stream",
     "text": [
      "u 21\n",
      "g 16\n",
      "r 15\n",
      "i 16\n",
      "z 20\n"
     ]
    }
   ],
   "source": [
    "filters='ugriz'\n",
    "for filter in filters:\n",
    "    print(filter, len(test_df[test_df['filter']==filter]))"
   ]
  },
  {
   "cell_type": "code",
   "execution_count": 41,
   "id": "3e963615-0037-48d1-8930-bb1e97c98996",
   "metadata": {},
   "outputs": [
    {
     "name": "stdout",
     "output_type": "stream",
     "text": [
      "Number of layers 17 >= 15\n",
      "231.38007655634541 -9.375 0.7601531126908299\n",
      "Number of layers 14 >= 10\n",
      "231.38007655634541 -9.375 0.7601531126908299\n",
      "Number of layers 13 >= 10\n",
      "231.38007655634541 -9.375 0.7601531126908299\n",
      "Number of layers 14 >= 10\n",
      "231.38007655634541 -9.375 0.7601531126908299\n",
      "Number of layers 16 >= 15\n",
      "231.38007655634541 -9.375 0.7601531126908299\n"
     ]
    },
    {
     "data": {
      "image/png": "[encoded data removed]",
      "text/plain": [
       "<Figure size 432x288 with 2 Axes>"
      ]
     },
     "metadata": {
      "needs_background": "light"
     },
     "output_type": "display_data"
    }
   ],
   "source": [
    "from layers import get_layers\n",
    "tol=0.0\n",
    "ra=rubin_ra\n",
    "dec=rubin_dec\n",
    "euc_box_minRa, euc_box_maxRa = meas_euclid_box(ra,dec,0.75)\n",
    "euc_box_minDec = dec - 0.75/2. - tol\n",
    "euc_box_maxDec = dec + 0.75/2. + tol\n",
    "ra_width= euc_box_minRa - euc_box_maxRa\n",
    "\n",
    "euc_ra = [euc_box_minRa+tol/2., euc_box_maxRa-tol/2.]\n",
    "euc_dec = [euc_box_minDec, euc_box_maxDec]\n",
    "\n",
    "xmin, ymin, xmax, ymax = euc_ra[1], euc_dec[0], euc_ra[0], euc_dec[1]\n",
    "ra_width= np.abs(euc_ra[1]-euc_ra[0])\n",
    "xmin = xmin - 360 if xmin > 180 else xmin\n",
    "xmax = xmax - 360 if xmax > 180 else xmax\n",
    "extent = xmin, ymin, xmax, ymax\n",
    "size = (601,901)\n",
    "\n",
    "filters = 'ugriz'\n",
    "layers = {'u':15,'g':10,'i':10,'r':10,'z':15}\n",
    "for filter in filters:\n",
    "    targets = []\n",
    "    for index, rows in test_df[test_df['filter']==filter].iterrows():\n",
    "        # Create list for the current row\n",
    "            my_list =[rows.fieldRA, rows.fieldDec]\n",
    "            targets.append(my_list)\n",
    "        \n",
    "    X,Y, image = get_layers(extent,size,targets,focalplane)\n",
    "  \n",
    "    if np.max(image) <= layers[filter]-1:\n",
    "        print('layer count {} < {}'.format(np.max(image),layers[filter]))\n",
    "    else:\n",
    "        print('Number of layers {} >= {}'.format(np.max(image),layers[filter]))\n",
    "    \n",
    "    plot_layers(X,Y,image,euc_ra[0],euc_dec[0],ra_width,filter_name=filter,plot_base_name='Rubin_targets_orig-pos_')"
   ]
  },
  {
   "cell_type": "code",
   "execution_count": 42,
   "id": "d8805552-dc46-463a-837c-15a9f4df1848",
   "metadata": {},
   "outputs": [
    {
     "data": {
      "text/plain": [
       "<matplotlib.patches.Rectangle at 0x7f12ab106a30>"
      ]
     },
     "execution_count": 42,
     "metadata": {},
     "output_type": "execute_result"
    },
    {
     "data": {
      "image/png": "[encoded data removed]",
      "text/plain": [
       "<Figure size 432x288 with 1 Axes>"
      ]
     },
     "metadata": {
      "needs_background": "light"
     },
     "output_type": "display_data"
    },
    {
     "data": {
      "image/png": "[encoded data removed]",
      "text/plain": [
       "<Figure size 432x288 with 1 Axes>"
      ]
     },
     "metadata": {
      "needs_background": "light"
     },
     "output_type": "display_data"
    },
    {
     "data": {
      "image/png": "[encoded data removed]",
      "text/plain": [
       "<Figure size 432x288 with 1 Axes>"
      ]
     },
     "metadata": {
      "needs_background": "light"
     },
     "output_type": "display_data"
    },
    {
     "data": {
      "image/png": "[encoded data removed]",
      "text/plain": [
       "<Figure size 432x288 with 1 Axes>"
      ]
     },
     "metadata": {
      "needs_background": "light"
     },
     "output_type": "display_data"
    },
    {
     "data": {
      "image/png": "[encoded data removed]",
      "text/plain": [
       "<Figure size 432x288 with 1 Axes>"
      ]
     },
     "metadata": {
      "needs_background": "light"
     },
     "output_type": "display_data"
    },
    {
     "data": {
      "image/png": "[encoded data removed]",
      "text/plain": [
       "<Figure size 432x288 with 1 Axes>"
      ]
     },
     "metadata": {
      "needs_background": "light"
     },
     "output_type": "display_data"
    }
   ],
   "source": [
    "sub_samp = test_df\n",
    "\n",
    "sub_samp.reset_index(drop = True, inplace = True)\n",
    "sub_samp.groupby('filter').plot(kind='scatter', x='fieldRA', y='fieldDec')\n",
    "plt.gca().add_patch(Rectangle((rubin_ra-0.75/2,dec-0.75/2.),0.75,0.75,\n",
    "                    angle=0,\n",
    "                    edgecolor='red',\n",
    "                    facecolor='none',\n",
    "                    lw=2))"
   ]
  },
  {
   "cell_type": "code",
   "execution_count": 49,
   "id": "bb8c5d99-4300-459e-8864-ceda1e0a0309",
   "metadata": {},
   "outputs": [
    {
     "data": {
      "image/png": "[encoded data removed]",
      "text/plain": [
       "<Figure size 432x288 with 1 Axes>"
      ]
     },
     "metadata": {
      "needs_background": "light"
     },
     "output_type": "display_data"
    }
   ],
   "source": [
    "df = test_df.copy()\n",
    "\n",
    "fig,ax = plt.subplots()\n",
    "for k,d in df.groupby('filter'):\n",
    "    ax.scatter(d['fieldRA'], d['fieldDec'], label=k)\n",
    "plt.legend(loc=2)\n",
    "#plt.savefig('scatter.png')\n",
    "plt.show()\n"
   ]
  },
  {
   "cell_type": "markdown",
   "id": "73f061da-a882-46f0-946e-9e21316e85fd",
   "metadata": {},
   "source": [
    "# Translate Rubin_RA and Rubin_DEC to \"Pilot-Phase Pointing\""
   ]
  },
  {
   "cell_type": "code",
   "execution_count": 50,
   "id": "ebcc39b8-225f-414c-9c90-f716da3560ee",
   "metadata": {},
   "outputs": [],
   "source": [
    "def differential_metric_scale(y0,y1):\n",
    "    return np.abs(np.cos(np.deg2rad(y0)))/np.abs(np.cos(np.deg2rad(y1))) #1/np.cos(np.deg2rad(y1))  #np.abs(np.cos(y0))/np.abs(np.cos(y1))\n",
    "\n",
    "def metric_scale(y):\n",
    "\treturn 1/np.abs(np.cos(np.deg2rad(y)))\n",
    "\n",
    "def to_tangent_plane(p):\n",
    "\treturn [p[0] / metric_scale(p[1]), p[1]]\n",
    "\n",
    "def move(rubin_target_ptg,pointings0,dx,dy):\n",
    "    vector = [dx,dy]\n",
    "  \n",
    "    barycenter0 = rubin_target_ptg #compute_barycenter(pointings0)\n",
    "    barycenter1 = np.array(barycenter0) + np.array(vector)\n",
    "\n",
    "    relative_pointings = np.subtract(pointings0,np.array(barycenter0))\n",
    "    #relative_pointings = [to_tangent_plane(p) for p in relative_pointings]\n",
    "    print('relative_pointings', relative_pointings)\n",
    "    \n",
    "    pointings1 = []\n",
    "   \n",
    "    for p in relative_pointings:\n",
    "        y0 = barycenter0[1]\n",
    "        y1 = barycenter1[1]\n",
    "     #   print(y0,y1)\n",
    "        pt1 = [barycenter1[0] + p[0] * differential_metric_scale(y0,y1),\n",
    "                barycenter1[1] + p[1]]\n",
    "        pointings1.append(pt1)\n",
    "\n",
    "    return pointings1 "
   ]
  },
  {
   "cell_type": "markdown",
   "id": "a7efef6c-08c4-4ab3-accc-3658820e2819",
   "metadata": {},
   "source": [
    "### Compute displacements between original and new coordinates"
   ]
  },
  {
   "cell_type": "code",
   "execution_count": 51,
   "id": "15657703-fc5b-43b3-9a8e-ed54cc24175d",
   "metadata": {},
   "outputs": [
    {
     "name": "stdout",
     "output_type": "stream",
     "text": [
      "pp [231.65239775, 30.4257185]\n",
      "relative_pointings [[-1.01381362  0.7777004 ]\n",
      " [-0.92644182  1.50610558]\n",
      " [-0.59242003 -1.06462064]\n",
      " [ 0.22502618 -0.54499849]\n",
      " [-1.06615185  2.03228001]\n",
      " [-0.39670199 -0.4564114 ]\n",
      " [ 1.13770042 -0.22287698]\n",
      " [-0.75223142 -1.6617377 ]\n",
      " [ 0.97569466 -1.03786193]\n",
      " [ 0.00275792 -2.16297198]\n",
      " [ 0.14052884  1.23381729]\n",
      " [ 0.7279757   0.9035967 ]\n",
      " [ 1.03491036  1.35658921]\n",
      " [ 0.52951314  1.61136292]\n",
      " [ 1.12470924  0.54047191]\n",
      " [-1.22821371 -0.1942964 ]\n",
      " [-0.56990136  0.41861429]\n",
      " [ 0.95276373  2.04121008]\n",
      " [-0.70705545 -0.44312447]\n",
      " [ 0.43140303 -1.77661778]\n",
      " [-0.18581121  0.97310635]\n",
      " [-1.01381362  0.7777004 ]\n",
      " [-0.57965464 -1.91494156]\n",
      " [ 0.98174415  0.91136214]\n",
      " [-1.27906452 -0.90095273]\n",
      " [-0.8598878   2.16120427]\n",
      " [ 0.99968304  0.25191621]\n",
      " [ 0.24701558  1.53083847]\n",
      " [-0.98335847  0.09465238]\n",
      " [ 1.16356324 -0.56067437]\n",
      " [ 0.51634395 -0.79647868]\n",
      " [ 0.97569466 -1.03786193]\n",
      " [ 0.95276373  2.04121008]\n",
      " [-0.70347139 -0.4670884 ]\n",
      " [ 0.43140303 -1.77661778]\n",
      " [-1.01381362  0.7777004 ]\n",
      " [-0.57965464 -1.91494156]\n",
      " [ 0.98174415  0.91136214]\n",
      " [-0.35990854  0.77067448]\n",
      " [-0.92644182  1.50610558]\n",
      " [ 0.22502618 -0.54499849]\n",
      " [ 1.08294365 -1.04001176]\n",
      " [-0.22422419  1.45593857]\n",
      " [-1.04425534 -1.13169987]\n",
      " [ 0.30344345  2.16262104]\n",
      " [ 0.76497846 -0.28951174]\n",
      " [-0.51101171 -0.98206001]\n",
      " [-0.59242003 -1.06462064]\n",
      " [ 1.08294365 -1.04001176]\n",
      " [-0.76438834  0.62228077]\n",
      " [ 0.61211594 -2.15197683]\n",
      " [-1.06615185  2.03228001]\n",
      " [-0.39670199 -0.4564114 ]\n",
      " [-0.75223142 -1.6617377 ]\n",
      " [-0.46096544  1.5346907 ]\n",
      " [ 1.02449717 -0.21996654]\n",
      " [ 0.00275792 -2.16297198]\n",
      " [-0.29157761  1.02120294]\n",
      " [-1.27068613  0.79683549]\n",
      " [ 0.49534362 -0.61792539]\n",
      " [ 0.7279757   0.9035967 ]\n",
      " [-1.23277105 -1.59169349]\n",
      " [ 0.29094254 -0.19531947]\n",
      " [ 0.52951314  1.61136292]\n",
      " [ 1.12470924  0.54047191]\n",
      " [ 1.17494565  1.67717348]\n",
      " [-0.61316102  0.0397328 ]\n",
      " [ 0.60319583 -1.19312579]\n",
      " [-0.54702366  0.9386225 ]\n",
      " [-0.95773534 -0.81568487]\n",
      " [-0.38790764 -0.60752468]\n",
      " [ 0.8400981  -1.67342144]\n",
      " [-0.21999708  0.01163093]\n",
      " [-0.63819622  1.97800638]\n",
      " [ 0.38806115  0.23275675]\n",
      " [ 0.25351834 -1.74239663]\n",
      " [ 0.99968304  0.25191621]\n",
      " [ 0.96558824  1.58148132]\n",
      " [-1.12751753 -0.17343176]\n",
      " [-0.2318392  -1.10475209]\n",
      " [ 0.07340653  0.56022894]\n",
      " [ 0.08891882 -0.36040884]\n",
      " [ 1.15207708 -0.28111456]\n",
      " [-0.9777214   1.6571612 ]\n",
      " [ 0.45535749  2.03980536]\n",
      " [ 0.44789177  1.31326659]\n",
      " [-0.84454719 -1.78851224]\n",
      " [-0.07318677  1.94479532]\n",
      " [-1.27079405  1.15792555]\n",
      " [-0.95773534 -0.81568487]\n",
      " [ 1.06658422  1.42809199]\n",
      " [-0.38790764 -0.60752468]\n",
      " [ 0.8400981  -1.67342144]\n",
      " [-0.18581121  0.97310635]\n",
      " [ 0.38806115  0.23275675]\n",
      " [-0.72610671  0.92974763]\n",
      " [ 0.25351834 -1.74239663]\n",
      " [-0.8598878   2.16120427]\n",
      " [ 0.47871119 -1.01183907]\n",
      " [ 0.99968304  0.25191621]\n",
      " [-1.12751753 -0.17343176]\n",
      " [ 0.07340653  0.56022894]\n",
      " [ 1.16356324 -0.56067437]\n",
      " [-0.82705284 -1.87581133]\n",
      " [ 0.6433144   1.18754011]\n",
      " [ 0.18813233 -0.4704971 ]\n",
      " [-0.9777214   1.6571612 ]\n",
      " [ 1.20244362  2.15525714]\n",
      " [ 0.45535749  2.03980536]]\n"
     ]
    }
   ],
   "source": [
    "rubin_pointing =[rubin_ra,rubin_dec]\n",
    "# barycenter is my euclid-pointing\n",
    "dx = pilot_pointing[0]-rubin_pointing[0]\n",
    "dy = pilot_pointing[1]-rubin_pointing[1]\n",
    "print('pp', pilot_pointing)\n",
    "\n",
    "#new_targets_df = test_df.apply(move(rubin_pointing,np.array(list(zip(test_df['fieldRA'],test_df['fieldDec']))),dx,dy))\n",
    "new_test_targets_df = test_df.copy()\n",
    "new_test_targets_df[[\"fieldRA\", \"fieldDec\"]] = move(rubin_pointing,np.array(list(zip(test_df['fieldRA'].copy(),test_df['fieldDec'].copy()))),dx,dy) "
   ]
  },
  {
   "cell_type": "code",
   "execution_count": 52,
   "id": "dedc2011-bcaf-473a-a35d-9f4d57a48e73",
   "metadata": {},
   "outputs": [
    {
     "data": {
      "text/html": [
       "<div>\n",
       "<style scoped>\n",
       "    .dataframe tbody tr th:only-of-type {\n",
       "        vertical-align: middle;\n",
       "    }\n",
       "\n",
       "    .dataframe tbody tr th {\n",
       "        vertical-align: top;\n",
       "    }\n",
       "\n",
       "    .dataframe thead th {\n",
       "        text-align: right;\n",
       "    }\n",
       "</style>\n",
       "<table border=\"1\" class=\"dataframe\">\n",
       "  <thead>\n",
       "    <tr style=\"text-align: right;\">\n",
       "      <th></th>\n",
       "      <th>index</th>\n",
       "      <th>observationId</th>\n",
       "      <th>fieldRA</th>\n",
       "      <th>fieldDec</th>\n",
       "      <th>observationStartMJD</th>\n",
       "      <th>visitExposureTime</th>\n",
       "      <th>filter</th>\n",
       "      <th>rotSkyPos</th>\n",
       "      <th>seeingFwhm500</th>\n",
       "      <th>seeingFwhmEff</th>\n",
       "      <th>seeingFwhmGeom</th>\n",
       "      <th>numExposures</th>\n",
       "      <th>airmass</th>\n",
       "    </tr>\n",
       "  </thead>\n",
       "  <tbody>\n",
       "    <tr>\n",
       "      <th>0</th>\n",
       "      <td>125684</td>\n",
       "      <td>125684</td>\n",
       "      <td>230.491146</td>\n",
       "      <td>31.203419</td>\n",
       "      <td>60404.366295</td>\n",
       "      <td>30.0</td>\n",
       "      <td>g</td>\n",
       "      <td>202.410736</td>\n",
       "      <td>0.636970</td>\n",
       "      <td>0.982375</td>\n",
       "      <td>0.859512</td>\n",
       "      <td>2</td>\n",
       "      <td>1.174479</td>\n",
       "    </tr>\n",
       "    <tr>\n",
       "      <th>1</th>\n",
       "      <td>150985</td>\n",
       "      <td>150985</td>\n",
       "      <td>230.591224</td>\n",
       "      <td>31.931824</td>\n",
       "      <td>60432.260807</td>\n",
       "      <td>30.0</td>\n",
       "      <td>g</td>\n",
       "      <td>242.162882</td>\n",
       "      <td>0.726720</td>\n",
       "      <td>1.051348</td>\n",
       "      <td>0.916208</td>\n",
       "      <td>2</td>\n",
       "      <td>1.113826</td>\n",
       "    </tr>\n",
       "    <tr>\n",
       "      <th>2</th>\n",
       "      <td>151828</td>\n",
       "      <td>151828</td>\n",
       "      <td>230.973822</td>\n",
       "      <td>29.361098</td>\n",
       "      <td>60433.194087</td>\n",
       "      <td>30.0</td>\n",
       "      <td>g</td>\n",
       "      <td>195.430786</td>\n",
       "      <td>0.652100</td>\n",
       "      <td>0.950162</td>\n",
       "      <td>0.833033</td>\n",
       "      <td>2</td>\n",
       "      <td>1.079466</td>\n",
       "    </tr>\n",
       "    <tr>\n",
       "      <th>3</th>\n",
       "      <td>172117</td>\n",
       "      <td>172117</td>\n",
       "      <td>231.910149</td>\n",
       "      <td>29.880720</td>\n",
       "      <td>60488.077097</td>\n",
       "      <td>30.0</td>\n",
       "      <td>g</td>\n",
       "      <td>112.363178</td>\n",
       "      <td>1.045850</td>\n",
       "      <td>1.389865</td>\n",
       "      <td>1.194469</td>\n",
       "      <td>2</td>\n",
       "      <td>1.069312</td>\n",
       "    </tr>\n",
       "    <tr>\n",
       "      <th>4</th>\n",
       "      <td>321386</td>\n",
       "      <td>321386</td>\n",
       "      <td>230.431196</td>\n",
       "      <td>32.457999</td>\n",
       "      <td>60791.193240</td>\n",
       "      <td>30.0</td>\n",
       "      <td>g</td>\n",
       "      <td>191.134513</td>\n",
       "      <td>0.903719</td>\n",
       "      <td>1.268591</td>\n",
       "      <td>1.094782</td>\n",
       "      <td>2</td>\n",
       "      <td>1.133204</td>\n",
       "    </tr>\n",
       "    <tr>\n",
       "      <th>...</th>\n",
       "      <td>...</td>\n",
       "      <td>...</td>\n",
       "      <td>...</td>\n",
       "      <td>...</td>\n",
       "      <td>...</td>\n",
       "      <td>...</td>\n",
       "      <td>...</td>\n",
       "      <td>...</td>\n",
       "      <td>...</td>\n",
       "      <td>...</td>\n",
       "      <td>...</td>\n",
       "      <td>...</td>\n",
       "      <td>...</td>\n",
       "    </tr>\n",
       "    <tr>\n",
       "      <th>104</th>\n",
       "      <td>377365</td>\n",
       "      <td>377365</td>\n",
       "      <td>232.389269</td>\n",
       "      <td>31.613259</td>\n",
       "      <td>60904.020785</td>\n",
       "      <td>30.0</td>\n",
       "      <td>z</td>\n",
       "      <td>215.208833</td>\n",
       "      <td>0.950246</td>\n",
       "      <td>1.206463</td>\n",
       "      <td>1.043712</td>\n",
       "      <td>2</td>\n",
       "      <td>1.243396</td>\n",
       "    </tr>\n",
       "    <tr>\n",
       "      <th>105</th>\n",
       "      <td>389243</td>\n",
       "      <td>389243</td>\n",
       "      <td>231.867890</td>\n",
       "      <td>29.955221</td>\n",
       "      <td>60920.047782</td>\n",
       "      <td>30.0</td>\n",
       "      <td>z</td>\n",
       "      <td>184.755313</td>\n",
       "      <td>0.563056</td>\n",
       "      <td>1.043377</td>\n",
       "      <td>0.909656</td>\n",
       "      <td>2</td>\n",
       "      <td>1.815458</td>\n",
       "    </tr>\n",
       "    <tr>\n",
       "      <th>106</th>\n",
       "      <td>728287</td>\n",
       "      <td>728287</td>\n",
       "      <td>230.532487</td>\n",
       "      <td>32.082880</td>\n",
       "      <td>61486.386349</td>\n",
       "      <td>30.0</td>\n",
       "      <td>z</td>\n",
       "      <td>213.793266</td>\n",
       "      <td>0.803713</td>\n",
       "      <td>1.003151</td>\n",
       "      <td>0.876590</td>\n",
       "      <td>2</td>\n",
       "      <td>1.137039</td>\n",
       "    </tr>\n",
       "    <tr>\n",
       "      <th>107</th>\n",
       "      <td>751830</td>\n",
       "      <td>751830</td>\n",
       "      <td>233.029712</td>\n",
       "      <td>32.580976</td>\n",
       "      <td>61522.331877</td>\n",
       "      <td>30.0</td>\n",
       "      <td>z</td>\n",
       "      <td>279.942129</td>\n",
       "      <td>0.864417</td>\n",
       "      <td>1.130594</td>\n",
       "      <td>0.981349</td>\n",
       "      <td>2</td>\n",
       "      <td>1.264752</td>\n",
       "    </tr>\n",
       "    <tr>\n",
       "      <th>108</th>\n",
       "      <td>788643</td>\n",
       "      <td>788643</td>\n",
       "      <td>232.173978</td>\n",
       "      <td>32.465524</td>\n",
       "      <td>61597.072630</td>\n",
       "      <td>30.0</td>\n",
       "      <td>z</td>\n",
       "      <td>194.119544</td>\n",
       "      <td>0.618803</td>\n",
       "      <td>0.825334</td>\n",
       "      <td>0.730425</td>\n",
       "      <td>2</td>\n",
       "      <td>1.114009</td>\n",
       "    </tr>\n",
       "  </tbody>\n",
       "</table>\n",
       "<p>109 rows × 13 columns</p>\n",
       "</div>"
      ],
      "text/plain": [
       "      index  observationId     fieldRA   fieldDec  observationStartMJD  \\\n",
       "0    125684         125684  230.491146  31.203419         60404.366295   \n",
       "1    150985         150985  230.591224  31.931824         60432.260807   \n",
       "2    151828         151828  230.973822  29.361098         60433.194087   \n",
       "3    172117         172117  231.910149  29.880720         60488.077097   \n",
       "4    321386         321386  230.431196  32.457999         60791.193240   \n",
       "..      ...            ...         ...        ...                  ...   \n",
       "104  377365         377365  232.389269  31.613259         60904.020785   \n",
       "105  389243         389243  231.867890  29.955221         60920.047782   \n",
       "106  728287         728287  230.532487  32.082880         61486.386349   \n",
       "107  751830         751830  233.029712  32.580976         61522.331877   \n",
       "108  788643         788643  232.173978  32.465524         61597.072630   \n",
       "\n",
       "     visitExposureTime filter   rotSkyPos  seeingFwhm500  seeingFwhmEff  \\\n",
       "0                 30.0      g  202.410736       0.636970       0.982375   \n",
       "1                 30.0      g  242.162882       0.726720       1.051348   \n",
       "2                 30.0      g  195.430786       0.652100       0.950162   \n",
       "3                 30.0      g  112.363178       1.045850       1.389865   \n",
       "4                 30.0      g  191.134513       0.903719       1.268591   \n",
       "..                 ...    ...         ...            ...            ...   \n",
       "104               30.0      z  215.208833       0.950246       1.206463   \n",
       "105               30.0      z  184.755313       0.563056       1.043377   \n",
       "106               30.0      z  213.793266       0.803713       1.003151   \n",
       "107               30.0      z  279.942129       0.864417       1.130594   \n",
       "108               30.0      z  194.119544       0.618803       0.825334   \n",
       "\n",
       "     seeingFwhmGeom  numExposures   airmass  \n",
       "0          0.859512             2  1.174479  \n",
       "1          0.916208             2  1.113826  \n",
       "2          0.833033             2  1.079466  \n",
       "3          1.194469             2  1.069312  \n",
       "4          1.094782             2  1.133204  \n",
       "..              ...           ...       ...  \n",
       "104        1.043712             2  1.243396  \n",
       "105        0.909656             2  1.815458  \n",
       "106        0.876590             2  1.137039  \n",
       "107        0.981349             2  1.264752  \n",
       "108        0.730425             2  1.114009  \n",
       "\n",
       "[109 rows x 13 columns]"
      ]
     },
     "execution_count": 52,
     "metadata": {},
     "output_type": "execute_result"
    }
   ],
   "source": [
    "new_test_targets_df"
   ]
  },
  {
   "cell_type": "code",
   "execution_count": 53,
   "id": "c9a701dc-3c29-4825-9027-fba489874cef",
   "metadata": {},
   "outputs": [],
   "source": [
    "import sqlite3\n",
    "# Create your connection.\n",
    "con = sqlite3.connect('rubin_v2.0_cycle_14.db')"
   ]
  },
  {
   "cell_type": "code",
   "execution_count": 54,
   "id": "894a1e55-ccdc-4fb4-90cc-cdf191d7b58d",
   "metadata": {},
   "outputs": [],
   "source": [
    "c = con.cursor()\n",
    "\n",
    "c.execute('CREATE TABLE IF NOT EXISTS OBSERVATIONS (observationId, fieldRA, fieldDec, observationStartMJD, visitExposureTime, filter, rotSkyPos, seeingFwhm500, seeingFwhmEff, seeingFwhmGeom, numExposures, airmass)')\n",
    "con.commit()"
   ]
  },
  {
   "cell_type": "code",
   "execution_count": 56,
   "id": "2ccc0be3-a823-400f-a284-07871f8f4578",
   "metadata": {},
   "outputs": [],
   "source": [
    "new_test_targets_df.reset_index(drop=True)\n",
    "new_test_targets_df.to_sql('None', con, if_exists='replace', index = False)"
   ]
  },
  {
   "cell_type": "code",
   "execution_count": 57,
   "id": "7679b764-4d39-45ad-bf10-53874a57e84b",
   "metadata": {},
   "outputs": [
    {
     "data": {
      "text/plain": [
       "<sqlite3.Cursor at 0x7f12da75cc00>"
      ]
     },
     "execution_count": 57,
     "metadata": {},
     "output_type": "execute_result"
    }
   ],
   "source": [
    "c.execute('''  \n",
    "SELECT * FROM OBSERVATIONS\n",
    "          ''')\n"
   ]
  },
  {
   "cell_type": "code",
   "execution_count": 58,
   "id": "a601f3cf-300f-436f-879e-a2f493cc67f1",
   "metadata": {},
   "outputs": [],
   "source": []
  },
  {
   "cell_type": "code",
   "execution_count": 59,
   "id": "1041ad43-cfd7-4cb2-a0fd-7de8d0590398",
   "metadata": {},
   "outputs": [
    {
     "ename": "ProgrammingError",
     "evalue": "Cannot operate on a closed database.",
     "output_type": "error",
     "traceback": [
      "\u001b[0;31m---------------------------------------------------------------------------\u001b[0m",
      "\u001b[0;31mProgrammingError\u001b[0m                          Traceback (most recent call last)",
      "\u001b[0;32m<ipython-input-59-11e33f8e3cc4>\u001b[0m in \u001b[0;36m<module>\u001b[0;34m\u001b[0m\n\u001b[0;32m----> 1\u001b[0;31m \u001b[0;32mfor\u001b[0m \u001b[0mrow\u001b[0m \u001b[0;32min\u001b[0m \u001b[0mc\u001b[0m\u001b[0;34m.\u001b[0m\u001b[0mfetchall\u001b[0m\u001b[0;34m(\u001b[0m\u001b[0;34m)\u001b[0m\u001b[0;34m:\u001b[0m\u001b[0;34m\u001b[0m\u001b[0;34m\u001b[0m\u001b[0m\n\u001b[0m\u001b[1;32m      2\u001b[0m     \u001b[0mprint\u001b[0m \u001b[0;34m(\u001b[0m\u001b[0mrow\u001b[0m\u001b[0;34m)\u001b[0m\u001b[0;34m\u001b[0m\u001b[0;34m\u001b[0m\u001b[0m\n",
      "\u001b[0;31mProgrammingError\u001b[0m: Cannot operate on a closed database."
     ]
    }
   ],
   "source": [
    "for row in c.fetchall():\n",
    "    print (row)"
   ]
  },
  {
   "cell_type": "code",
   "execution_count": 63,
   "id": "c82e29fe-3042-4bc8-b2e3-f1531525f442",
   "metadata": {},
   "outputs": [],
   "source": [
    "new_test_targets_df = data.copy()"
   ]
  },
  {
   "cell_type": "code",
   "execution_count": 64,
   "id": "ac76c975-b3b6-411d-91db-1ab711fd7a76",
   "metadata": {},
   "outputs": [
    {
     "name": "stdout",
     "output_type": "stream",
     "text": [
      "[230.97382236455906, 29.361097856783736]\n",
      "[232.89283337196582, 29.38570674118774]\n",
      "[230.77684477569957, 31.047999265289786]\n",
      "[232.35353341338413, 28.273741674851415]\n",
      "[230.43119594266514, 32.45799851265476]\n",
      "[231.19800357711486, 29.969307098377605]\n",
      "[230.79076967855815, 28.76398080197297]\n",
      "[231.1243943268361, 31.960409196311247]\n",
      "[232.82588704877645, 30.205751958852623]\n",
      "[231.65555675332593, 28.262746524279287]\n",
      "[231.3184161504306, 31.44692143529458]\n",
      "[230.19691634961558, 31.222553986855097]\n",
      "[232.2197789524128, 29.80779311330086]\n",
      "[232.4862426059451, 31.32931519742786]\n",
      "[230.24034540309043, 28.834025009017072]\n",
      "[231.98565192791804, 30.23039902761534]\n",
      "[232.2589177267497, 32.03708142350824]\n",
      "[232.94067292019398, 30.966190409067778]\n",
      "[232.99821518521034, 32.10289198357019]\n",
      "[230.95006501872436, 30.465451303762627]\n",
      "[232.34331605887976, 29.232592708939585]\n",
      "Number of layers 17 >= 15\n",
      "232.08897552817763 30.0507185 0.8731555563552433\n",
      "[230.49114570501632, 31.203418898311657]\n",
      "[230.59122394400106, 31.931824077858636]\n",
      "[230.97382236455906, 29.361097856783736]\n",
      "[231.9101493816057, 29.88072000849902]\n",
      "[230.43119594266514, 32.45799851265476]\n",
      "[231.19800357711486, 29.969307098377605]\n",
      "[232.95555339432588, 30.202841517025497]\n",
      "[230.79076967855815, 28.76398080197297]\n",
      "[232.76998721964304, 29.387856570767415]\n",
      "[231.65555675332593, 28.262746524279287]\n",
      "[231.813363632437, 31.65953579231746]\n",
      "[232.4862426059451, 31.32931519742786]\n",
      "[232.83781463165946, 31.782307714785]\n",
      "[232.2589177267497, 32.03708142350824]\n",
      "[232.94067292019398, 30.966190409067778]\n",
      "[230.24556551181718, 30.23142209953921]\n",
      "Number of layers 14 >= 10\n",
      "232.08897552817763 30.0507185 0.8731555563552433\n",
      "[232.74372145137207, 32.46692857623199]\n",
      "[230.8466208548399, 29.958630098509147]\n",
      "[232.1465395100565, 28.64910072415495]\n",
      "[230.49114570501632, 31.203418898311657]\n",
      "[230.98844421738787, 28.510776937838344]\n",
      "[232.7769164778888, 31.337080641590457]\n",
      "[231.240147883981, 31.19639298140892]\n",
      "[230.59122394400106, 31.931824077858636]\n",
      "[231.9101493816057, 29.88072000849902]\n",
      "[232.89283337196582, 29.38570674118774]\n",
      "[231.3955647413887, 31.881657069150332]\n",
      "[230.4562768625164, 29.294018626293546]\n",
      "[231.99997083964928, 32.588339541452505]\n",
      "[232.52862666386014, 30.136206761358828]\n",
      "[231.06706984912543, 29.44365848819389]\n",
      "Number of layers 13 >= 10\n",
      "232.08897552817763 30.0507185 0.8731555563552433\n",
      "[230.99961591181946, 30.844332785139404]\n",
      "[232.74372145137207, 32.46692857623199]\n",
      "[230.84251556848216, 29.982594026130524]\n",
      "[232.1465395100565, 28.64910072415495]\n",
      "[231.43956410206633, 31.398824852631172]\n",
      "[230.49114570501632, 31.203418898311657]\n",
      "[230.98844421738787, 28.510776937838344]\n",
      "[232.7769164778888, 31.337080641590457]\n",
      "[230.18731948969975, 29.52476576702589]\n",
      "[230.6674568761607, 32.58692276960223]\n",
      "[232.7974642193929, 30.677634707465693]\n",
      "[231.93533669200494, 31.95655697108973]\n",
      "[230.52602993132288, 30.520370877177267]\n",
      "[232.98517743384008, 29.86504413483251]\n",
      "[232.24383335366812, 29.629239822825404]\n",
      "[232.76998721964304, 29.387856570767415]\n",
      "Number of layers 14 >= 10\n",
      "232.08897552817763 30.0507185 0.8731555563552433\n",
      "[230.55537941625713, 29.610033629686065]\n",
      "[232.87409480502114, 31.853810485691056]\n",
      "[231.20807689351315, 29.81819382124094]\n",
      "[232.61467091065614, 28.752297064456993]\n",
      "[231.43956410206633, 31.398824852631172]\n",
      "[232.09689444154424, 30.658475248591426]\n",
      "[230.82069369196591, 31.355466131354923]\n",
      "[231.94278514168212, 28.68332187449484]\n",
      "[230.6674568761607, 32.58692276960223]\n",
      "[232.20072767745677, 29.41387942865368]\n",
      "[232.7974642193929, 30.677634707465693]\n",
      "[230.36090588111549, 30.252286742676937]\n",
      "[231.73647975187194, 30.985947442957155]\n",
      "[232.98517743384008, 29.86504413483251]\n",
      "[230.7050670068601, 28.549907170871396]\n",
      "[232.3892690560921, 31.613258614690952]\n",
      "[231.86789006985126, 29.9552213999376]\n",
      "[230.53248679341505, 32.08287970115619]\n",
      "[233.02971217414807, 32.58097563966528]\n",
      "[232.17397765650344, 32.46552386034187]\n",
      "Number of layers 16 >= 15\n",
      "232.08897552817763 30.0507185 0.8731555563552433\n"
     ]
    },
    {
     "data": {
      "image/png": "[encoded data removed]",
      "text/plain": [
       "<Figure size 432x288 with 2 Axes>"
      ]
     },
     "metadata": {
      "needs_background": "light"
     },
     "output_type": "display_data"
    }
   ],
   "source": [
    "tol=0.0\n",
    "ra=pilot_pointing[0]\n",
    "dec=pilot_pointing[1]\n",
    "euc_box_minRa, euc_box_maxRa = meas_euclid_box(ra,dec,0.75)\n",
    "euc_box_minDec = dec - 0.75/2. - tol\n",
    "euc_box_maxDec = dec + 0.75/2. + tol\n",
    "ra_width= euc_box_minRa - euc_box_maxRa\n",
    "\n",
    "euc_ra = [euc_box_minRa+tol/2., euc_box_maxRa-tol/2.]\n",
    "euc_dec = [euc_box_minDec, euc_box_maxDec]\n",
    "\n",
    "xmin, ymin, xmax, ymax = euc_ra[1], euc_dec[0], euc_ra[0], euc_dec[1]\n",
    "ra_width= np.abs(euc_ra[1]-euc_ra[0])\n",
    "xmin = xmin - 360 if xmin > 180 else xmin\n",
    "xmax = xmax - 360 if xmax > 180 else xmax\n",
    "extent = xmin, ymin, xmax, ymax\n",
    "size = (601,901)\n",
    "\n",
    "filters = 'ugriz'\n",
    "layers = {'u':15,'g':10,'i':10,'r':10,'z':15}\n",
    "for filter in filters:\n",
    "    targets = []\n",
    "    for index, rows in new_test_targets_df[new_test_targets_df['filter']==filter].iterrows():\n",
    "        # Create list for the current row\n",
    "            my_list =[rows.fieldRA, rows.fieldDec]\n",
    "            print(my_list)\n",
    "            targets.append(my_list)\n",
    "        \n",
    "    X,Y, image = get_layers(extent,size,targets,focalplane)\n",
    "  \n",
    "    if np.max(image) <= layers[filter]-1:\n",
    "        print('layer count {} < {}'.format(np.max(image),layers[filter]))\n",
    "    else:\n",
    "        print('Number of layers {} >= {}'.format(np.max(image),layers[filter]))\n",
    "    \n",
    "    plot_layers(X,Y,image,euc_ra[0],euc_dec[0],ra_width,filter_name=filter,plot_base_name='new_target_pointings_')"
   ]
  },
  {
   "cell_type": "code",
   "execution_count": 176,
   "id": "9eb4d8a6-c528-49bd-bb24-a543705e0f6c",
   "metadata": {},
   "outputs": [
    {
     "data": {
      "text/plain": [
       "<Figure size 432x288 with 0 Axes>"
      ]
     },
     "execution_count": 176,
     "metadata": {},
     "output_type": "execute_result"
    },
    {
     "data": {
      "image/png": "[encoded data removed]",
      "text/plain": [
       "<Figure size 1728x1296 with 6 Axes>"
      ]
     },
     "metadata": {
      "needs_background": "light"
     },
     "output_type": "display_data"
    },
    {
     "data": {
      "text/plain": [
       "<Figure size 432x288 with 0 Axes>"
      ]
     },
     "metadata": {},
     "output_type": "display_data"
    }
   ],
   "source": [
    "data['seeingFwhmEff'].hist(by=data['filter'], bins=24, alpha=0.5,figsize=(24, 18))\n",
    "plt.xlabel('seeing (arcsec)')\n",
    "plt.figure()"
   ]
  },
  {
   "cell_type": "code",
   "execution_count": 16,
   "id": "fd89806d-0ef9-4667-b126-7d394b9499cf",
   "metadata": {},
   "outputs": [],
   "source": [
    "# Euclid pointings\n",
    "\n",
    "euclid_pointings=[(232.206456, 30.240056),\n",
    " (231.812144, 31.196085),\n",
    " (231.466027, 30.48791),\n",
    " (231.124964, 29.778823)]"
   ]
  },
  {
   "cell_type": "code",
   "execution_count": null,
   "id": "b56174b3-b484-4ee6-b20f-f53fd0ae099a",
   "metadata": {},
   "outputs": [],
   "source": []
  },
  {
   "cell_type": "code",
   "execution_count": 17,
   "id": "union-martin",
   "metadata": {},
   "outputs": [],
   "source": [
    "import healpy as hp"
   ]
  },
  {
   "cell_type": "code",
   "execution_count": 22,
   "id": "trying-fishing",
   "metadata": {},
   "outputs": [
    {
     "ename": "ModuleNotFoundError",
     "evalue": "No module named 'lsst'",
     "output_type": "error",
     "traceback": [
      "\u001b[0;31m---------------------------------------------------------------------------\u001b[0m",
      "\u001b[0;31mModuleNotFoundError\u001b[0m                       Traceback (most recent call last)",
      "\u001b[0;32m<ipython-input-22-60016a8e7e2a>\u001b[0m in \u001b[0;36m<module>\u001b[0;34m\u001b[0m\n\u001b[0;32m----> 1\u001b[0;31m \u001b[0;32mimport\u001b[0m \u001b[0mlsst\u001b[0m\u001b[0;34m.\u001b[0m\u001b[0msims\u001b[0m\u001b[0;34m.\u001b[0m\u001b[0mmaf\u001b[0m\u001b[0;34m.\u001b[0m\u001b[0mdb\u001b[0m \u001b[0;32mas\u001b[0m \u001b[0mdb\u001b[0m\u001b[0;34m\u001b[0m\u001b[0;34m\u001b[0m\u001b[0m\n\u001b[0m",
      "\u001b[0;31mModuleNotFoundError\u001b[0m: No module named 'lsst'"
     ]
    }
   ],
   "source": [
    "import lsst.sims.maf.db as db"
   ]
  },
  {
   "cell_type": "markdown",
   "id": "inside-services",
   "metadata": {},
   "source": [
    "## Evaluate layering per band\n",
    "### - Need size of Rubin focal plane in sky coordinates\n",
    "### - Construct grid and increase pixel count for each Rubin focal plane that intersects pixel"
   ]
  },
  {
   "cell_type": "code",
   "execution_count": 20,
   "id": "close-beast",
   "metadata": {},
   "outputs": [
    {
     "data": {
      "text/plain": [
       "array([[-1.05833333, -1.05833333],\n",
       "       [-1.76388889, -1.05833333],\n",
       "       [-1.76388889,  1.05833333],\n",
       "       [-1.05833333,  1.05833333],\n",
       "       [-1.05833333,  1.76388889],\n",
       "       [ 1.05833333,  1.76388889],\n",
       "       [ 1.05833333,  1.05833333],\n",
       "       [ 1.76388889,  1.05833333],\n",
       "       [ 1.76388889, -1.05833333],\n",
       "       [ 1.05833333, -1.05833333],\n",
       "       [ 1.05833333, -1.76388889],\n",
       "       [-1.05833333, -1.76388889],\n",
       "       [-1.05833333, -1.05833333]])"
      ]
     },
     "execution_count": 20,
     "metadata": {},
     "output_type": "execute_result"
    }
   ],
   "source": [
    "focalplane"
   ]
  },
  {
   "cell_type": "code",
   "execution_count": 21,
   "id": "0922f096-479e-4335-9118-74d34cd1502c",
   "metadata": {},
   "outputs": [
    {
     "data": {
      "image/png": "[encoded data removed]",
      "text/plain": [
       "<Figure size 432x288 with 1 Axes>"
      ]
     },
     "metadata": {
      "needs_background": "light"
     },
     "output_type": "display_data"
    }
   ],
   "source": [
    "focalplane[0]\n",
    "for pt in focalplane:\n",
    "    plt.plot(pt[0],pt[1], 'x')"
   ]
  },
  {
   "cell_type": "markdown",
   "id": "third-people",
   "metadata": {},
   "source": [
    "## Calculate the Zeropoints per Visit"
   ]
  },
  {
   "cell_type": "code",
   "execution_count": 19,
   "id": "fce6d628-eba5-4ada-bd13-c9dd4e0b0819",
   "metadata": {},
   "outputs": [
    {
     "data": {
      "image/png": "[encoded data removed]",
      "text/plain": [
       "<Figure size 432x288 with 1 Axes>"
      ]
     },
     "metadata": {
      "needs_background": "light"
     },
     "output_type": "display_data"
    }
   ],
   "source": [
    "from speclite.filters import load_filter, ab_reference_flux\n",
    "import speclite\n",
    "lsst = speclite.filters.load_filters('lsst2019-*')\n",
    "\n",
    "speclite.filters.plot_filters(\n",
    "    lsst, wavelength_limits=(3000, 11000), legend_loc='upper left')"
   ]
  },
  {
   "cell_type": "code",
   "execution_count": 20,
   "id": "b2701d0a-825a-458e-a8e4-cc19e4db0fd5",
   "metadata": {},
   "outputs": [
    {
     "data": {
      "image/png": "[encoded data removed]",
      "text/plain": [
       "<Figure size 432x288 with 1 Axes>"
      ]
     },
     "metadata": {
      "needs_background": "light"
     },
     "output_type": "display_data"
    }
   ],
   "source": [
    "lsst2 = speclite.filters.load_filters('lsst2016-*')\n",
    "\n",
    "speclite.filters.plot_filters(\n",
    "    lsst2, wavelength_limits=(3000, 11000), legend_loc='upper left')"
   ]
  },
  {
   "cell_type": "code",
   "execution_count": 24,
   "id": "262b7663-bb09-496f-b435-e5e3c15c3dcc",
   "metadata": {},
   "outputs": [
    {
     "data": {
      "image/png": "[encoded data removed]",
      "text/plain": [
       "<Figure size 432x288 with 1 Axes>"
      ]
     },
     "metadata": {
      "needs_background": "light"
     },
     "output_type": "display_data"
    }
   ],
   "source": [
    "lsst2 = speclite.filters.load_filters('lsst2021-*')\n",
    "\n",
    "speclite.filters.plot_filters(\n",
    "    lsst2, wavelength_limits=(3000, 11000), legend_loc='upper left')"
   ]
  },
  {
   "cell_type": "code",
   "execution_count": 36,
   "id": "32609b69-236e-4d2f-afb3-c08e9904b5c0",
   "metadata": {},
   "outputs": [],
   "source": [
    "from speclite.filters import load_filter, ab_reference_flux\n",
    "from astropy import units as u\n",
    "\n",
    "def calculate_zero_point(band_name, B0=24):\n",
    "    filt = load_filter(band_name)\n",
    "    return (filt.convolve_with_function(ab_reference_flux) *\n",
    "            10 ** (-0.4 * B0)).to(1 / (u.s * u.m**2))"
   ]
  },
  {
   "cell_type": "code",
   "execution_count": 77,
   "id": "26297ce5-687b-476f-bb66-f5a84e4edd6a",
   "metadata": {},
   "outputs": [],
   "source": [
    "lss2019_zp={}\n",
    "lss2016_zp={}\n",
    "lss2021_zp={}\n",
    "filters='ugrizy'\n",
    "eff_area= 32.4\n",
    "for filter in filters:\n",
    "    lss2019_zp[filter]=eff_area*calculate_zero_point('lsst2019-{}'.format(filter))\n",
    "    lss2016_zp[filter]=eff_area*calculate_zero_point('lsst2016-{}'.format(filter))\n",
    "    lss2021_zp[filter]=eff_area*calculate_zero_point('lsst2021-{}'.format(filter))\n",
    "    \n",
    "                              "
   ]
  },
  {
   "cell_type": "code",
   "execution_count": 78,
   "id": "9652efa3-f0ac-414f-b1ec-1dae334304d3",
   "metadata": {},
   "outputs": [
    {
     "name": "stdout",
     "output_type": "stream",
     "text": [
      "u 9.16 9.16 14.87\n",
      "g 50.7 50.7 54.38\n",
      "r 43.7 43.7 44.91\n",
      "i 32.36 32.36 34.4\n",
      "z 22.68 22.68 23.96\n",
      "y 10.58 10.58 11.57\n"
     ]
    }
   ],
   "source": [
    "for filter in filters:\n",
    "    print(filter, round(lss2016_zp[filter].value,2), round(lss2019_zp[filter].value,2), round(lss2021_zp[filter].value,2))"
   ]
  },
  {
   "cell_type": "code",
   "execution_count": 85,
   "id": "757cb2ef-9332-4ccd-9bb6-d1821678779f",
   "metadata": {},
   "outputs": [
    {
     "name": "stdout",
     "output_type": "stream",
     "text": [
      "u 26.40474 26.93078\n",
      "g 28.26252 28.3386\n",
      "r 28.1012 28.13086\n",
      "i 27.77502 27.8414\n",
      "z 27.38911 27.44872\n",
      "y 26.56121 26.65833\n"
     ]
    }
   ],
   "source": [
    "WLD2016_zeropoints = np.array([9.16, 50.7, 43.7, 32.36, 22.68, 10.58])\n",
    "WLD2021_zeropoints = np.array([14.87, 54.38, 44.91, 34.4, 23.96, 11.57])\n",
    "\n",
    "zp2016 = 2.5*np.log10(WLD2016_zeropoints*10**(-0.4*(0-24)))\n",
    "zp2021 = 2.5*np.log10(WLD2021_zeropoints*10**(-0.4*(0-24)))\n",
    "\n",
    "for i in range(6):\n",
    "    params[f'zenith_fwhm_{bands[i]}']=fwhm_list[i]\n",
    "    params[f'central_wavelength_{bands[i]}']=central_wavelength[i]\n",
    "    params[f'sky_brightness_{bands[i]}']=sky_brightness[i]\n",
    "    params[f'zero_point2016_{bands[i]}'] = zp2016[i]\n",
    "    params[f'zero_point2021_{bands[i]}'] = zp2021[i]\n",
    "   \n",
    "    print(bands[i], round(params[f'zero_point2016_{bands[i]}'],5), round(params[f'zero_point2021_{bands[i]}'],5))"
   ]
  },
  {
   "cell_type": "code",
   "execution_count": null,
   "id": "7e96bb3e-3481-4d62-a858-76f6ea812e7f",
   "metadata": {},
   "outputs": [],
   "source": []
  },
  {
   "cell_type": "code",
   "execution_count": 23,
   "id": "e1a529a4-6356-4dde-9fce-951e15a2767f",
   "metadata": {},
   "outputs": [
    {
     "data": {
      "text/plain": [
       "\u001b[0;31mType:\u001b[0m        FilterSequence\n",
       "\u001b[0;31mString form:\u001b[0m <speclite.filters.FilterSequence object at 0x16aeabd60>\n",
       "\u001b[0;31mLength:\u001b[0m      6\n",
       "\u001b[0;31mFile:\u001b[0m        /usr/local/lib/python3.9/site-packages/speclite/filters.py\n",
       "\u001b[0;31mDocstring:\u001b[0m  \n",
       "Immutable sequence of filter responses.\n",
       "\n",
       "Sequences should normally be created by calling :func:`load_filters`.\n",
       "Objects implement the `immutable sequence\n",
       "<https://docs.python.org/2/library/collections.html\n",
       "#collections-abstract-base-classes>`__ API, in addition to the methods\n",
       "listed here.\n",
       "\n",
       "A filter sequence's :meth:`get_ab_maggies` and :meth:`get_ab_magnitudes`\n",
       "methods return their results in a :class:`Table <astropy.table.Table>` and\n",
       "are convenient for calculating convolutions in several bands for\n",
       "multiple spectra.  For example, given the following 4 (identical) spectra\n",
       "covering the SDSS filters:\n",
       "\n",
       ">>> num_spectra, num_pixels = 4, 500\n",
       ">>> wlen = np.linspace(2000, 12000, num_pixels) * default_wavelength_unit\n",
       ">>> flux = np.ones((num_spectra, num_pixels)) * 1e-17 * default_flux_unit\n",
       "\n",
       "We can now calculate their magnitudes in all bands with one function:\n",
       "\n",
       ">>> sdss = load_filters('sdss2010-*')\n",
       ">>> mags = sdss.get_ab_magnitudes(flux, wlen)\n",
       "\n",
       "Refer to the :mod:`astropy docs <astropy.table>` for details on working\n",
       "with Tables.  For example, to pretty-print the magnitudes with a\n",
       "precision of 0.001:\n",
       "\n",
       ">>> formats = dict((n, '%.3f') for n in sdss.names)\n",
       ">>> mags.write(None, format='ascii.fixed_width', formats=formats)\n",
       "| sdss2010-u | sdss2010-g | sdss2010-r | sdss2010-i | sdss2010-z |\n",
       "|     22.340 |     21.742 |     21.141 |     20.718 |     20.338 |\n",
       "|     22.340 |     21.742 |     21.141 |     20.718 |     20.338 |\n",
       "|     22.340 |     21.742 |     21.141 |     20.718 |     20.338 |\n",
       "|     22.340 |     21.742 |     21.141 |     20.718 |     20.338 |\n",
       "\n",
       "Parameters\n",
       "----------\n",
       "responses : iterable\n",
       "    Response objects to include in this sequence. Objects are copied to\n",
       "    an internal list.\n",
       "\n",
       "Attributes\n",
       "----------\n",
       "names : list of str\n",
       "    List of the filter response names in this sequence, with the format\n",
       "    \"<group_name>-<band_name>\".\n",
       "effective_wavelengths : astropy.units.Quantity\n",
       "    List of the effective wavelengths for the filter responses in this\n",
       "    sequence, with the default wavelength units.\n"
      ]
     },
     "metadata": {},
     "output_type": "display_data"
    }
   ],
   "source": [
    "lsst?"
   ]
  },
  {
   "cell_type": "code",
   "execution_count": null,
   "id": "764c8e2e-2e06-40dd-97a5-4182aee2d162",
   "metadata": {},
   "outputs": [],
   "source": []
  },
  {
   "cell_type": "code",
   "execution_count": null,
   "id": "2bcc2c88-e1c8-4896-b2a4-db5a8b876ac2",
   "metadata": {},
   "outputs": [],
   "source": []
  },
  {
   "cell_type": "code",
   "execution_count": null,
   "id": "52a1dbc4-24b1-4ef7-b5e8-8713d23b1a8a",
   "metadata": {},
   "outputs": [],
   "source": []
  },
  {
   "cell_type": "code",
   "execution_count": null,
   "id": "8edc2f90-29f1-40c8-aa76-374f752c6119",
   "metadata": {},
   "outputs": [],
   "source": [
    "# LOAD throughputs v14 and v1.7\n",
    "#from astropy.io import ascii\n",
    "#filters = 'ugrizy'\n",
    "#lsst2021={}\n",
    "#t={}\n",
    "#for filter in filters:\n",
    "#    lsst2021[filter]='/Users/jenniferpollack/Projects/OU-SIM/throughput-curves/v1.7/lsst_{}_v1.7.dat'.format(filter)\n",
    "#    t[filter] = ascii.read(lsst2021[filter])"
   ]
  },
  {
   "cell_type": "code",
   "execution_count": 22,
   "id": "c1cfdaf1-7580-48e8-a31f-8f11d41dec6b",
   "metadata": {},
   "outputs": [],
   "source": [
    "#for filter in filters:\n",
    "#t[filter].write('lsst2021-{}.ecsv'.format(filter))\n",
    "#t_r.write('lsstv1p4-r.ecsv')"
   ]
  },
  {
   "cell_type": "code",
   "execution_count": 65,
   "id": "revolutionary-veteran",
   "metadata": {},
   "outputs": [],
   "source": [
    "import galsim\n",
    "# Values from Ivezic et al 2019\n",
    "params = dict()\n",
    "bands = ['u', 'g', 'r', 'i', 'z', 'y']\n",
    "fwhm_list = [0.81, 0.77, 0.73, 0.71, 0.69, 0.68]\n",
    "sky_brightness = [22.99, 22.26, 21.20, 20.48, 19.60, 18.61]\n",
    "ext = [0.491, 0.213, 0.126, 0.096, 0.069, 0.170]\n",
    "central_wavelength = [3592.13, 4789.98, 6199.52, 7528.51, 8689.83, 9674.05]\n",
    "WLD_zeropoints = np.array([9.16, 50.70, 43.70, 32.36, 22.68, 10.58]) # Values from WLD using lsst-throughputs\n",
    "zp = 2.5*np.log10(WLD_zeropoints*10**(-0.4*(0-24)))\n",
    "for i in range(6):\n",
    "    params[f'zenith_fwhm_{bands[i]}']=fwhm_list[i]\n",
    "    params[f'central_wavelength_{bands[i]}']=central_wavelength[i]\n",
    "    params[f'sky_brightness_{bands[i]}']=sky_brightness[i]\n",
    "    params[f'zero_point_{bands[i]}'] = zp[i]\n",
    "params['mirror_diameter']=8.36\n",
    "params['effective_area']=32.4\n",
    "params['pixel_scale']=0.2\n",
    "params['X']=1.2\n",
    "def get_psf(band, params=params):\n",
    "    zenith_fwhm = params[f'zenith_fwhm_{band}']\n",
    "    central_wavelength = params[f'central_wavelength_{band}']\n",
    "    mirror_diameter = params['mirror_diameter']\n",
    "    effective_area = params['effective_area']\n",
    "    px_scale = params['pixel_scale']\n",
    "    sky_brightness = params[f'sky_brightness_{band}']\n",
    "    X = params['X']\n",
    "    atmospheric_psf_fwhm = zenith_fwhm*X**0.6 # Expected FWHM for the atmospheric PSF given the airmass\n",
    "    atmospheric_psf_model = galsim.Kolmogorov(fwhm = atmospheric_psf_fwhm) # Atmospheric part\n",
    "    # Set up the optical part\n",
    "    lambda_over_diameter = 3600*math.degrees(1e-10*central_wavelength/mirror_diameter) # This is tells you the diffraction limit\n",
    "    area_ratio = effective_area/(math.pi*(0.5*mirror_diameter)**2) \n",
    "    obscuration_fraction = math.sqrt(1 - area_ratio) # Part of the mirror is obscured due to the presence of the secondary (that blocks light)\n",
    "    optical_psf_model = galsim.Airy(lam_over_diam = lambda_over_diameter, obscuration = obscuration_fraction) # Optics part of the PSF\n",
    "    psf_model = galsim.Convolve(atmospheric_psf_model,optical_psf_model) # total PSF\n",
    "    return psf_model\n",
    "def get_flux(mag, band, exposure_time, gain=1.0):\n",
    "    #Given a magnitude and a zeropoint with exposure time, convert to flux counts\n",
    "    #the gain can also be specified in GalSim when drawing the profiles\n",
    "    return 10**(-0.4*(mag-params[f'zero_point_{band}']))*exposure_time*gain"
   ]
  },
  {
   "cell_type": "code",
   "execution_count": 69,
   "id": "74acdfdd-7b3a-47b9-9977-1efe23a650bc",
   "metadata": {},
   "outputs": [
    {
     "data": {
      "text/plain": [
       "60404.366294850384"
      ]
     },
     "execution_count": 69,
     "metadata": {},
     "output_type": "execute_result"
    }
   ],
   "source": [
    "data['observationStartMJD'][0]"
   ]
  },
  {
   "cell_type": "code",
   "execution_count": 66,
   "id": "liquid-benefit",
   "metadata": {},
   "outputs": [
    {
     "name": "stdout",
     "output_type": "stream",
     "text": [
      "u 26.40473868416963\n",
      "g 28.262519898333345\n",
      "r 28.10120359242606\n",
      "i 27.775021282350593\n",
      "z 27.389107625552178\n",
      "y 26.561214169247922\n"
     ]
    }
   ],
   "source": [
    "for i in range(6):\n",
    "    print(bands[i], params[f'zero_point_{bands[i]}'])"
   ]
  },
  {
   "cell_type": "code",
   "execution_count": 67,
   "id": "35af3d7c-e9ab-4220-8024-0516f7fa8845",
   "metadata": {},
   "outputs": [],
   "source": [
    "def create_target(data):\n",
    "    from astropy.Time import Time\n",
    "    \n",
    "    return {\n",
    "        'Survey': data['Survey'],\n",
    "        'FilterName': data['FilterName'],\n",
    "        'Id': int(data['observationId']),\n",
    "        'RA': data['fieldRA'],\n",
    "        'Dec': data['fieldDec'],\n",
    "        'ExpTime': data['ExpTime'],\n",
    "        'SeeingFWHM': data['SeeingFWHMEff'],\n",
    "        'PSFFile': None,\n",
    "        'MJD-OBS': data['MJD-OBS'],\n",
    "        'DATE': Time(data['observationStartMJD'], format='mjd'),\n",
    "        'Zeropoints': gen_zeropoints(filter_name),\n",
    "        'BackgroundMags': gen_background_mags(filter_name),\n",
    "        'Rotskypos': 0\n",
    "    }\n",
    "\n",
    "\n",
    "t= Time(data_full['observationStartMJD'], format='mjd')"
   ]
  },
  {
   "cell_type": "code",
   "execution_count": 101,
   "id": "dc299dff-0d87-4581-9d2b-cab622affe58",
   "metadata": {},
   "outputs": [
    {
     "name": "stdout",
     "output_type": "stream",
     "text": [
      "330810.49182116863\n",
      "-0.05569098677788063\n"
     ]
    },
    {
     "data": {
      "text/plain": [
       "[27.302033937842662,\n",
       " 27.368804661512538,\n",
       " 27.350422175141258,\n",
       " 27.387619798606366,\n",
       " 27.427056775992522,\n",
       " 27.323476066059218,\n",
       " 27.44019308192227,\n",
       " 27.347764753709082,\n",
       " 27.361460451076724,\n",
       " 27.44273585906672,\n",
       " 27.418471693609852,\n",
       " 27.235443573940024,\n",
       " 27.38206533265948,\n",
       " 27.343088537880824,\n",
       " 27.416372012192838,\n",
       " 27.405283402600872,\n",
       " 27.42863420788131,\n",
       " 27.43444652104866,\n",
       " 27.33322919426279,\n",
       " 27.385040395725355,\n",
       " 27.39948094731791,\n",
       " 27.435174892810853,\n",
       " 27.354932963898147,\n",
       " 27.36449528621506,\n",
       " 27.379468041353643,\n",
       " 27.327653730631337,\n",
       " 27.414585432740132,\n",
       " 27.47986554662985,\n",
       " 27.4000199950916,\n",
       " 27.395820814463317,\n",
       " 27.4933314938021,\n",
       " 27.390394141632022,\n",
       " 27.368581429372664,\n",
       " 27.36670295024283,\n",
       " 27.37936990922823,\n",
       " 27.44915302557345,\n",
       " 27.3951835859206,\n",
       " 27.3329565745541,\n",
       " 27.487594890701168,\n",
       " 27.4363670894933,\n",
       " 27.395911204315492,\n",
       " 27.39533995737384,\n",
       " 27.414207435552857,\n",
       " 27.439552407343964,\n",
       " 27.51302396165782,\n",
       " 27.41883411308218,\n",
       " 27.31813090331879,\n",
       " 27.464646050374633,\n",
       " 27.471231854536427,\n",
       " 27.206380083061962,\n",
       " 27.35939927347229,\n",
       " 27.351417015727193,\n",
       " 27.39763180688624,\n",
       " 27.447651317954474,\n",
       " 27.410372618953716,\n",
       " 27.377575734727245,\n",
       " 27.42752876979988,\n",
       " 27.3844651388096,\n",
       " 27.244424788166974,\n",
       " 27.324871316740243,\n",
       " 27.401384585875793,\n",
       " 27.383402696974898,\n",
       " 27.351421371986753,\n",
       " 27.422316093881598,\n",
       " 27.46599709602301,\n",
       " 27.475007927019814,\n",
       " 27.367338395989577,\n",
       " 27.3161795273872,\n",
       " 27.392577938854505,\n",
       " 27.491166006291525,\n",
       " 27.472705877199235,\n",
       " 27.476389894279897,\n",
       " 27.34998050331431,\n",
       " 27.37572172069696,\n",
       " 27.36318679943766,\n",
       " 27.400648468033634,\n",
       " 27.364784226432626,\n",
       " 27.419577456924483,\n",
       " 27.369427557346793,\n",
       " 27.407165393354944,\n",
       " 27.41170855561716,\n",
       " 27.346829851218253,\n",
       " 27.376950228817638,\n",
       " 27.331728072712284,\n",
       " 27.45569644614138,\n",
       " 27.323394101899343,\n",
       " 27.421486859418383,\n",
       " 27.356953372348038,\n",
       " 27.31325142031818,\n",
       " 27.39560289055195,\n",
       " 27.403322621366474,\n",
       " 27.435463239760313,\n",
       " 27.49273837772165,\n",
       " 27.471905992669726,\n",
       " 27.50184492559841,\n",
       " 27.41059033849637,\n",
       " 27.384105176881715,\n",
       " 27.400929795525748,\n",
       " 27.262990324638434,\n",
       " 27.431076552710316,\n",
       " 27.38472323981268,\n",
       " 27.42784221470209,\n",
       " 27.371256186107853,\n",
       " 27.26335225622552,\n",
       " 27.39696637295828,\n",
       " 27.411082469614627,\n",
       " 27.33415397230952,\n",
       " 27.35577402006357,\n",
       " 27.386180674816497,\n",
       " 27.394857704269373,\n",
       " 27.381193550845484,\n",
       " 27.4195892011052,\n",
       " 27.406089808888417,\n",
       " 27.351524895429755,\n",
       " 27.366022554798246,\n",
       " 27.41664058326341,\n",
       " 27.403692951076877,\n",
       " 27.406637938711043,\n",
       " 27.406770070475474,\n",
       " 27.32718608650517,\n",
       " 27.413556351353765,\n",
       " 27.39420589730935,\n",
       " 27.267442012655096,\n",
       " 27.290227544123187,\n",
       " 27.39393192246757,\n",
       " 27.355835868160757,\n",
       " 27.360595454410337,\n",
       " 27.458615351697524,\n",
       " 27.440473079175042,\n",
       " 27.35796096514021,\n",
       " 27.296134775294238,\n",
       " 27.390043194638455,\n",
       " 27.397618977547147,\n",
       " 27.40582441140065,\n",
       " 27.319036443784686,\n",
       " 27.479733840116022,\n",
       " 27.50501473498037,\n",
       " 27.433247535986457,\n",
       " 27.42496538724885,\n",
       " 27.298476620001296,\n",
       " 27.29162932838928,\n",
       " 27.425998711702814,\n",
       " 27.382857083187545,\n",
       " 27.37523801604714,\n",
       " 27.358860765443275,\n",
       " 27.38760326200796,\n",
       " 27.37304007793664,\n",
       " 27.4022868412713,\n",
       " 27.31139173610663,\n",
       " 27.397273640485558,\n",
       " 27.463358785269996,\n",
       " 27.366067702401196,\n",
       " 27.380587569401555,\n",
       " 27.3397084229839,\n",
       " 27.371182478147894,\n",
       " 27.398027165301315,\n",
       " 27.312241281769555,\n",
       " 27.419408698122382,\n",
       " 27.324387375555887,\n",
       " 27.448261347792204,\n",
       " 27.307310702012753,\n",
       " 27.446293704237068,\n",
       " 27.336021572106738,\n",
       " 27.35558987578572,\n",
       " 27.300312589928307,\n",
       " 27.36397209082645,\n",
       " 27.27899717295155,\n",
       " 27.39582860506606,\n",
       " 27.43332062721015,\n",
       " 27.40829824055182,\n",
       " 27.399326316498716,\n",
       " 27.462256083932957,\n",
       " 27.498518778967064,\n",
       " 27.435714260904685,\n",
       " 27.32291142562516,\n",
       " 27.41200259972443,\n",
       " 27.44256340788131,\n",
       " 27.39007601289566,\n",
       " 27.429816515462008,\n",
       " 27.38554005568982,\n",
       " 27.37967374137678,\n",
       " 27.464632021817717,\n",
       " 27.36932971255255,\n",
       " 27.427221611499906,\n",
       " 27.406826949862864,\n",
       " 27.28318852382112,\n",
       " 27.471286761599675,\n",
       " 27.353427540317888,\n",
       " 27.35907754649383]"
      ]
     },
     "execution_count": 101,
     "metadata": {},
     "output_type": "execute_result"
    }
   ],
   "source": [
    "# Using area-weighted effective aperture over FOV\n",
    "# from https://confluence.lsstcorp.org/display/LKB/LSST+Key+Numbers\n",
    "_rubin_area = 0.25 * np.pi * 649**2    \n",
    "print(_rubin_area)\n",
    "delta_zp = 2.5*np.log10(0.95)\n",
    "print(delta_zp)\n",
    "list(np.random.randn(189)*delta_zp + 27.389107625552178)"
   ]
  },
  {
   "cell_type": "code",
   "execution_count": null,
   "id": "electrical-feeling",
   "metadata": {},
   "outputs": [],
   "source": [
    "#def get_targets_by_filter(targets, filter_name):\n",
    "#    return [copy.deepcopy(target) for target in targets if target['FilterName'] == filter_name]\n",
    "\n",
    "for filter_name in 'ugriz':\n",
    "    print(filter_name, ':', len(get_targets_by_filter(targets, filter_name)))\n",
    "    \n",
    "# Using area-weighted effective aperture over FOV\n",
    "# from https://confluence.lsstcorp.org/display/LKB/LSST+Key+Numbers\n",
    "_rubin_area = 0.25 * np.pi * 649**2     \n",
    "    \n",
    "# Get the mean and stddev of Zeropoints and BackgroundMags for each filter\n",
    "zp_mean = {}\n",
    "zp_std = {}\n",
    "bg_mean = {}\n",
    "bg_std = {}\n",
    "\n",
    "for target in targets:\n",
    "    filter_name = target['FilterName'][-1:]\n",
    "    zp = target['Zeropoints']\n",
    "    bg = target['BackgroundMags']\n",
    "    zp_mean[filter_name] = params[f'zero_point_{bands[filter_name]}']\n",
    "    zp_std[filter_name] = 0.010\n",
    "    bg_mean[filter_name] = np.mean(bg)\n",
    "    bg_std[filter_name] = np.std(bg)\n",
    "\n",
    "def gen_zeropoints(filter_name):\n",
    "    return list(np.around(np.random.randn(189)*zp_std[filter_name] + zp_mean[filter_name], 3))\n",
    "\n",
    "def gen_background_mags(filter_name):\n",
    "    return list(np.around(np.random.randn(189)*bg_std[filter_name] + bg_mean[filter_name], 3))"
   ]
  }
 ],
 "metadata": {
  "kernelspec": {
   "display_name": "lsst_sim_distrib",
   "language": "python",
   "name": "lsst_sim_distrib"
  },
  "language_info": {
   "codemirror_mode": {
    "name": "ipython",
    "version": 3
   },
   "file_extension": ".py",
   "mimetype": "text/x-python",
   "name": "python",
   "nbconvert_exporter": "python",
   "pygments_lexer": "ipython3",
   "version": "3.8.8"
  }
 },
 "nbformat": 4,
 "nbformat_minor": 5
}
